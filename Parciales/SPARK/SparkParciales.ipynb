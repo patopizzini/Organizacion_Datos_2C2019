{
 "cells": [
  {
   "cell_type": "markdown",
   "metadata": {},
   "source": [
    "## Primer Cuatrimestre de 2019. Examen parcial, primera oportunidad"
   ]
  },
  {
   "cell_type": "code",
   "execution_count": 11,
   "metadata": {},
   "outputs": [
    {
     "name": "stdout",
     "output_type": "stream",
     "text": [
      "[Row(_c0=u'1', _c1=u'NOMBRE_1', _c2=u'CABA', _c3=u'CABA', _c4=u'0,5', _c5=u'0,5'), Row(_c0=u'2', _c1=u'NOMBRE_2', _c2=u'CABA', _c3=u'CABA', _c4=u'0,5', _c5=u'0,5'), Row(_c0=u'3', _c1=u'NOMBRE_3', _c2=u'CABA', _c3=u'CABA', _c4=u'0,5', _c5=u'0,5'), Row(_c0=u'4', _c1=u'NOMBRE_4', _c2=u'BUENOSAIRES', _c3=u'LAPLATA', _c4=u'0,5', _c5=u'0,5'), Row(_c0=u'5', _c1=u'NOMBRE_5', _c2=u'SANTAFE', _c3=u'ROSARIO', _c4=u'0,5', _c5=u'0,5')]\n"
     ]
    }
   ],
   "source": [
    "df1 = spark.read.csv(\"bases.csv\",header=False,sep=\";\");\n",
    "print(df1.collect())"
   ]
  },
  {
   "cell_type": "code",
   "execution_count": 22,
   "metadata": {},
   "outputs": [
    {
     "name": "stdout",
     "output_type": "stream",
     "text": [
      "[Row(_c0=u'10/10/2019', _c1=u'1', _c2=u'25', _c3=u'30', _c4=u'35', _c5=u'35', _c6=u'35'), Row(_c0=u'11/10/2019', _c1=u'1', _c2=u'20', _c3=u'30', _c4=u'35', _c5=u'35', _c6=u'35'), Row(_c0=u'10/10/2019', _c1=u'1', _c2=u'25', _c3=u'30', _c4=u'35', _c5=u'35', _c6=u'35'), Row(_c0=u'10/10/2018', _c1=u'4', _c2=u'25', _c3=u'30', _c4=u'35', _c5=u'35', _c6=u'35'), Row(_c0=u'11/10/2018', _c1=u'4', _c2=u'20', _c3=u'30', _c4=u'35', _c5=u'35', _c6=u'35'), Row(_c0=u'12/10/2018', _c1=u'4', _c2=u'30', _c3=u'30', _c4=u'35', _c5=u'35', _c6=u'35'), Row(_c0=u'10/11/2018', _c1=u'4', _c2=u'25', _c3=u'30', _c4=u'35', _c5=u'35', _c6=u'35'), Row(_c0=u'11/11/2018', _c1=u'4', _c2=u'20', _c3=u'30', _c4=u'35', _c5=u'35', _c6=u'35'), Row(_c0=u'12/11/2018', _c1=u'4', _c2=u'15', _c3=u'30', _c4=u'35', _c5=u'35', _c6=u'35'), Row(_c0=u'10/12/2018', _c1=u'4', _c2=u'10', _c3=u'30', _c4=u'35', _c5=u'35', _c6=u'35'), Row(_c0=u'11/12/2018', _c1=u'4', _c2=u'10', _c3=u'30', _c4=u'35', _c5=u'35', _c6=u'35'), Row(_c0=u'12/12/2018', _c1=u'4', _c2=u'10', _c3=u'30', _c4=u'35', _c5=u'35', _c6=u'35'), Row(_c0=u'13/12/2018', _c1=u'4', _c2=u'10', _c3=u'30', _c4=u'35', _c5=u'35', _c6=u'35'), Row(_c0=u'10/10/2019', _c1=u'1', _c2=u'25', _c3=u'30', _c4=u'35', _c5=u'35', _c6=u'35'), Row(_c0=u'10/10/2019', _c1=u'1', _c2=u'25', _c3=u'30', _c4=u'35', _c5=u'35', _c6=u'35'), Row(_c0=u'10/10/2019', _c1=u'1', _c2=u'25', _c3=u'30', _c4=u'35', _c5=u'35', _c6=u'35')]\n"
     ]
    }
   ],
   "source": [
    "df2 = spark.read.csv(\"mediciones.csv\",header=False,sep=\";\");\n",
    "print(df2.collect())"
   ]
  },
  {
   "cell_type": "markdown",
   "metadata": {},
   "source": [
    "Posible solución.\n",
    "\n",
    "a. Map por ID_BASE en ambos RDD.\n",
    "\n",
    "b.Filter en RDD bases por PCIA = Buenos Aires.\n",
    "\n",
    "c.Filter en RDD mediciones por TIMESTAMP entre 01-12-2017 y 31-12-2018.\n",
    "\n",
    "d.Inner join entre ambos RDD.\n",
    "\n",
    "e.MAP por ID_BASE, YEAR(TIMESTAMP), MONTH(TIMESTAMP).\n",
    "\n",
    "f.ReduceByKey para calcular suma y contador.\n",
    "\n",
    "g.MAP para cambiar la clave a ID_BASE y aprovechar para hacer el calculo del promedio. En los values debe\n",
    "quedar el promedio, el nombre de la base y el mes/año.\n",
    "\n",
    "h.GroupByKey\n",
    "\n",
    "i.Filter para comparar que la tasa de un mes a otro haya variado en 50%.\n",
    "\n",
    "j.Map para quedarse con ID_BASE y nombre.\n",
    "\n",
    "Map innecesarios, descuento de 3 puntos. Filter tardíos"
   ]
  },
  {
   "cell_type": "code",
   "execution_count": 88,
   "metadata": {},
   "outputs": [],
   "source": [
    "bases = df1.rdd\n",
    "mediciones = df2.rdd"
   ]
  },
  {
   "cell_type": "code",
   "execution_count": 89,
   "metadata": {},
   "outputs": [
    {
     "data": {
      "text/plain": [
       "[Row(_c0=u'1', _c1=u'NOMBRE_1', _c2=u'CABA', _c3=u'CABA', _c4=u'0,5', _c5=u'0,5'),\n",
       " Row(_c0=u'2', _c1=u'NOMBRE_2', _c2=u'CABA', _c3=u'CABA', _c4=u'0,5', _c5=u'0,5'),\n",
       " Row(_c0=u'3', _c1=u'NOMBRE_3', _c2=u'CABA', _c3=u'CABA', _c4=u'0,5', _c5=u'0,5'),\n",
       " Row(_c0=u'4', _c1=u'NOMBRE_4', _c2=u'BUENOSAIRES', _c3=u'LAPLATA', _c4=u'0,5', _c5=u'0,5'),\n",
       " Row(_c0=u'5', _c1=u'NOMBRE_5', _c2=u'SANTAFE', _c3=u'ROSARIO', _c4=u'0,5', _c5=u'0,5')]"
      ]
     },
     "execution_count": 89,
     "metadata": {},
     "output_type": "execute_result"
    }
   ],
   "source": [
    "bases.collect()"
   ]
  },
  {
   "cell_type": "code",
   "execution_count": 90,
   "metadata": {},
   "outputs": [
    {
     "data": {
      "text/plain": [
       "[Row(_c0=u'10/10/2019', _c1=u'1', _c2=u'25', _c3=u'30', _c4=u'35', _c5=u'35', _c6=u'35'),\n",
       " Row(_c0=u'11/10/2019', _c1=u'1', _c2=u'20', _c3=u'30', _c4=u'35', _c5=u'35', _c6=u'35'),\n",
       " Row(_c0=u'10/10/2019', _c1=u'1', _c2=u'25', _c3=u'30', _c4=u'35', _c5=u'35', _c6=u'35'),\n",
       " Row(_c0=u'10/10/2018', _c1=u'4', _c2=u'25', _c3=u'30', _c4=u'35', _c5=u'35', _c6=u'35'),\n",
       " Row(_c0=u'11/10/2018', _c1=u'4', _c2=u'20', _c3=u'30', _c4=u'35', _c5=u'35', _c6=u'35'),\n",
       " Row(_c0=u'12/10/2018', _c1=u'4', _c2=u'30', _c3=u'30', _c4=u'35', _c5=u'35', _c6=u'35'),\n",
       " Row(_c0=u'10/11/2018', _c1=u'4', _c2=u'25', _c3=u'30', _c4=u'35', _c5=u'35', _c6=u'35'),\n",
       " Row(_c0=u'11/11/2018', _c1=u'4', _c2=u'20', _c3=u'30', _c4=u'35', _c5=u'35', _c6=u'35'),\n",
       " Row(_c0=u'12/11/2018', _c1=u'4', _c2=u'15', _c3=u'30', _c4=u'35', _c5=u'35', _c6=u'35'),\n",
       " Row(_c0=u'10/12/2018', _c1=u'4', _c2=u'10', _c3=u'30', _c4=u'35', _c5=u'35', _c6=u'35'),\n",
       " Row(_c0=u'11/12/2018', _c1=u'4', _c2=u'10', _c3=u'30', _c4=u'35', _c5=u'35', _c6=u'35'),\n",
       " Row(_c0=u'12/12/2018', _c1=u'4', _c2=u'10', _c3=u'30', _c4=u'35', _c5=u'35', _c6=u'35'),\n",
       " Row(_c0=u'13/12/2018', _c1=u'4', _c2=u'10', _c3=u'30', _c4=u'35', _c5=u'35', _c6=u'35'),\n",
       " Row(_c0=u'10/10/2019', _c1=u'1', _c2=u'25', _c3=u'30', _c4=u'35', _c5=u'35', _c6=u'35'),\n",
       " Row(_c0=u'10/10/2019', _c1=u'1', _c2=u'25', _c3=u'30', _c4=u'35', _c5=u'35', _c6=u'35'),\n",
       " Row(_c0=u'10/10/2019', _c1=u'1', _c2=u'25', _c3=u'30', _c4=u'35', _c5=u'35', _c6=u'35')]"
      ]
     },
     "execution_count": 90,
     "metadata": {},
     "output_type": "execute_result"
    }
   ],
   "source": [
    "mediciones.collect()"
   ]
  },
  {
   "cell_type": "code",
   "execution_count": 91,
   "metadata": {},
   "outputs": [],
   "source": [
    "bases = bases.filter(lambda x: x[2] == 'BUENOSAIRES')"
   ]
  },
  {
   "cell_type": "code",
   "execution_count": 92,
   "metadata": {},
   "outputs": [
    {
     "data": {
      "text/plain": [
       "[Row(_c0=u'4', _c1=u'NOMBRE_4', _c2=u'BUENOSAIRES', _c3=u'LAPLATA', _c4=u'0,5', _c5=u'0,5')]"
      ]
     },
     "execution_count": 92,
     "metadata": {},
     "output_type": "execute_result"
    }
   ],
   "source": [
    "bases.collect()"
   ]
  },
  {
   "cell_type": "code",
   "execution_count": 93,
   "metadata": {},
   "outputs": [],
   "source": [
    "mediciones = mediciones.filter(lambda x: x[0].endswith('2018'))"
   ]
  },
  {
   "cell_type": "code",
   "execution_count": 94,
   "metadata": {},
   "outputs": [
    {
     "data": {
      "text/plain": [
       "[Row(_c0=u'10/10/2018', _c1=u'4', _c2=u'25', _c3=u'30', _c4=u'35', _c5=u'35', _c6=u'35'),\n",
       " Row(_c0=u'11/10/2018', _c1=u'4', _c2=u'20', _c3=u'30', _c4=u'35', _c5=u'35', _c6=u'35'),\n",
       " Row(_c0=u'12/10/2018', _c1=u'4', _c2=u'30', _c3=u'30', _c4=u'35', _c5=u'35', _c6=u'35'),\n",
       " Row(_c0=u'10/11/2018', _c1=u'4', _c2=u'25', _c3=u'30', _c4=u'35', _c5=u'35', _c6=u'35'),\n",
       " Row(_c0=u'11/11/2018', _c1=u'4', _c2=u'20', _c3=u'30', _c4=u'35', _c5=u'35', _c6=u'35'),\n",
       " Row(_c0=u'12/11/2018', _c1=u'4', _c2=u'15', _c3=u'30', _c4=u'35', _c5=u'35', _c6=u'35'),\n",
       " Row(_c0=u'10/12/2018', _c1=u'4', _c2=u'10', _c3=u'30', _c4=u'35', _c5=u'35', _c6=u'35'),\n",
       " Row(_c0=u'11/12/2018', _c1=u'4', _c2=u'10', _c3=u'30', _c4=u'35', _c5=u'35', _c6=u'35'),\n",
       " Row(_c0=u'12/12/2018', _c1=u'4', _c2=u'10', _c3=u'30', _c4=u'35', _c5=u'35', _c6=u'35'),\n",
       " Row(_c0=u'13/12/2018', _c1=u'4', _c2=u'10', _c3=u'30', _c4=u'35', _c5=u'35', _c6=u'35')]"
      ]
     },
     "execution_count": 94,
     "metadata": {},
     "output_type": "execute_result"
    }
   ],
   "source": [
    "mediciones.collect()"
   ]
  },
  {
   "cell_type": "code",
   "execution_count": 95,
   "metadata": {},
   "outputs": [],
   "source": [
    "bases = bases.map(lambda x: (x[0],(x[1],x[3])))"
   ]
  },
  {
   "cell_type": "code",
   "execution_count": 96,
   "metadata": {},
   "outputs": [
    {
     "data": {
      "text/plain": [
       "[(u'4', (u'NOMBRE_4', u'LAPLATA'))]"
      ]
     },
     "execution_count": 96,
     "metadata": {},
     "output_type": "execute_result"
    }
   ],
   "source": [
    "bases.collect()"
   ]
  },
  {
   "cell_type": "code",
   "execution_count": 97,
   "metadata": {},
   "outputs": [],
   "source": [
    "mediciones = mediciones.map(lambda x: (x[1],(x[2],x[0][3:5],x[0][6:10])))"
   ]
  },
  {
   "cell_type": "code",
   "execution_count": 98,
   "metadata": {},
   "outputs": [
    {
     "data": {
      "text/plain": [
       "[(u'4', (u'25', u'10', u'2018')),\n",
       " (u'4', (u'20', u'10', u'2018')),\n",
       " (u'4', (u'30', u'10', u'2018')),\n",
       " (u'4', (u'25', u'11', u'2018')),\n",
       " (u'4', (u'20', u'11', u'2018')),\n",
       " (u'4', (u'15', u'11', u'2018')),\n",
       " (u'4', (u'10', u'12', u'2018')),\n",
       " (u'4', (u'10', u'12', u'2018')),\n",
       " (u'4', (u'10', u'12', u'2018')),\n",
       " (u'4', (u'10', u'12', u'2018'))]"
      ]
     },
     "execution_count": 98,
     "metadata": {},
     "output_type": "execute_result"
    }
   ],
   "source": [
    "mediciones.collect()"
   ]
  },
  {
   "cell_type": "code",
   "execution_count": 99,
   "metadata": {},
   "outputs": [],
   "source": [
    "joins = bases.leftOuterJoin(mediciones)"
   ]
  },
  {
   "cell_type": "code",
   "execution_count": 100,
   "metadata": {},
   "outputs": [
    {
     "data": {
      "text/plain": [
       "[(u'4', ((u'NOMBRE_4', u'LAPLATA'), (u'25', u'10', u'2018'))),\n",
       " (u'4', ((u'NOMBRE_4', u'LAPLATA'), (u'20', u'10', u'2018'))),\n",
       " (u'4', ((u'NOMBRE_4', u'LAPLATA'), (u'30', u'10', u'2018'))),\n",
       " (u'4', ((u'NOMBRE_4', u'LAPLATA'), (u'25', u'11', u'2018'))),\n",
       " (u'4', ((u'NOMBRE_4', u'LAPLATA'), (u'20', u'11', u'2018'))),\n",
       " (u'4', ((u'NOMBRE_4', u'LAPLATA'), (u'15', u'11', u'2018'))),\n",
       " (u'4', ((u'NOMBRE_4', u'LAPLATA'), (u'10', u'12', u'2018'))),\n",
       " (u'4', ((u'NOMBRE_4', u'LAPLATA'), (u'10', u'12', u'2018'))),\n",
       " (u'4', ((u'NOMBRE_4', u'LAPLATA'), (u'10', u'12', u'2018'))),\n",
       " (u'4', ((u'NOMBRE_4', u'LAPLATA'), (u'10', u'12', u'2018')))]"
      ]
     },
     "execution_count": 100,
     "metadata": {},
     "output_type": "execute_result"
    }
   ],
   "source": [
    "joins.collect()"
   ]
  },
  {
   "cell_type": "code",
   "execution_count": 101,
   "metadata": {},
   "outputs": [],
   "source": [
    "joins = joins.map(lambda x: ((x[0],x[1][1][1],x[1][1][2]),(x[1][1][0],1,x[1][0][0])))"
   ]
  },
  {
   "cell_type": "code",
   "execution_count": 102,
   "metadata": {},
   "outputs": [
    {
     "data": {
      "text/plain": [
       "[((u'4', u'10', u'2018'), (u'25', 1, u'NOMBRE_4')),\n",
       " ((u'4', u'10', u'2018'), (u'20', 1, u'NOMBRE_4')),\n",
       " ((u'4', u'10', u'2018'), (u'30', 1, u'NOMBRE_4')),\n",
       " ((u'4', u'11', u'2018'), (u'25', 1, u'NOMBRE_4')),\n",
       " ((u'4', u'11', u'2018'), (u'20', 1, u'NOMBRE_4')),\n",
       " ((u'4', u'11', u'2018'), (u'15', 1, u'NOMBRE_4')),\n",
       " ((u'4', u'12', u'2018'), (u'10', 1, u'NOMBRE_4')),\n",
       " ((u'4', u'12', u'2018'), (u'10', 1, u'NOMBRE_4')),\n",
       " ((u'4', u'12', u'2018'), (u'10', 1, u'NOMBRE_4')),\n",
       " ((u'4', u'12', u'2018'), (u'10', 1, u'NOMBRE_4'))]"
      ]
     },
     "execution_count": 102,
     "metadata": {},
     "output_type": "execute_result"
    }
   ],
   "source": [
    "joins.collect()"
   ]
  },
  {
   "cell_type": "code",
   "execution_count": 103,
   "metadata": {},
   "outputs": [],
   "source": [
    "joins = joins.reduceByKey(lambda x, y: (int(x[0])+int(y[0]),x[1]+y[1],x[2]))"
   ]
  },
  {
   "cell_type": "code",
   "execution_count": 104,
   "metadata": {},
   "outputs": [
    {
     "data": {
      "text/plain": [
       "[((u'4', u'10', u'2018'), (75, 3, u'NOMBRE_4')),\n",
       " ((u'4', u'12', u'2018'), (40, 4, u'NOMBRE_4')),\n",
       " ((u'4', u'11', u'2018'), (60, 3, u'NOMBRE_4'))]"
      ]
     },
     "execution_count": 104,
     "metadata": {},
     "output_type": "execute_result"
    }
   ],
   "source": [
    "joins.collect()"
   ]
  },
  {
   "cell_type": "code",
   "execution_count": 105,
   "metadata": {},
   "outputs": [],
   "source": [
    "joins = joins.map(lambda x: (x[0][0],(x[1][0]/x[1][1], x[1][2], x[0][1],x[0][2])))"
   ]
  },
  {
   "cell_type": "code",
   "execution_count": 106,
   "metadata": {},
   "outputs": [
    {
     "data": {
      "text/plain": [
       "[(u'4', (25, u'NOMBRE_4', u'10', u'2018')),\n",
       " (u'4', (10, u'NOMBRE_4', u'12', u'2018')),\n",
       " (u'4', (20, u'NOMBRE_4', u'11', u'2018'))]"
      ]
     },
     "execution_count": 106,
     "metadata": {},
     "output_type": "execute_result"
    }
   ],
   "source": [
    "joins.collect()"
   ]
  },
  {
   "cell_type": "code",
   "execution_count": 108,
   "metadata": {},
   "outputs": [],
   "source": [
    "group = joins.groupByKey()"
   ]
  },
  {
   "cell_type": "code",
   "execution_count": 111,
   "metadata": {},
   "outputs": [
    {
     "data": {
      "text/plain": [
       "[(u'4', <pyspark.resultiterable.ResultIterable at 0x7f7e917c2390>)]"
      ]
     },
     "execution_count": 111,
     "metadata": {},
     "output_type": "execute_result"
    }
   ],
   "source": [
    "group.collect()"
   ]
  },
  {
   "cell_type": "code",
   "execution_count": 117,
   "metadata": {},
   "outputs": [],
   "source": [
    "def filter_10p(x):\n",
    "    data = list(x[1])\n",
    "    print(data)\n",
    "    if int(data[1][2]) == 12:\n",
    "        return (abs(int(data[1][0]) - int(data[2][0])) >= 0.5*int(data[2][0]))\n",
    "    else:\n",
    "        return False"
   ]
  },
  {
   "cell_type": "code",
   "execution_count": 130,
   "metadata": {},
   "outputs": [],
   "source": [
    "resultado = group.filter(filter_10p).map(lambda x: x[0], list(x[1])[0][1])"
   ]
  },
  {
   "cell_type": "code",
   "execution_count": 131,
   "metadata": {},
   "outputs": [
    {
     "data": {
      "text/plain": [
       "[u'NOMBRE_4']"
      ]
     },
     "execution_count": 131,
     "metadata": {},
     "output_type": "execute_result"
    }
   ],
   "source": [
    "resultado.collect()"
   ]
  },
  {
   "cell_type": "code",
   "execution_count": null,
   "metadata": {},
   "outputs": [],
   "source": []
  }
 ],
 "metadata": {
  "kernelspec": {
   "display_name": "Python 2",
   "language": "python",
   "name": "python2"
  },
  "language_info": {
   "codemirror_mode": {
    "name": "ipython",
    "version": 2
   },
   "file_extension": ".py",
   "mimetype": "text/x-python",
   "name": "python",
   "nbconvert_exporter": "python",
   "pygments_lexer": "ipython2",
   "version": "2.7.14"
  }
 },
 "nbformat": 4,
 "nbformat_minor": 2
}
