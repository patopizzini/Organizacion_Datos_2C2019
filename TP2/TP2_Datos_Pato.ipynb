{
 "cells": [
  {
   "cell_type": "markdown",
   "metadata": {},
   "source": [
    "### =====================================================================\n",
    "### IMPORTACIÓN GENERAL DE LA INFORMACIÓN.\n",
    "### ====================================================================="
   ]
  },
  {
   "cell_type": "code",
   "execution_count": 369,
   "metadata": {},
   "outputs": [],
   "source": [
    "## IMPORTACIÓN GENERAL DE LIBRERIAS Y VISUALIZACIÓN DE DATOS (matplotlib y seaborn)\n",
    "\n",
    "import pandas as pd\n",
    "import numpy as np\n",
    "import matplotlib.pyplot as plt\n",
    "import seaborn as sns\n",
    "import datetime as DT\n",
    "import warnings\n",
    "import descartes\n",
    "import geopandas as gpd\n",
    "import json\n",
    "import requests\n",
    "import geocoder\n",
    "\n",
    "from sklearn.ensemble import RandomForestRegressor\n",
    "from shapely.geometry import Point, Polygon\n",
    "from urllib.request import urlopen #Python3\n",
    "\n",
    "%matplotlib inline\n",
    "warnings.filterwarnings('ignore')\n",
    "plt.style.use('default') \n",
    "sns.set(style=\"whitegrid\") \n",
    "plt.rcParams['figure.figsize'] = (15, 10)"
   ]
  },
  {
   "cell_type": "code",
   "execution_count": 370,
   "metadata": {},
   "outputs": [],
   "source": [
    "#lEEMOS EL CSV\n",
    "train = pd.read_csv('../../DATA_TP2/train.csv')\n",
    "test = pd.read_csv('../../DATA_TP2/test.csv')\n",
    "respuesta = pd.read_csv('../../DATA_TP2/ejemploRespuesta.csv')"
   ]
  },
  {
   "cell_type": "markdown",
   "metadata": {},
   "source": [
    "### =====================================================================\n",
    "### PREPARACIÓN DE DATOS, FEATURE ENGINEERING.\n",
    "### ====================================================================="
   ]
  },
  {
   "cell_type": "markdown",
   "metadata": {},
   "source": [
    "### =====================================================================\n",
    "### TRATAMIENTO SOBRE TEST.\n",
    "### ====================================================================="
   ]
  },
  {
   "cell_type": "code",
   "execution_count": 371,
   "metadata": {},
   "outputs": [
    {
     "name": "stdout",
     "output_type": "stream",
     "text": [
      "<class 'pandas.core.frame.DataFrame'>\n",
      "RangeIndex: 240000 entries, 0 to 239999\n",
      "Data columns (total 23 columns):\n",
      "id                            240000 non-null int64\n",
      "titulo                        234613 non-null object\n",
      "descripcion                   238381 non-null object\n",
      "tipodepropiedad               239954 non-null object\n",
      "direccion                     186928 non-null object\n",
      "ciudad                        239628 non-null object\n",
      "provincia                     239845 non-null object\n",
      "antiguedad                    196445 non-null float64\n",
      "habitaciones                  217529 non-null float64\n",
      "garages                       202235 non-null float64\n",
      "banos                         213779 non-null float64\n",
      "metroscubiertos               222600 non-null float64\n",
      "metrostotales                 188533 non-null float64\n",
      "idzona                        211379 non-null float64\n",
      "lat                           116512 non-null float64\n",
      "lng                           116512 non-null float64\n",
      "fecha                         240000 non-null object\n",
      "gimnasio                      240000 non-null float64\n",
      "usosmultiples                 240000 non-null float64\n",
      "piscina                       240000 non-null float64\n",
      "escuelascercanas              240000 non-null float64\n",
      "centroscomercialescercanos    240000 non-null float64\n",
      "precio                        240000 non-null float64\n",
      "dtypes: float64(15), int64(1), object(7)\n",
      "memory usage: 42.1+ MB\n"
     ]
    }
   ],
   "source": [
    "train.info()"
   ]
  },
  {
   "cell_type": "code",
   "execution_count": 372,
   "metadata": {},
   "outputs": [],
   "source": [
    "#Borramos las columnas que no nos interesan\n",
    "train.drop('idzona', axis=1, inplace=True)\n",
    "train.drop('direccion', axis=1, inplace=True)\n",
    "train.drop('lat', axis=1, inplace=True)\n",
    "train.drop('lng', axis=1, inplace=True)"
   ]
  },
  {
   "cell_type": "code",
   "execution_count": 373,
   "metadata": {},
   "outputs": [
    {
     "name": "stdout",
     "output_type": "stream",
     "text": [
      "<class 'pandas.core.frame.DataFrame'>\n",
      "RangeIndex: 240000 entries, 0 to 239999\n",
      "Data columns (total 19 columns):\n",
      "id                            240000 non-null int64\n",
      "titulo                        234613 non-null object\n",
      "descripcion                   238381 non-null object\n",
      "tipodepropiedad               239954 non-null object\n",
      "ciudad                        239628 non-null object\n",
      "provincia                     239845 non-null object\n",
      "antiguedad                    196445 non-null float64\n",
      "habitaciones                  217529 non-null float64\n",
      "garages                       202235 non-null float64\n",
      "banos                         213779 non-null float64\n",
      "metroscubiertos               222600 non-null float64\n",
      "metrostotales                 188533 non-null float64\n",
      "fecha                         240000 non-null object\n",
      "gimnasio                      240000 non-null float64\n",
      "usosmultiples                 240000 non-null float64\n",
      "piscina                       240000 non-null float64\n",
      "escuelascercanas              240000 non-null float64\n",
      "centroscomercialescercanos    240000 non-null float64\n",
      "precio                        240000 non-null float64\n",
      "dtypes: float64(12), int64(1), object(6)\n",
      "memory usage: 34.8+ MB\n"
     ]
    }
   ],
   "source": [
    "train.info()"
   ]
  },
  {
   "cell_type": "code",
   "execution_count": 374,
   "metadata": {
    "scrolled": true
   },
   "outputs": [
    {
     "data": {
      "text/plain": [
       "id                                0\n",
       "titulo                         5387\n",
       "descripcion                    1619\n",
       "tipodepropiedad                  46\n",
       "ciudad                          372\n",
       "provincia                       155\n",
       "antiguedad                    43555\n",
       "habitaciones                  22471\n",
       "garages                       37765\n",
       "banos                         26221\n",
       "metroscubiertos               17400\n",
       "metrostotales                 51467\n",
       "fecha                             0\n",
       "gimnasio                          0\n",
       "usosmultiples                     0\n",
       "piscina                           0\n",
       "escuelascercanas                  0\n",
       "centroscomercialescercanos        0\n",
       "precio                            0\n",
       "dtype: int64"
      ]
     },
     "execution_count": 374,
     "metadata": {},
     "output_type": "execute_result"
    }
   ],
   "source": [
    "#Vemos cuales tienen NANs\n",
    "train.isna().sum()"
   ]
  },
  {
   "cell_type": "code",
   "execution_count": 375,
   "metadata": {},
   "outputs": [],
   "source": [
    "#Borramos los nulls de las columnas categoricas que no nos interesan\n",
    "train.dropna(subset=['tipodepropiedad', 'provincia', 'ciudad'], inplace=True)\n",
    "\n",
    "#Consideramos que las propiedades con garages NAN no poseen y banos poseen 1\n",
    "train['garages'].fillna(0, inplace=True)\n",
    "train['banos'].fillna(1, inplace=True)"
   ]
  },
  {
   "cell_type": "code",
   "execution_count": 376,
   "metadata": {},
   "outputs": [
    {
     "data": {
      "text/plain": [
       "id                                0\n",
       "titulo                         5382\n",
       "descripcion                    1575\n",
       "tipodepropiedad                   0\n",
       "ciudad                            0\n",
       "provincia                         0\n",
       "antiguedad                    43328\n",
       "habitaciones                  22415\n",
       "garages                           0\n",
       "banos                             0\n",
       "metroscubiertos               17341\n",
       "metrostotales                 51361\n",
       "fecha                             0\n",
       "gimnasio                          0\n",
       "usosmultiples                     0\n",
       "piscina                           0\n",
       "escuelascercanas                  0\n",
       "centroscomercialescercanos        0\n",
       "precio                            0\n",
       "dtype: int64"
      ]
     },
     "execution_count": 376,
     "metadata": {},
     "output_type": "execute_result"
    }
   ],
   "source": [
    "#Compruebo que no hayan quedado NAN en garages y banos\n",
    "train.isnull().sum()"
   ]
  },
  {
   "cell_type": "code",
   "execution_count": 377,
   "metadata": {},
   "outputs": [
    {
     "data": {
      "text/plain": [
       "id                               0\n",
       "titulo                        5382\n",
       "descripcion                   1575\n",
       "tipodepropiedad                  0\n",
       "ciudad                           0\n",
       "provincia                        0\n",
       "antiguedad                       0\n",
       "habitaciones                     0\n",
       "garages                          0\n",
       "banos                            0\n",
       "metroscubiertos                  0\n",
       "metrostotales                    0\n",
       "fecha                            0\n",
       "gimnasio                         0\n",
       "usosmultiples                    0\n",
       "piscina                          0\n",
       "escuelascercanas                 0\n",
       "centroscomercialescercanos       0\n",
       "precio                           0\n",
       "dtype: int64"
      ]
     },
     "execution_count": 377,
     "metadata": {},
     "output_type": "execute_result"
    }
   ],
   "source": [
    "# TRATAMIENTO NAN SOBRE ANTIGUEDAD, HABITACIONES, METROSCUBIERTOS y METROSTOTALES\n",
    "# Hice el promedio por ciudad y las que seguian estando en NAN\n",
    "# ya sea porque en esa ciudad todas las propiedades estaban en NAN\n",
    "# o talvez habia solo 1 propiedad con NAN\n",
    "# le hice el mean general considerando toda esa columna\n",
    "# Antiguedad = 0 -> propiedad a estrenar\n",
    "# No hay propiedades con habitaciones, metroscubiertos o metrostotales en 0.\n",
    "\n",
    "# Antiguedad\n",
    "promedio_antiguedad_x_ciudad = train.groupby('ciudad')['antiguedad'].transform('mean')\n",
    "train['antiguedad'].fillna(promedio_antiguedad_x_ciudad, inplace=True)\n",
    "train['antiguedad'].fillna(train['antiguedad'].mean(), inplace=True)\n",
    "\n",
    "# Habitaciones\n",
    "promedio_habitaciones_x_ciudad = train.groupby('ciudad')['habitaciones'].transform('mean')\n",
    "train['habitaciones'].fillna(promedio_habitaciones_x_ciudad, inplace=True)\n",
    "train['habitaciones'].fillna(train['habitaciones'].mean(), inplace=True)\n",
    "\n",
    "#Metros cubiertos\n",
    "promedio_metroscubierto_x_ciudad = train.groupby('ciudad')['metroscubiertos'].transform('mean')\n",
    "train['metroscubiertos'].fillna(promedio_metroscubierto_x_ciudad, inplace=True)\n",
    "train['metroscubiertos'].fillna(train['metroscubiertos'].mean(), inplace=True)\n",
    "\n",
    "#Metros totales\n",
    "promedio_metrostotales_x_ciudad = train.groupby('ciudad')['metrostotales'].transform('mean')\n",
    "train['metrostotales'].fillna(promedio_metrostotales_x_ciudad, inplace=True)\n",
    "train['metrostotales'].fillna(train['metrostotales'].mean(), inplace=True)\n",
    "\n",
    "#convierto los valores a int para no tener decimales\n",
    "train['antiguedad'].astype(int)\n",
    "train['habitaciones'].astype(int)\n",
    "train['metroscubiertos'].astype(int)\n",
    "train['metrostotales'].astype(int)\n",
    "\n",
    "#Compruebo que no haya quedado ni un NAN\n",
    "train.isnull().sum()"
   ]
  },
  {
   "cell_type": "markdown",
   "metadata": {},
   "source": [
    "# NOTA :\n",
    "# FALTA VER TITULO Y DESCRIPCION"
   ]
  },
  {
   "cell_type": "markdown",
   "metadata": {},
   "source": [
    "### =====================================================================\n",
    "### TRATAMIENTO SOBRE TEST.\n",
    "### ====================================================================="
   ]
  },
  {
   "cell_type": "code",
   "execution_count": 378,
   "metadata": {},
   "outputs": [
    {
     "data": {
      "text/plain": [
       "(60000, 22)"
      ]
     },
     "execution_count": 378,
     "metadata": {},
     "output_type": "execute_result"
    }
   ],
   "source": [
    "test.shape"
   ]
  },
  {
   "cell_type": "code",
   "execution_count": 379,
   "metadata": {},
   "outputs": [],
   "source": [
    "#Borramos las columnas que no nos interesan\n",
    "test.drop('idzona', axis=1, inplace=True)\n",
    "test.drop('direccion', axis=1, inplace=True)\n",
    "test.drop('lat', axis=1, inplace=True)\n",
    "test.drop('lng', axis=1, inplace=True)"
   ]
  },
  {
   "cell_type": "code",
   "execution_count": 380,
   "metadata": {},
   "outputs": [
    {
     "data": {
      "text/plain": [
       "id                                0\n",
       "titulo                         1378\n",
       "descripcion                     401\n",
       "tipodepropiedad                   7\n",
       "ciudad                           83\n",
       "provincia                        42\n",
       "antiguedad                    10714\n",
       "habitaciones                   5628\n",
       "garages                        9323\n",
       "banos                          6554\n",
       "metroscubiertos                4299\n",
       "metrostotales                 12655\n",
       "fecha                             0\n",
       "gimnasio                          0\n",
       "usosmultiples                     0\n",
       "piscina                           0\n",
       "escuelascercanas                  0\n",
       "centroscomercialescercanos        0\n",
       "dtype: int64"
      ]
     },
     "execution_count": 380,
     "metadata": {},
     "output_type": "execute_result"
    }
   ],
   "source": [
    "#Vemos cuales tienen NANs\n",
    "test.isna().sum()"
   ]
  },
  {
   "cell_type": "code",
   "execution_count": 381,
   "metadata": {},
   "outputs": [],
   "source": [
    "#Borramos los nulls de las columnas categoricas que no nos interesan\n",
    "#test.dropna(subset=['tipodepropiedad', 'provincia', 'ciudad'], inplace=True)\n",
    "\n",
    "#Consideramos que las propiedades con garages NAN no poseen y banos poseen 1\n",
    "test['garages'].fillna(0, inplace=True)\n",
    "test['banos'].fillna(1, inplace=True)"
   ]
  },
  {
   "cell_type": "code",
   "execution_count": 382,
   "metadata": {},
   "outputs": [
    {
     "data": {
      "text/plain": [
       "id                                0\n",
       "titulo                         1378\n",
       "descripcion                     401\n",
       "tipodepropiedad                   7\n",
       "ciudad                           83\n",
       "provincia                        42\n",
       "antiguedad                    10714\n",
       "habitaciones                   5628\n",
       "garages                           0\n",
       "banos                             0\n",
       "metroscubiertos                4299\n",
       "metrostotales                 12655\n",
       "fecha                             0\n",
       "gimnasio                          0\n",
       "usosmultiples                     0\n",
       "piscina                           0\n",
       "escuelascercanas                  0\n",
       "centroscomercialescercanos        0\n",
       "dtype: int64"
      ]
     },
     "execution_count": 382,
     "metadata": {},
     "output_type": "execute_result"
    }
   ],
   "source": [
    "#Compruebo que no hayan quedado NULL\n",
    "test.isna().sum()"
   ]
  },
  {
   "cell_type": "code",
   "execution_count": 383,
   "metadata": {},
   "outputs": [
    {
     "data": {
      "text/plain": [
       "id                               0\n",
       "titulo                        1378\n",
       "descripcion                    401\n",
       "tipodepropiedad                  7\n",
       "ciudad                          83\n",
       "provincia                       42\n",
       "antiguedad                       0\n",
       "habitaciones                     0\n",
       "garages                          0\n",
       "banos                            0\n",
       "metroscubiertos                  0\n",
       "metrostotales                    0\n",
       "fecha                            0\n",
       "gimnasio                         0\n",
       "usosmultiples                    0\n",
       "piscina                          0\n",
       "escuelascercanas                 0\n",
       "centroscomercialescercanos       0\n",
       "dtype: int64"
      ]
     },
     "execution_count": 383,
     "metadata": {},
     "output_type": "execute_result"
    }
   ],
   "source": [
    "# TRATAMIENTO NAN SOBRE ANTIGUEDAD, HABITACIONES, METROSCUBIERTOS y METROSTOTALES\n",
    "# Hice el promedio por ciudad y las que seguian estando en NAN\n",
    "# ya sea porque en esa ciudad todas las propiedades estaban en NAN\n",
    "# o talvez habia solo 1 propiedad con NAN\n",
    "# le hice el mean general considerando toda esa columna\n",
    "# Antiguedad = 0 -> propiedad a estrenar\n",
    "# No hay propiedades con habitaciones, metroscubiertos o metrostotales en 0.\n",
    "\n",
    "# Antiguedad\n",
    "promedio_antiguedad_x_ciudad = test.groupby('ciudad')['antiguedad'].transform('mean')\n",
    "test['antiguedad'].fillna(promedio_antiguedad_x_ciudad, inplace=True)\n",
    "test['antiguedad'].fillna(test['antiguedad'].mean(), inplace=True)\n",
    "\n",
    "# Habitaciones\n",
    "promedio_habitaciones_x_ciudad = test.groupby('ciudad')['habitaciones'].transform('mean')\n",
    "test['habitaciones'].fillna(promedio_habitaciones_x_ciudad, inplace=True)\n",
    "test['habitaciones'].fillna(test['habitaciones'].mean(), inplace=True)\n",
    "\n",
    "#Metros cubiertos\n",
    "promedio_metroscubierto_x_ciudad = test.groupby('ciudad')['metroscubiertos'].transform('mean')\n",
    "test['metroscubiertos'].fillna(promedio_metroscubierto_x_ciudad, inplace=True)\n",
    "test['metroscubiertos'].fillna(test['metroscubiertos'].mean(), inplace=True)\n",
    "\n",
    "#Metros totales\n",
    "promedio_metrostotales_x_ciudad = test.groupby('ciudad')['metrostotales'].transform('mean')\n",
    "test['metrostotales'].fillna(promedio_metrostotales_x_ciudad, inplace=True)\n",
    "test['metrostotales'].fillna(test['metrostotales'].mean(), inplace=True)\n",
    "\n",
    "#convierto los valores a int para no tener decimales\n",
    "test['antiguedad'].astype(int)\n",
    "test['habitaciones'].astype(int)\n",
    "test['metroscubiertos'].astype(int)\n",
    "test['metrostotales'].astype(int)\n",
    "\n",
    "#Compruebo que no haya quedado ni un NAN\n",
    "test.isnull().sum()"
   ]
  },
  {
   "cell_type": "markdown",
   "metadata": {},
   "source": [
    "# NOTA!\n",
    "\n",
    "# Tenemos que ver que hacemos con los NAN de TIPO DE PROPIEDAD, CIUDAD Y PROVINCIA porque no se pueden droppear\n",
    "    \n",
    "# Falta ver que hacemos con titulo y descripcion\n"
   ]
  },
  {
   "cell_type": "code",
   "execution_count": 384,
   "metadata": {},
   "outputs": [
    {
     "data": {
      "text/plain": [
       "(60000, 18)"
      ]
     },
     "execution_count": 384,
     "metadata": {},
     "output_type": "execute_result"
    }
   ],
   "source": [
    "test.shape"
   ]
  },
  {
   "cell_type": "code",
   "execution_count": null,
   "metadata": {},
   "outputs": [],
   "source": []
  },
  {
   "cell_type": "code",
   "execution_count": null,
   "metadata": {},
   "outputs": [],
   "source": []
  },
  {
   "cell_type": "code",
   "execution_count": 54,
   "metadata": {},
   "outputs": [],
   "source": [
    "#Para que ande el Random Forest"
   ]
  },
  {
   "cell_type": "code",
   "execution_count": 55,
   "metadata": {},
   "outputs": [],
   "source": [
    "train['fecha'] = pd.to_datetime(train['fecha'], infer_datetime_format=True)\n",
    "test['fecha'] = pd.to_datetime(test['fecha'], infer_datetime_format=True)\n",
    "train['anio'] = train['fecha'].dt.year\n",
    "test['anio'] = test['fecha'].dt.year\n",
    "train.drop('fecha', axis=1, inplace=True)\n",
    "test.drop('fecha', axis=1, inplace=True)\n"
   ]
  },
  {
   "cell_type": "code",
   "execution_count": 56,
   "metadata": {},
   "outputs": [],
   "source": [
    "train.to_csv('DATA/train.csv', index=False)\n",
    "test.to_csv('DATA/test.csv', index=False)"
   ]
  },
  {
   "cell_type": "code",
   "execution_count": 57,
   "metadata": {},
   "outputs": [
    {
     "name": "stdout",
     "output_type": "stream",
     "text": [
      "<class 'pandas.core.frame.DataFrame'>\n",
      "RangeIndex: 60000 entries, 0 to 59999\n",
      "Data columns (total 13 columns):\n",
      "id                            60000 non-null int64\n",
      "antiguedad                    60000 non-null float64\n",
      "habitaciones                  60000 non-null float64\n",
      "garages                       60000 non-null float64\n",
      "banos                         60000 non-null float64\n",
      "metroscubiertos               60000 non-null float64\n",
      "metrostotales                 60000 non-null float64\n",
      "gimnasio                      60000 non-null float64\n",
      "usosmultiples                 60000 non-null float64\n",
      "piscina                       60000 non-null float64\n",
      "escuelascercanas              60000 non-null float64\n",
      "centroscomercialescercanos    60000 non-null float64\n",
      "anio                          60000 non-null int64\n",
      "dtypes: float64(11), int64(2)\n",
      "memory usage: 6.0 MB\n"
     ]
    }
   ],
   "source": [
    "test.info()"
   ]
  },
  {
   "cell_type": "code",
   "execution_count": null,
   "metadata": {},
   "outputs": [],
   "source": []
  }
 ],
 "metadata": {
  "kernelspec": {
   "display_name": "Python 3",
   "language": "python",
   "name": "python3"
  },
  "language_info": {
   "codemirror_mode": {
    "name": "ipython",
    "version": 3
   },
   "file_extension": ".py",
   "mimetype": "text/x-python",
   "name": "python",
   "nbconvert_exporter": "python",
   "pygments_lexer": "ipython3",
   "version": "3.7.5"
  }
 },
 "nbformat": 4,
 "nbformat_minor": 2
}
