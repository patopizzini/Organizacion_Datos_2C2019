{
 "cells": [
  {
   "cell_type": "code",
   "execution_count": 1,
   "metadata": {},
   "outputs": [],
   "source": [
    "## IMPORTACIÓN GENERAL DE LIBRERIAS Y VISUALIZACIÓN DE DATOS (matplotlib y seaborn)\n",
    "\n",
    "import pandas as pd\n",
    "import numpy as np\n",
    "import matplotlib.pyplot as plt\n",
    "import seaborn as sns\n",
    "import datetime as DT\n",
    "import warnings\n",
    "import descartes\n",
    "import geopandas as gpd\n",
    "import json\n",
    "import requests\n",
    "import geocoder\n",
    "\n",
    "from shapely.geometry import Point, Polygon\n",
    "from urllib2 import urlopen\n",
    "\n",
    "%matplotlib inline\n",
    "warnings.filterwarnings('ignore')\n",
    "plt.style.use('default') \n",
    "sns.set(style=\"whitegrid\") \n",
    "plt.rcParams['figure.figsize'] = (15, 10)"
   ]
  },
  {
   "cell_type": "code",
   "execution_count": 2,
   "metadata": {},
   "outputs": [],
   "source": [
    "#lEEMOS EL CSV\n",
    "datos_principales = pd.read_csv('../../DATA_TP2/train.csv')"
   ]
  },
  {
   "cell_type": "code",
   "execution_count": 3,
   "metadata": {},
   "outputs": [],
   "source": [
    "datos_principales['excelente'] = 0\n",
    "datos_principales.loc[datos_principales.descripcion.str.contains('vigilancia', na=False), 'vigilancia'] = 1\n",
    "datos_principales['vigilancia'] = 0\n",
    "datos_principales.loc[datos_principales.descripcion.str.contains('excelente', na=False), 'excelente'] = 1\n",
    "datos_principales['esquina'] = 0\n",
    "datos_principales.loc[datos_principales.descripcion.str.contains('esquina', na=False), 'esquina'] = 1\n",
    "datos_principales['remodelada'] = 0\n",
    "datos_principales.loc[datos_principales.descripcion.str.contains('remodelada', na=False), 'remodelada'] = 1\n",
    "datos_principales['lujo'] = 0\n",
    "datos_principales.loc[datos_principales.descripcion.str.contains('lujo', na=False), 'lujo'] = 1"
   ]
  },
  {
   "cell_type": "code",
   "execution_count": 4,
   "metadata": {},
   "outputs": [],
   "source": [
    "datos_principales['lat'].fillna(0, inplace=True)\n",
    "datos_principales['lng'].fillna(0, inplace=True)"
   ]
  },
  {
   "cell_type": "code",
   "execution_count": 5,
   "metadata": {},
   "outputs": [],
   "source": [
    "datos_principales['antiguedad_agrupada'] = 0\n",
    "datos_principales.loc[datos_principales.antiguedad <= 5, 'antiguedad_agrupada'] = 0\n",
    "datos_principales.loc[((datos_principales.antiguedad > 5) & (datos_principales.antiguedad <= 15)), 'antiguedad_agrupada'] = 10\n",
    "datos_principales.loc[((datos_principales.antiguedad > 15) & (datos_principales.antiguedad <= 25)), 'antiguedad_agrupada'] = 20\n",
    "datos_principales.loc[((datos_principales.antiguedad > 25) & (datos_principales.antiguedad <= 35)), 'antiguedad_agrupada'] = 30\n",
    "datos_principales.loc[((datos_principales.antiguedad > 35) & (datos_principales.antiguedad <= 45)), 'antiguedad_agrupada'] = 40\n",
    "datos_principales.loc[((datos_principales.antiguedad > 45) & (datos_principales.antiguedad <= 55)), 'antiguedad_agrupada'] = 50\n",
    "datos_principales.loc[((datos_principales.antiguedad > 55) & (datos_principales.antiguedad <= 65)), 'antiguedad_agrupada'] = 60\n",
    "datos_principales.loc[((datos_principales.antiguedad > 65) & (datos_principales.antiguedad <= 75)), 'antiguedad_agrupada'] = 70\n",
    "datos_principales.loc[((datos_principales.antiguedad > 75) & (datos_principales.antiguedad <= 85)), 'antiguedad_agrupada'] = 80\n",
    "datos_principales.loc[((datos_principales.antiguedad > 85) & (datos_principales.antiguedad <= 95)), 'antiguedad_agrupada'] = 90\n",
    "datos_principales.loc[datos_principales.antiguedad > 95, 'antiguedad_agrupada'] = 100"
   ]
  },
  {
   "cell_type": "code",
   "execution_count": 6,
   "metadata": {},
   "outputs": [],
   "source": [
    "datos_principales.loc[datos_principales.tipodepropiedad.str.contains('Comercial', na=False), 'tipodepropiedad'] = 'Comercio'\n",
    "datos_principales.loc[datos_principales.tipodepropiedad.str.contains('Casa en condominio', na=False), 'tipodepropiedad'] = 'Condominio'"
   ]
  },
  {
   "cell_type": "code",
   "execution_count": 7,
   "metadata": {},
   "outputs": [],
   "source": [
    "datos_principales['fecha'] = pd.to_datetime(datos_principales['fecha'], infer_datetime_format=True)\n",
    "datos_principales['mes'] = datos_principales['fecha'].dt.month\n",
    "datos_principales['dia'] = datos_principales['fecha'].dt.dayofweek\n",
    "datos_principales['anio'] = datos_principales['fecha'].dt.year"
   ]
  },
  {
   "cell_type": "code",
   "execution_count": null,
   "metadata": {},
   "outputs": [],
   "source": []
  }
 ],
 "metadata": {
  "kernelspec": {
   "display_name": "Python 2",
   "language": "python",
   "name": "python2"
  },
  "language_info": {
   "codemirror_mode": {
    "name": "ipython",
    "version": 2
   },
   "file_extension": ".py",
   "mimetype": "text/x-python",
   "name": "python",
   "nbconvert_exporter": "python",
   "pygments_lexer": "ipython2",
   "version": "2.7.14"
  }
 },
 "nbformat": 4,
 "nbformat_minor": 2
}
