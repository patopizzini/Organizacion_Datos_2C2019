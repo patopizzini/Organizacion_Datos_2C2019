{
 "cells": [
  {
   "cell_type": "markdown",
   "metadata": {},
   "source": [
    "### =====================================================================\n",
    "### IMPORTACIÓN GENERAL DE LA INFORMACIÓN.\n",
    "### ====================================================================="
   ]
  },
  {
   "cell_type": "code",
   "execution_count": 1,
   "metadata": {},
   "outputs": [],
   "source": [
    "## IMPORTACIÓN GENERAL DE LIBRERIAS Y VISUALIZACIÓN DE DATOS (matplotlib y seaborn)\n",
    "\n",
    "import pandas as pd\n",
    "import numpy as np\n",
    "import matplotlib.pyplot as plt\n",
    "import seaborn as sns\n",
    "import datetime as DT\n",
    "import warnings\n",
    "import descartes\n",
    "import geopandas as gpd\n",
    "import json\n",
    "import requests\n",
    "import geocoder\n",
    "\n",
    "from sklearn.ensemble import RandomForestRegressor\n",
    "from shapely.geometry import Point, Polygon\n",
    "from urllib2 import urlopen\n",
    "\n",
    "%matplotlib inline\n",
    "warnings.filterwarnings('ignore')\n",
    "plt.style.use('default') \n",
    "sns.set(style=\"whitegrid\") \n",
    "plt.rcParams['figure.figsize'] = (15, 10)"
   ]
  },
  {
   "cell_type": "markdown",
   "metadata": {},
   "source": [
    "### =====================================================================\n",
    "### ALGORITMOS DE MACHINE LEARNING:\n",
    "### ====================================================================="
   ]
  },
  {
   "cell_type": "code",
   "execution_count": 2,
   "metadata": {},
   "outputs": [],
   "source": [
    "# LECTURAS DE CSV YA PROCESADOS. \n",
    "train = pd.read_csv('DATA/train_procesado.csv') # trainProcesado_precio_v2.csv # train.csv\n",
    "test = pd.read_csv('DATA/test_procesado.csv') # testProcesado_v2.csv # test.csv"
   ]
  },
  {
   "cell_type": "code",
   "execution_count": 3,
   "metadata": {},
   "outputs": [],
   "source": [
    "Identificador = pd.DataFrame()\n",
    "Identificador['id'] = test['id']"
   ]
  },
  {
   "cell_type": "code",
   "execution_count": 4,
   "metadata": {},
   "outputs": [],
   "source": [
    "train = train.drop('id', axis = 1)\n",
    "test = test.drop('id', axis = 1)\n",
    "\n",
    "train = train.drop('mean_2016', axis = 1)\n",
    "test = test.drop('mean_2016', axis = 1)\n",
    "\n",
    "train = train.drop('median_2016', axis = 1)\n",
    "test = test.drop('median_2016', axis = 1)"
   ]
  },
  {
   "cell_type": "code",
   "execution_count": 5,
   "metadata": {},
   "outputs": [
    {
     "name": "stdout",
     "output_type": "stream",
     "text": [
      "<class 'pandas.core.frame.DataFrame'>\n",
      "RangeIndex: 240000 entries, 0 to 239999\n",
      "Columns: 187 entries, habitaciones to mean_2016_agrupado_9\n",
      "dtypes: int64(187)\n",
      "memory usage: 342.4 MB\n"
     ]
    }
   ],
   "source": [
    "train.info()"
   ]
  },
  {
   "cell_type": "code",
   "execution_count": 6,
   "metadata": {},
   "outputs": [
    {
     "name": "stdout",
     "output_type": "stream",
     "text": [
      "<class 'pandas.core.frame.DataFrame'>\n",
      "RangeIndex: 60000 entries, 0 to 59999\n",
      "Columns: 186 entries, habitaciones to mean_2016_agrupado_9\n",
      "dtypes: int64(186)\n",
      "memory usage: 85.1 MB\n"
     ]
    }
   ],
   "source": [
    "test.info()"
   ]
  },
  {
   "cell_type": "markdown",
   "metadata": {},
   "source": [
    "### =====================================================================\n",
    "### RANDOM FOREST.\n",
    "### ====================================================================="
   ]
  },
  {
   "cell_type": "code",
   "execution_count": 7,
   "metadata": {},
   "outputs": [],
   "source": [
    "# Segmentamos una parte para entrenar y constatar.\n",
    "train_2016 = train.loc[train['2016'] == 1]\n",
    "train_PREV = train.loc[train['2016'] == 0]"
   ]
  },
  {
   "cell_type": "code",
   "execution_count": 8,
   "metadata": {},
   "outputs": [],
   "source": [
    "# Label a predecir.\n",
    "labels_2016 = np.array(train_2016['precio'])\n",
    "labels_PREV = np.array(train_PREV['precio'])"
   ]
  },
  {
   "cell_type": "code",
   "execution_count": 9,
   "metadata": {},
   "outputs": [],
   "source": [
    "# Resto de los labels.\n",
    "train_2016 = train_2016.drop('precio', axis = 1)\n",
    "train_PREV = train_PREV.drop('precio', axis = 1)\n",
    "#train_2016 = train_2016.drop('anio', axis = 1)\n",
    "#train_PREV = train_PREV.drop('anio', axis = 1)\n",
    "#test = test.drop('anio', axis = 1)"
   ]
  },
  {
   "cell_type": "code",
   "execution_count": 10,
   "metadata": {},
   "outputs": [],
   "source": [
    "# Lista de columnas.\n",
    "feature_list = list(train_PREV.columns)"
   ]
  },
  {
   "cell_type": "code",
   "execution_count": 11,
   "metadata": {},
   "outputs": [],
   "source": [
    "# Numpy array\n",
    "train_2016 = np.array(train_2016)\n",
    "train_PREV = np.array(train_PREV)"
   ]
  },
  {
   "cell_type": "code",
   "execution_count": 12,
   "metadata": {},
   "outputs": [
    {
     "name": "stdout",
     "output_type": "stream",
     "text": [
      "('Training Features Shape:', (145962, 186))\n",
      "('Training Labels Shape:', (145962,))\n",
      "('Testing Features Shape:', (94038, 186))\n",
      "('Testing Labels Shape:', (94038,))\n"
     ]
    }
   ],
   "source": [
    "# Observamos lo que nos queda en cada parte.\n",
    "print('Training Features Shape:', train_PREV.shape)\n",
    "print('Training Labels Shape:', labels_PREV.shape)\n",
    "print('Testing Features Shape:', train_2016.shape)\n",
    "print('Testing Labels Shape:', labels_2016.shape)"
   ]
  },
  {
   "cell_type": "code",
   "execution_count": 13,
   "metadata": {},
   "outputs": [
    {
     "data": {
      "text/plain": [
       "RandomForestRegressor(bootstrap=True, criterion='mse', max_depth=None,\n",
       "           max_features='auto', max_leaf_nodes=None,\n",
       "           min_impurity_decrease=0.0, min_impurity_split=None,\n",
       "           min_samples_leaf=1, min_samples_split=2,\n",
       "           min_weight_fraction_leaf=0.0, n_estimators=300, n_jobs=None,\n",
       "           oob_score=False, random_state=150, verbose=0, warm_start=False)"
      ]
     },
     "execution_count": 13,
     "metadata": {},
     "output_type": "execute_result"
    }
   ],
   "source": [
    "# Armamos el regresor con parámetros por defecto.\n",
    "rf = RandomForestRegressor(n_estimators = 300, random_state = 150)\n",
    "# Entrenamos.\n",
    "rf.fit(train_PREV, labels_PREV)"
   ]
  },
  {
   "cell_type": "code",
   "execution_count": 14,
   "metadata": {},
   "outputs": [
    {
     "name": "stdout",
     "output_type": "stream",
     "text": [
      "('Error:', 600753.6, 'grados.')\n"
     ]
    }
   ],
   "source": [
    "# Hacemos una predicción.\n",
    "predictions = rf.predict(train_2016)\n",
    "# Calculamos el error absoluto.\n",
    "errors = abs(predictions - labels_2016)\n",
    "# Imprimimos el error.\n",
    "print('Error:', round(np.mean(errors), 2), 'grados.')"
   ]
  },
  {
   "cell_type": "code",
   "execution_count": 15,
   "metadata": {},
   "outputs": [
    {
     "name": "stdout",
     "output_type": "stream",
     "text": [
      "('Precision:', 78.0, '%.')\n"
     ]
    }
   ],
   "source": [
    "# Calculamos el porcentaje de error.\n",
    "mape = 100 * (errors / labels_2016)\n",
    "# Calculate la precisión.\n",
    "accuracy = 100 - np.mean(mape)\n",
    "print('Precision:', round(accuracy, 2), '%.')"
   ]
  },
  {
   "cell_type": "code",
   "execution_count": 16,
   "metadata": {},
   "outputs": [],
   "source": [
    "prediccion = rf.predict(test)"
   ]
  },
  {
   "cell_type": "code",
   "execution_count": 17,
   "metadata": {},
   "outputs": [],
   "source": [
    "train = train.drop('precio', axis = 1)"
   ]
  },
  {
   "cell_type": "code",
   "execution_count": 18,
   "metadata": {},
   "outputs": [],
   "source": [
    "feature_importances = pd.DataFrame(rf.feature_importances_, index = train.columns, columns=['importance']).sort_values('importance',ascending=False)"
   ]
  },
  {
   "cell_type": "code",
   "execution_count": 19,
   "metadata": {},
   "outputs": [
    {
     "data": {
      "text/html": [
       "<div>\n",
       "<style scoped>\n",
       "    .dataframe tbody tr th:only-of-type {\n",
       "        vertical-align: middle;\n",
       "    }\n",
       "\n",
       "    .dataframe tbody tr th {\n",
       "        vertical-align: top;\n",
       "    }\n",
       "\n",
       "    .dataframe thead th {\n",
       "        text-align: right;\n",
       "    }\n",
       "</style>\n",
       "<table border=\"1\" class=\"dataframe\">\n",
       "  <thead>\n",
       "    <tr style=\"text-align: right;\">\n",
       "      <th></th>\n",
       "      <th>importance</th>\n",
       "    </tr>\n",
       "  </thead>\n",
       "  <tbody>\n",
       "    <tr>\n",
       "      <th>banos</th>\n",
       "      <td>1.831088e-01</td>\n",
       "    </tr>\n",
       "    <tr>\n",
       "      <th>mean_2016_agrupado_1</th>\n",
       "      <td>7.023693e-02</td>\n",
       "    </tr>\n",
       "    <tr>\n",
       "      <th>mean_2016_agrupado_5</th>\n",
       "      <td>6.067798e-02</td>\n",
       "    </tr>\n",
       "    <tr>\n",
       "      <th>mean_2016_agrupado_4</th>\n",
       "      <td>5.637053e-02</td>\n",
       "    </tr>\n",
       "    <tr>\n",
       "      <th>mean_2016_agrupado_2</th>\n",
       "      <td>5.327273e-02</td>\n",
       "    </tr>\n",
       "    <tr>\n",
       "      <th>DISTRITO FEDERAL</th>\n",
       "      <td>5.299672e-02</td>\n",
       "    </tr>\n",
       "    <tr>\n",
       "      <th>mean_2016_agrupado_0</th>\n",
       "      <td>4.299327e-02</td>\n",
       "    </tr>\n",
       "    <tr>\n",
       "      <th>mean_2016_agrupado_3</th>\n",
       "      <td>3.901657e-02</td>\n",
       "    </tr>\n",
       "    <tr>\n",
       "      <th>mean_2016_agrupado_6</th>\n",
       "      <td>2.789112e-02</td>\n",
       "    </tr>\n",
       "    <tr>\n",
       "      <th>mean_2016_agrupado_22</th>\n",
       "      <td>2.600395e-02</td>\n",
       "    </tr>\n",
       "    <tr>\n",
       "      <th>EDO. DE MAXICO</th>\n",
       "      <td>2.339354e-02</td>\n",
       "    </tr>\n",
       "    <tr>\n",
       "      <th>mean_2016_agrupado_7</th>\n",
       "      <td>2.013558e-02</td>\n",
       "    </tr>\n",
       "    <tr>\n",
       "      <th>mean_2016_agrupado_8</th>\n",
       "      <td>1.692610e-02</td>\n",
       "    </tr>\n",
       "    <tr>\n",
       "      <th>garages</th>\n",
       "      <td>1.290305e-02</td>\n",
       "    </tr>\n",
       "    <tr>\n",
       "      <th>mean_2016_agrupado_9</th>\n",
       "      <td>1.243109e-02</td>\n",
       "    </tr>\n",
       "    <tr>\n",
       "      <th>metroscubiertos_agrupada_400</th>\n",
       "      <td>1.197270e-02</td>\n",
       "    </tr>\n",
       "    <tr>\n",
       "      <th>APARTAMENTO</th>\n",
       "      <td>1.145075e-02</td>\n",
       "    </tr>\n",
       "    <tr>\n",
       "      <th>LUJO</th>\n",
       "      <td>1.008580e-02</td>\n",
       "    </tr>\n",
       "    <tr>\n",
       "      <th>metroscubiertos_agrupada_350</th>\n",
       "      <td>9.892899e-03</td>\n",
       "    </tr>\n",
       "    <tr>\n",
       "      <th>metroscubiertos_agrupada_450</th>\n",
       "      <td>9.353717e-03</td>\n",
       "    </tr>\n",
       "    <tr>\n",
       "      <th>habitaciones</th>\n",
       "      <td>9.245065e-03</td>\n",
       "    </tr>\n",
       "    <tr>\n",
       "      <th>metroscubiertos_agrupada_300</th>\n",
       "      <td>8.875089e-03</td>\n",
       "    </tr>\n",
       "    <tr>\n",
       "      <th>mean_2016_agrupado_10</th>\n",
       "      <td>8.604608e-03</td>\n",
       "    </tr>\n",
       "    <tr>\n",
       "      <th>mean_2016_agrupado_15</th>\n",
       "      <td>8.463902e-03</td>\n",
       "    </tr>\n",
       "    <tr>\n",
       "      <th>metroscubiertos_agrupada_200</th>\n",
       "      <td>7.734225e-03</td>\n",
       "    </tr>\n",
       "    <tr>\n",
       "      <th>metroscubiertos_agrupada_250</th>\n",
       "      <td>6.938629e-03</td>\n",
       "    </tr>\n",
       "    <tr>\n",
       "      <th>mean_2016_agrupado_11</th>\n",
       "      <td>6.037512e-03</td>\n",
       "    </tr>\n",
       "    <tr>\n",
       "      <th>mean_2016_agrupado_12</th>\n",
       "      <td>5.516267e-03</td>\n",
       "    </tr>\n",
       "    <tr>\n",
       "      <th>mean_2016_agrupado_16</th>\n",
       "      <td>5.477148e-03</td>\n",
       "    </tr>\n",
       "    <tr>\n",
       "      <th>2015</th>\n",
       "      <td>5.281737e-03</td>\n",
       "    </tr>\n",
       "    <tr>\n",
       "      <th>...</th>\n",
       "      <td>...</td>\n",
       "    </tr>\n",
       "    <tr>\n",
       "      <th>VILLA</th>\n",
       "      <td>1.345247e-04</td>\n",
       "    </tr>\n",
       "    <tr>\n",
       "      <th>SONORA</th>\n",
       "      <td>1.313982e-04</td>\n",
       "    </tr>\n",
       "    <tr>\n",
       "      <th>INMUEBLES PRODUCTIVOS URBANOS</th>\n",
       "      <td>1.296044e-04</td>\n",
       "    </tr>\n",
       "    <tr>\n",
       "      <th>metroscubiertos_agrupada_30</th>\n",
       "      <td>1.005871e-04</td>\n",
       "    </tr>\n",
       "    <tr>\n",
       "      <th>COLIMA</th>\n",
       "      <td>9.611838e-05</td>\n",
       "    </tr>\n",
       "    <tr>\n",
       "      <th>OAXACA</th>\n",
       "      <td>9.354068e-05</td>\n",
       "    </tr>\n",
       "    <tr>\n",
       "      <th>MINIMALISTA</th>\n",
       "      <td>8.946848e-05</td>\n",
       "    </tr>\n",
       "    <tr>\n",
       "      <th>metrostotales_agrupada_30</th>\n",
       "      <td>8.708147e-05</td>\n",
       "    </tr>\n",
       "    <tr>\n",
       "      <th>antiguedad_agrupada_70</th>\n",
       "      <td>7.747890e-05</td>\n",
       "    </tr>\n",
       "    <tr>\n",
       "      <th>HIDALGO</th>\n",
       "      <td>7.483227e-05</td>\n",
       "    </tr>\n",
       "    <tr>\n",
       "      <th>QUINTA VACACIONAL</th>\n",
       "      <td>7.357782e-05</td>\n",
       "    </tr>\n",
       "    <tr>\n",
       "      <th>DUPLEX</th>\n",
       "      <td>7.201706e-05</td>\n",
       "    </tr>\n",
       "    <tr>\n",
       "      <th>antiguedad_agrupada_80</th>\n",
       "      <td>7.150620e-05</td>\n",
       "    </tr>\n",
       "    <tr>\n",
       "      <th>TLAXCALA</th>\n",
       "      <td>7.091712e-05</td>\n",
       "    </tr>\n",
       "    <tr>\n",
       "      <th>ZACATECAS</th>\n",
       "      <td>5.845003e-05</td>\n",
       "    </tr>\n",
       "    <tr>\n",
       "      <th>LOFT</th>\n",
       "      <td>5.388992e-05</td>\n",
       "    </tr>\n",
       "    <tr>\n",
       "      <th>DESCONOCIDO</th>\n",
       "      <td>4.711672e-05</td>\n",
       "    </tr>\n",
       "    <tr>\n",
       "      <th>metroscubiertos_agrupada_20</th>\n",
       "      <td>3.955373e-05</td>\n",
       "    </tr>\n",
       "    <tr>\n",
       "      <th>NAVE INDUSTRIAL</th>\n",
       "      <td>2.896173e-05</td>\n",
       "    </tr>\n",
       "    <tr>\n",
       "      <th>TERRENO INDUSTRIAL</th>\n",
       "      <td>2.796334e-05</td>\n",
       "    </tr>\n",
       "    <tr>\n",
       "      <th>EQUIPADA</th>\n",
       "      <td>2.323548e-05</td>\n",
       "    </tr>\n",
       "    <tr>\n",
       "      <th>CAMPECHE</th>\n",
       "      <td>1.865634e-05</td>\n",
       "    </tr>\n",
       "    <tr>\n",
       "      <th>HUERTA</th>\n",
       "      <td>1.620128e-05</td>\n",
       "    </tr>\n",
       "    <tr>\n",
       "      <th>DEPARTAMENTO COMPARTIDO</th>\n",
       "      <td>1.618247e-05</td>\n",
       "    </tr>\n",
       "    <tr>\n",
       "      <th>metroscubiertos_agrupada_10</th>\n",
       "      <td>7.773825e-06</td>\n",
       "    </tr>\n",
       "    <tr>\n",
       "      <th>LOCAL EN CENTRO COMERCIAL</th>\n",
       "      <td>6.020676e-06</td>\n",
       "    </tr>\n",
       "    <tr>\n",
       "      <th>metrostotales_agrupada_10</th>\n",
       "      <td>1.615986e-06</td>\n",
       "    </tr>\n",
       "    <tr>\n",
       "      <th>OTROS</th>\n",
       "      <td>4.358454e-07</td>\n",
       "    </tr>\n",
       "    <tr>\n",
       "      <th>LOTE</th>\n",
       "      <td>3.786953e-07</td>\n",
       "    </tr>\n",
       "    <tr>\n",
       "      <th>2016</th>\n",
       "      <td>0.000000e+00</td>\n",
       "    </tr>\n",
       "  </tbody>\n",
       "</table>\n",
       "<p>186 rows × 1 columns</p>\n",
       "</div>"
      ],
      "text/plain": [
       "                                 importance\n",
       "banos                          1.831088e-01\n",
       "mean_2016_agrupado_1           7.023693e-02\n",
       "mean_2016_agrupado_5           6.067798e-02\n",
       "mean_2016_agrupado_4           5.637053e-02\n",
       "mean_2016_agrupado_2           5.327273e-02\n",
       "DISTRITO FEDERAL               5.299672e-02\n",
       "mean_2016_agrupado_0           4.299327e-02\n",
       "mean_2016_agrupado_3           3.901657e-02\n",
       "mean_2016_agrupado_6           2.789112e-02\n",
       "mean_2016_agrupado_22          2.600395e-02\n",
       "EDO. DE MAXICO                 2.339354e-02\n",
       "mean_2016_agrupado_7           2.013558e-02\n",
       "mean_2016_agrupado_8           1.692610e-02\n",
       "garages                        1.290305e-02\n",
       "mean_2016_agrupado_9           1.243109e-02\n",
       "metroscubiertos_agrupada_400   1.197270e-02\n",
       "APARTAMENTO                    1.145075e-02\n",
       "LUJO                           1.008580e-02\n",
       "metroscubiertos_agrupada_350   9.892899e-03\n",
       "metroscubiertos_agrupada_450   9.353717e-03\n",
       "habitaciones                   9.245065e-03\n",
       "metroscubiertos_agrupada_300   8.875089e-03\n",
       "mean_2016_agrupado_10          8.604608e-03\n",
       "mean_2016_agrupado_15          8.463902e-03\n",
       "metroscubiertos_agrupada_200   7.734225e-03\n",
       "metroscubiertos_agrupada_250   6.938629e-03\n",
       "mean_2016_agrupado_11          6.037512e-03\n",
       "mean_2016_agrupado_12          5.516267e-03\n",
       "mean_2016_agrupado_16          5.477148e-03\n",
       "2015                           5.281737e-03\n",
       "...                                     ...\n",
       "VILLA                          1.345247e-04\n",
       "SONORA                         1.313982e-04\n",
       "INMUEBLES PRODUCTIVOS URBANOS  1.296044e-04\n",
       "metroscubiertos_agrupada_30    1.005871e-04\n",
       "COLIMA                         9.611838e-05\n",
       "OAXACA                         9.354068e-05\n",
       "MINIMALISTA                    8.946848e-05\n",
       "metrostotales_agrupada_30      8.708147e-05\n",
       "antiguedad_agrupada_70         7.747890e-05\n",
       "HIDALGO                        7.483227e-05\n",
       "QUINTA VACACIONAL              7.357782e-05\n",
       "DUPLEX                         7.201706e-05\n",
       "antiguedad_agrupada_80         7.150620e-05\n",
       "TLAXCALA                       7.091712e-05\n",
       "ZACATECAS                      5.845003e-05\n",
       "LOFT                           5.388992e-05\n",
       "DESCONOCIDO                    4.711672e-05\n",
       "metroscubiertos_agrupada_20    3.955373e-05\n",
       "NAVE INDUSTRIAL                2.896173e-05\n",
       "TERRENO INDUSTRIAL             2.796334e-05\n",
       "EQUIPADA                       2.323548e-05\n",
       "CAMPECHE                       1.865634e-05\n",
       "HUERTA                         1.620128e-05\n",
       "DEPARTAMENTO COMPARTIDO        1.618247e-05\n",
       "metroscubiertos_agrupada_10    7.773825e-06\n",
       "LOCAL EN CENTRO COMERCIAL      6.020676e-06\n",
       "metrostotales_agrupada_10      1.615986e-06\n",
       "OTROS                          4.358454e-07\n",
       "LOTE                           3.786953e-07\n",
       "2016                           0.000000e+00\n",
       "\n",
       "[186 rows x 1 columns]"
      ]
     },
     "execution_count": 19,
     "metadata": {},
     "output_type": "execute_result"
    }
   ],
   "source": [
    "feature_importances"
   ]
  },
  {
   "cell_type": "code",
   "execution_count": 20,
   "metadata": {},
   "outputs": [
    {
     "data": {
      "image/png": "[encoded data removed]",
      "text/plain": [
       "<Figure size 1080x1080 with 1 Axes>"
      ]
     },
     "metadata": {},
     "output_type": "display_data"
    }
   ],
   "source": [
    "ax = feature_importances.head(10).plot.bar(y='importance', rot=60, figsize=(15,15))"
   ]
  },
  {
   "cell_type": "code",
   "execution_count": 21,
   "metadata": {},
   "outputs": [],
   "source": [
    "## =================================================================================================\n",
    "## ARMAMOS EN BASE A LA PREDICCIÓN QUE TENEMOS UN CSV PARA SUBIR A KAGGLE CON EL FORMATO INDICADO!\n",
    "## =================================================================================================\n",
    "submission = pd.DataFrame({ 'id': Identificador['id'], 'target': prediccion })\n",
    "submission.to_csv(\"SUBMITS/012_G34_PrecioAgrupado_RF_02.csv\", index=False)"
   ]
  },
  {
   "cell_type": "code",
   "execution_count": null,
   "metadata": {},
   "outputs": [],
   "source": []
  }
 ],
 "metadata": {
  "kernelspec": {
   "display_name": "Python 2",
   "language": "python",
   "name": "python2"
  },
  "language_info": {
   "codemirror_mode": {
    "name": "ipython",
    "version": 2
   },
   "file_extension": ".py",
   "mimetype": "text/x-python",
   "name": "python",
   "nbconvert_exporter": "python",
   "pygments_lexer": "ipython2",
   "version": "2.7.14"
  }
 },
 "nbformat": 4,
 "nbformat_minor": 2
}
