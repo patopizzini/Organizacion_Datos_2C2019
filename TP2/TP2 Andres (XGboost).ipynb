{
 "cells": [
  {
   "cell_type": "markdown",
   "metadata": {},
   "source": [
    "### =====================================================================\n",
    "### IMPORTACIÓN GENERAL DE LA INFORMACIÓN.\n",
    "### ====================================================================="
   ]
  },
  {
   "cell_type": "code",
   "execution_count": 16,
   "metadata": {},
   "outputs": [],
   "source": [
    "## IMPORTACIÓN GENERAL DE LIBRERIAS Y VISUALIZACIÓN DE DATOS (matplotlib y seaborn)\n",
    "\n",
    "import pandas as pd\n",
    "import numpy as np\n",
    "import matplotlib.pyplot as plt\n",
    "import seaborn as sns\n",
    "import datetime as DT\n",
    "import warnings\n",
    "import descartes\n",
    "import geopandas as gpd\n",
    "import json\n",
    "import requests\n",
    "import geocoder\n",
    "\n",
    "# Random Forest.\n",
    "from sklearn.ensemble import RandomForestRegressor\n",
    "from shapely.geometry import Point, Polygon\n",
    "from urllib2 import urlopen\n",
    "\n",
    "# XGBoost.\n",
    "from xgboost import XGBClassifier\n",
    "import xgboost as xgb\n",
    "from sklearn.model_selection import train_test_split\n",
    "from sklearn.metrics import accuracy_score\n",
    "\n",
    "%matplotlib inline\n",
    "warnings.filterwarnings('ignore')\n",
    "plt.style.use('default') \n",
    "sns.set(style=\"whitegrid\") \n",
    "plt.rcParams['figure.figsize'] = (15, 10)"
   ]
  },
  {
   "cell_type": "markdown",
   "metadata": {},
   "source": [
    "### =====================================================================\n",
    "### ALGORITMOS DE MACHINE LEARNING:\n",
    "### ====================================================================="
   ]
  },
  {
   "cell_type": "code",
   "execution_count": 17,
   "metadata": {},
   "outputs": [],
   "source": [
    "# LECTURAS DE CSV YA PROCESADOS.\n",
    "train = pd.read_csv('DATA/train.csv')\n",
    "test = pd.read_csv('DATA/test.csv')"
   ]
  },
  {
   "cell_type": "code",
   "execution_count": 18,
   "metadata": {},
   "outputs": [
    {
     "name": "stdout",
     "output_type": "stream",
     "text": [
      "<class 'pandas.core.frame.DataFrame'>\n",
      "RangeIndex: 240000 entries, 0 to 239999\n",
      "Data columns (total 80 columns):\n",
      "id                               240000 non-null int64\n",
      "antiguedad                       240000 non-null float64\n",
      "habitaciones                     240000 non-null float64\n",
      "garages                          240000 non-null float64\n",
      "banos                            240000 non-null float64\n",
      "metroscubiertos                  240000 non-null float64\n",
      "metrostotales                    240000 non-null float64\n",
      "gimnasio                         240000 non-null float64\n",
      "usosmultiples                    240000 non-null float64\n",
      "piscina                          240000 non-null float64\n",
      "escuelascercanas                 240000 non-null float64\n",
      "centroscomercialescercanos       240000 non-null float64\n",
      "precio                           240000 non-null float64\n",
      "excelente                        240000 non-null int64\n",
      "vigilancia                       240000 non-null int64\n",
      "esquina                          240000 non-null int64\n",
      "remodelada                       240000 non-null int64\n",
      "lujo                             240000 non-null int64\n",
      "antiguedad_agrupada              240000 non-null int64\n",
      "metroscubiertos_agrupada         240000 non-null int64\n",
      "metrostotales_agrupada           240000 non-null int64\n",
      "median                           240000 non-null float64\n",
      "mean                             240000 non-null float64\n",
      "AGUASCALIENTES                   240000 non-null int64\n",
      "BAJA CALIFORNIA NORTE            240000 non-null int64\n",
      "BAJA CALIFORNIA SUR              240000 non-null int64\n",
      "CAMPECHE                         240000 non-null int64\n",
      "CHIAPAS                          240000 non-null int64\n",
      "CHIHUAHUA                        240000 non-null int64\n",
      "COAHUILA                         240000 non-null int64\n",
      "COLIMA                           240000 non-null int64\n",
      "DISTRITO FEDERAL                 240000 non-null int64\n",
      "DURANGO                          240000 non-null int64\n",
      "EDO. DE MAXICO                   240000 non-null int64\n",
      "GUANAJUATO                       240000 non-null int64\n",
      "GUERRERO                         240000 non-null int64\n",
      "HIDALGO                          240000 non-null int64\n",
      "JALISCO                          240000 non-null int64\n",
      "MICHOACAN                        240000 non-null int64\n",
      "MORELOS                          240000 non-null int64\n",
      "NAYARIT                          240000 non-null int64\n",
      "NUEVO LEA3N                      240000 non-null int64\n",
      "OAXACA                           240000 non-null int64\n",
      "PUEBLA                           240000 non-null int64\n",
      "QUERATARO                        240000 non-null int64\n",
      "QUINTANA ROO                     240000 non-null int64\n",
      "SAN LUIS POTOSA                  240000 non-null int64\n",
      "SINALOA                          240000 non-null int64\n",
      "SONORA                           240000 non-null int64\n",
      "TABASCO                          240000 non-null int64\n",
      "TAMAULIPAS                       240000 non-null int64\n",
      "TLAXCALA                         240000 non-null int64\n",
      "VERACRUZ                         240000 non-null int64\n",
      "YUCATAN                          240000 non-null int64\n",
      "ZACATECAS                        240000 non-null int64\n",
      "APARTAMENTO                      240000 non-null int64\n",
      "CASA                             240000 non-null int64\n",
      "CASA USO DE SUELO                240000 non-null int64\n",
      "COMERCIO                         240000 non-null int64\n",
      "CONDOMINIO                       240000 non-null int64\n",
      "DEPARTAMENTO COMPARTIDO          240000 non-null int64\n",
      "DUPLEX                           240000 non-null int64\n",
      "EDIFICIO                         240000 non-null int64\n",
      "GARAGE                           240000 non-null int64\n",
      "HOSPEDAJE                        240000 non-null int64\n",
      "HUERTA                           240000 non-null int64\n",
      "INMUEBLES PRODUCTIVOS URBANOS    240000 non-null int64\n",
      "LOTE                             240000 non-null int64\n",
      "NAVE INDUSTRIAL                  240000 non-null int64\n",
      "OTROS                            240000 non-null int64\n",
      "QUINTA VACACIONAL                240000 non-null int64\n",
      "RANCHO                           240000 non-null int64\n",
      "TERRENO                          240000 non-null int64\n",
      "TERRENO INDUSTRIAL               240000 non-null int64\n",
      "VILLA                            240000 non-null int64\n",
      "2012                             240000 non-null int64\n",
      "2013                             240000 non-null int64\n",
      "2014                             240000 non-null int64\n",
      "2015                             240000 non-null int64\n",
      "2016                             240000 non-null int64\n",
      "dtypes: float64(14), int64(66)\n",
      "memory usage: 146.5 MB\n"
     ]
    }
   ],
   "source": [
    "train.info()"
   ]
  },
  {
   "cell_type": "code",
   "execution_count": 19,
   "metadata": {},
   "outputs": [
    {
     "name": "stdout",
     "output_type": "stream",
     "text": [
      "<class 'pandas.core.frame.DataFrame'>\n",
      "RangeIndex: 60000 entries, 0 to 59999\n",
      "Data columns (total 79 columns):\n",
      "id                               60000 non-null int64\n",
      "antiguedad                       60000 non-null float64\n",
      "habitaciones                     60000 non-null float64\n",
      "garages                          60000 non-null float64\n",
      "banos                            60000 non-null float64\n",
      "metroscubiertos                  60000 non-null float64\n",
      "metrostotales                    60000 non-null float64\n",
      "gimnasio                         60000 non-null float64\n",
      "usosmultiples                    60000 non-null float64\n",
      "piscina                          60000 non-null float64\n",
      "escuelascercanas                 60000 non-null float64\n",
      "centroscomercialescercanos       60000 non-null float64\n",
      "excelente                        60000 non-null int64\n",
      "vigilancia                       60000 non-null int64\n",
      "esquina                          60000 non-null int64\n",
      "remodelada                       60000 non-null int64\n",
      "lujo                             60000 non-null int64\n",
      "antiguedad_agrupada              60000 non-null int64\n",
      "metroscubiertos_agrupada         60000 non-null int64\n",
      "metrostotales_agrupada           60000 non-null int64\n",
      "median                           60000 non-null float64\n",
      "mean                             60000 non-null float64\n",
      "AGUASCALIENTES                   60000 non-null int64\n",
      "BAJA CALIFORNIA NORTE            60000 non-null int64\n",
      "BAJA CALIFORNIA SUR              60000 non-null int64\n",
      "CAMPECHE                         60000 non-null int64\n",
      "CHIAPAS                          60000 non-null int64\n",
      "CHIHUAHUA                        60000 non-null int64\n",
      "COAHUILA                         60000 non-null int64\n",
      "COLIMA                           60000 non-null int64\n",
      "DISTRITO FEDERAL                 60000 non-null int64\n",
      "DURANGO                          60000 non-null int64\n",
      "EDO. DE MAXICO                   60000 non-null int64\n",
      "GUANAJUATO                       60000 non-null int64\n",
      "GUERRERO                         60000 non-null int64\n",
      "HIDALGO                          60000 non-null int64\n",
      "JALISCO                          60000 non-null int64\n",
      "MICHOACAN                        60000 non-null int64\n",
      "MORELOS                          60000 non-null int64\n",
      "NAYARIT                          60000 non-null int64\n",
      "NUEVO LEA3N                      60000 non-null int64\n",
      "OAXACA                           60000 non-null int64\n",
      "PUEBLA                           60000 non-null int64\n",
      "QUERATARO                        60000 non-null int64\n",
      "QUINTANA ROO                     60000 non-null int64\n",
      "SAN LUIS POTOSA                  60000 non-null int64\n",
      "SINALOA                          60000 non-null int64\n",
      "SONORA                           60000 non-null int64\n",
      "TABASCO                          60000 non-null int64\n",
      "TAMAULIPAS                       60000 non-null int64\n",
      "TLAXCALA                         60000 non-null int64\n",
      "VERACRUZ                         60000 non-null int64\n",
      "YUCATAN                          60000 non-null int64\n",
      "ZACATECAS                        60000 non-null int64\n",
      "APARTAMENTO                      60000 non-null int64\n",
      "CASA                             60000 non-null int64\n",
      "CASA USO DE SUELO                60000 non-null int64\n",
      "COMERCIO                         60000 non-null int64\n",
      "CONDOMINIO                       60000 non-null int64\n",
      "DEPARTAMENTO COMPARTIDO          60000 non-null int64\n",
      "DUPLEX                           60000 non-null int64\n",
      "EDIFICIO                         60000 non-null int64\n",
      "HUERTA                           60000 non-null int64\n",
      "INMUEBLES PRODUCTIVOS URBANOS    60000 non-null int64\n",
      "LOTE                             60000 non-null int64\n",
      "NAVE INDUSTRIAL                  60000 non-null int64\n",
      "OTROS                            60000 non-null int64\n",
      "QUINTA VACACIONAL                60000 non-null int64\n",
      "RANCHO                           60000 non-null int64\n",
      "TERRENO                          60000 non-null int64\n",
      "TERRENO INDUSTRIAL               60000 non-null int64\n",
      "VILLA                            60000 non-null int64\n",
      "2012                             60000 non-null int64\n",
      "2013                             60000 non-null int64\n",
      "2014                             60000 non-null int64\n",
      "2015                             60000 non-null int64\n",
      "2016                             60000 non-null int64\n",
      "HOSPEDAJE                        60000 non-null int64\n",
      "GARAGE                           60000 non-null int64\n",
      "dtypes: float64(13), int64(66)\n",
      "memory usage: 36.2 MB\n"
     ]
    }
   ],
   "source": [
    "test.info()"
   ]
  },
  {
   "cell_type": "code",
   "execution_count": 20,
   "metadata": {},
   "outputs": [],
   "source": [
    "train = train[[c for c in train if c not in ['HOSPEDAJE', 'GARAGE']] + ['HOSPEDAJE', 'GARAGE']]"
   ]
  },
  {
   "cell_type": "code",
   "execution_count": 21,
   "metadata": {},
   "outputs": [],
   "source": [
    "# Segmentamos una parte para entrenar y constatar.\n",
    "# testX = train.loc[train['2016'] == 1]\n",
    "# trainX = train.loc[train['2016'] == 0]"
   ]
  },
  {
   "cell_type": "code",
   "execution_count": 22,
   "metadata": {},
   "outputs": [],
   "source": [
    "# Label a predecir.\n",
    "# testY = np.array(train_2016['precio'])\n",
    "# testX = testX.drop('precio', axis = 1)"
   ]
  },
  {
   "cell_type": "code",
   "execution_count": 23,
   "metadata": {},
   "outputs": [],
   "source": [
    "# Resto de los labels.\n",
    "Y = np.array(train['precio'])\n",
    "X = train.drop('precio', axis = 1)"
   ]
  },
  {
   "cell_type": "code",
   "execution_count": 24,
   "metadata": {},
   "outputs": [],
   "source": [
    "trainX, testX, trainY, testY = train_test_split(X, Y, test_size=0.2, random_state=42)"
   ]
  },
  {
   "cell_type": "markdown",
   "metadata": {},
   "source": [
    "### =====================================================================\n",
    "### XGBoost.\n",
    "### ====================================================================="
   ]
  },
  {
   "cell_type": "code",
   "execution_count": 25,
   "metadata": {},
   "outputs": [],
   "source": [
    "data_dmatrix_inst = xgb.DMatrix(data=trainX,label=trainY)\n",
    "#X_train_inst, X_test_inst, y_train_inst, y_test_inst = train_test_split(trainX, trainY, test_size=0.25, random_state=100)\n",
    "xg_reg = xgb.XGBRegressor(objective = 'reg:linear', \n",
    "                          colsample_bytree = 0.3, \n",
    "                          learning_rate = 0.05,\n",
    "                          max_depth = 10, \n",
    "                          alpha = 7, \n",
    "                          n_estimators = 500)"
   ]
  },
  {
   "cell_type": "code",
   "execution_count": 26,
   "metadata": {},
   "outputs": [
    {
     "data": {
      "text/plain": [
       "XGBRegressor(alpha=7, base_score=0.5, booster='gbtree', colsample_bylevel=1,\n",
       "       colsample_bytree=0.3, gamma=0, learning_rate=0.05, max_delta_step=0,\n",
       "       max_depth=10, min_child_weight=1, missing=None, n_estimators=500,\n",
       "       n_jobs=1, nthread=None, objective='reg:linear', random_state=0,\n",
       "       reg_alpha=0, reg_lambda=1, scale_pos_weight=1, seed=None,\n",
       "       silent=True, subsample=1)"
      ]
     },
     "execution_count": 26,
     "metadata": {},
     "output_type": "execute_result"
    }
   ],
   "source": [
    "xg_reg.fit(trainX,trainY)"
   ]
  },
  {
   "cell_type": "code",
   "execution_count": 27,
   "metadata": {},
   "outputs": [
    {
     "name": "stdout",
     "output_type": "stream",
     "text": [
      "('Error:', 464511.21, 'grados.')\n"
     ]
    }
   ],
   "source": [
    "y_pred = xg_reg.predict(testX)\n",
    "# Calculamos el error absoluto.\n",
    "errors = abs(y_pred - testY)\n",
    "# Imprimimos el error.\n",
    "print('Error:', round(np.mean(errors), 2), 'grados.')"
   ]
  },
  {
   "cell_type": "code",
   "execution_count": 28,
   "metadata": {},
   "outputs": [
    {
     "name": "stdout",
     "output_type": "stream",
     "text": [
      "('Precision:', 78.13, '%.')\n"
     ]
    }
   ],
   "source": [
    "# Calculamos el porcentaje de error.\n",
    "mape = 100 * (errors / testY)\n",
    "# Calculate la precisión.\n",
    "accuracy = 100 - np.mean(mape)\n",
    "print('Precision:', round(accuracy, 2), '%.')"
   ]
  },
  {
   "cell_type": "code",
   "execution_count": 29,
   "metadata": {},
   "outputs": [],
   "source": [
    "prediccion = xg_reg.predict(test)"
   ]
  },
  {
   "cell_type": "code",
   "execution_count": 30,
   "metadata": {},
   "outputs": [],
   "source": [
    "## =================================================================================================\n",
    "## ARMAMOS EN BASE A LA PREDICCIÓN QUE TENEMOS UN CSV PARA SUBIR A KAGGLE CON EL FORMATO INDICADO!\n",
    "## =================================================================================================\n",
    "submission = pd.DataFrame({ 'id': test['id'], 'target': prediccion })\n",
    "submission.to_csv(\"SUBMITS/007_G34_XGBoost.csv\", index=False)"
   ]
  },
  {
   "cell_type": "code",
   "execution_count": null,
   "metadata": {},
   "outputs": [],
   "source": []
  }
 ],
 "metadata": {
  "kernelspec": {
   "display_name": "Python 2",
   "language": "python",
   "name": "python2"
  },
  "language_info": {
   "codemirror_mode": {
    "name": "ipython",
    "version": 2
   },
   "file_extension": ".py",
   "mimetype": "text/x-python",
   "name": "python",
   "nbconvert_exporter": "python",
   "pygments_lexer": "ipython2",
   "version": "2.7.14"
  }
 },
 "nbformat": 4,
 "nbformat_minor": 2
}
