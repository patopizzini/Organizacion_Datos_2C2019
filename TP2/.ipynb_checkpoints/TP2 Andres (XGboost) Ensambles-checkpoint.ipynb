{
 "cells": [
  {
   "cell_type": "markdown",
   "metadata": {},
   "source": [
    "### =====================================================================\n",
    "### IMPORTACIÓN GENERAL DE LA INFORMACIÓN.\n",
    "### ====================================================================="
   ]
  },
  {
   "cell_type": "code",
   "execution_count": 1,
   "metadata": {},
   "outputs": [],
   "source": [
    "## IMPORTACIÓN GENERAL DE LIBRERIAS Y VISUALIZACIÓN DE DATOS (matplotlib y seaborn)\n",
    "\n",
    "import pandas as pd\n",
    "import numpy as np\n",
    "import matplotlib.pyplot as plt\n",
    "import seaborn as sns\n",
    "import datetime as DT\n",
    "import warnings\n",
    "import descartes\n",
    "import geopandas as gpd\n",
    "import json\n",
    "import requests\n",
    "import geocoder\n",
    "\n",
    "# Random Forest.\n",
    "from sklearn.ensemble import RandomForestRegressor\n",
    "from shapely.geometry import Point, Polygon\n",
    "from urllib2 import urlopen\n",
    "\n",
    "# XGBoost.\n",
    "from xgboost import XGBClassifier\n",
    "import xgboost as xgb\n",
    "from sklearn.model_selection import train_test_split\n",
    "from sklearn.metrics import accuracy_score\n",
    "\n",
    "from sklearn.model_selection import KFold\n",
    "from sklearn.model_selection import cross_val_score\n",
    "\n",
    "%matplotlib inline\n",
    "warnings.filterwarnings('ignore')\n",
    "plt.style.use('default') \n",
    "sns.set(style=\"whitegrid\") \n",
    "plt.rcParams['figure.figsize'] = (15, 10)"
   ]
  },
  {
   "cell_type": "markdown",
   "metadata": {},
   "source": [
    "### =====================================================================\n",
    "### ALGORITMOS DE MACHINE LEARNING:\n",
    "### ====================================================================="
   ]
  },
  {
   "cell_type": "code",
   "execution_count": 2,
   "metadata": {},
   "outputs": [],
   "source": [
    "# LECTURAS DE CSV YA PROCESADOS.\n",
    "train = pd.read_csv('DATA/train_procesado.csv')\n",
    "test = pd.read_csv('DATA/test_procesado.csv')"
   ]
  },
  {
   "cell_type": "code",
   "execution_count": 3,
   "metadata": {},
   "outputs": [],
   "source": [
    "Identificador = pd.DataFrame()\n",
    "Identificador['id'] = test['id']"
   ]
  },
  {
   "cell_type": "code",
   "execution_count": 4,
   "metadata": {},
   "outputs": [],
   "source": [
    "train = train.drop('id', axis = 1)\n",
    "test = test.drop('id', axis = 1)\n",
    "\n",
    "#train = train.drop('mean', axis = 1)\n",
    "#test = test.drop('mean', axis = 1)\n",
    "#train = train.drop('median', axis = 1)\n",
    "#test = test.drop('median', axis = 1)"
   ]
  },
  {
   "cell_type": "code",
   "execution_count": 5,
   "metadata": {},
   "outputs": [
    {
     "name": "stdout",
     "output_type": "stream",
     "text": [
      "<class 'pandas.core.frame.DataFrame'>\n",
      "RangeIndex: 240000 entries, 0 to 239999\n",
      "Data columns (total 78 columns):\n",
      "habitaciones                  240000 non-null int64\n",
      "garages                       240000 non-null int64\n",
      "banos                         240000 non-null int64\n",
      "gimnasio                      240000 non-null int64\n",
      "usosmultiples                 240000 non-null int64\n",
      "piscina                       240000 non-null int64\n",
      "escuelascercanas              240000 non-null int64\n",
      "centroscomercialescercanos    240000 non-null int64\n",
      "2012                          240000 non-null int64\n",
      "2013                          240000 non-null int64\n",
      "2014                          240000 non-null int64\n",
      "2015                          240000 non-null int64\n",
      "2016                          240000 non-null int64\n",
      "precio                        240000 non-null float64\n",
      "ciudad                        240000 non-null int64\n",
      "provincia                     240000 non-null int64\n",
      "tipodepropiedad               240000 non-null int64\n",
      "antiguedad_agrupada           240000 non-null int64\n",
      "metroscubiertos_agrupada      240000 non-null int64\n",
      "metrostotales_agrupada        240000 non-null int64\n",
      "median_propiedad              240000 non-null float64\n",
      "mean_propiedad                240000 non-null float64\n",
      "median_agrupado               240000 non-null float64\n",
      "mean_agrupado                 240000 non-null float64\n",
      "median_2016                   240000 non-null float64\n",
      "mean_2016                     240000 non-null float64\n",
      "median_2016_agrupado          240000 non-null float64\n",
      "mean_2016_agrupado            240000 non-null float64\n",
      "ILUMINADA                     240000 non-null int64\n",
      "TRANQUILO                     240000 non-null int64\n",
      "UNIVERSIDAD                   240000 non-null int64\n",
      "AVENIDA                       240000 non-null int64\n",
      "AMENIDADES                    240000 non-null int64\n",
      "BARRA                         240000 non-null int64\n",
      "BALCON                        240000 non-null int64\n",
      "RECIBIDOR                     240000 non-null int64\n",
      "DESPENSA                      240000 non-null int64\n",
      "LAVADERO                      240000 non-null int64\n",
      "REJA                          240000 non-null int64\n",
      "TERRAZA                       240000 non-null int64\n",
      "CHIMENEA                      240000 non-null int64\n",
      "CISTERNA                      240000 non-null int64\n",
      "NUEVA                         240000 non-null int64\n",
      "EXCELENTE                     240000 non-null int64\n",
      "VENTA                         240000 non-null int64\n",
      "PREVENTA                      240000 non-null int64\n",
      "RENTA                         240000 non-null int64\n",
      "CREDITO                       240000 non-null int64\n",
      "REMATE                        240000 non-null int64\n",
      "OPORTUNIDAD                   240000 non-null int64\n",
      "RESIDENCIA                    240000 non-null int64\n",
      "EDIFICIO                      240000 non-null int64\n",
      "TORRE                         240000 non-null int64\n",
      "PISO                          240000 non-null int64\n",
      "LOFT                          240000 non-null int64\n",
      "FRACCIONAMIENTO               240000 non-null int64\n",
      "DUPLEX                        240000 non-null int64\n",
      "COUNTRY                       240000 non-null int64\n",
      "QUINTA                        240000 non-null int64\n",
      "OFICINA                       240000 non-null int64\n",
      "PENTHOUSE                     240000 non-null int64\n",
      "REMODELADO                    240000 non-null int64\n",
      "MODERNO                       240000 non-null int64\n",
      "MINIMALISTA                   240000 non-null int64\n",
      "EQUIPADA                      240000 non-null int64\n",
      "JARDIN                        240000 non-null int64\n",
      "FRENTE                        240000 non-null int64\n",
      "ESQUINA                       240000 non-null int64\n",
      "CENTRO                        240000 non-null int64\n",
      "UBICACION                     240000 non-null int64\n",
      "VISTA                         240000 non-null int64\n",
      "LUJO                          240000 non-null int64\n",
      "BODEGA                        240000 non-null int64\n",
      "CAMPESTRE                     240000 non-null int64\n",
      "RANCHO                        240000 non-null int64\n",
      "PLAYA                         240000 non-null int64\n",
      "GOLF                          240000 non-null int64\n",
      "SEGURIDAD                     240000 non-null int64\n",
      "dtypes: float64(9), int64(69)\n",
      "memory usage: 142.8 MB\n"
     ]
    }
   ],
   "source": [
    "train.info()"
   ]
  },
  {
   "cell_type": "code",
   "execution_count": 6,
   "metadata": {},
   "outputs": [
    {
     "name": "stdout",
     "output_type": "stream",
     "text": [
      "<class 'pandas.core.frame.DataFrame'>\n",
      "RangeIndex: 60000 entries, 0 to 59999\n",
      "Data columns (total 77 columns):\n",
      "habitaciones                  60000 non-null int64\n",
      "garages                       60000 non-null int64\n",
      "banos                         60000 non-null int64\n",
      "gimnasio                      60000 non-null int64\n",
      "usosmultiples                 60000 non-null int64\n",
      "piscina                       60000 non-null int64\n",
      "escuelascercanas              60000 non-null int64\n",
      "centroscomercialescercanos    60000 non-null int64\n",
      "2012                          60000 non-null int64\n",
      "2013                          60000 non-null int64\n",
      "2014                          60000 non-null int64\n",
      "2015                          60000 non-null int64\n",
      "2016                          60000 non-null int64\n",
      "ciudad                        60000 non-null int64\n",
      "provincia                     60000 non-null int64\n",
      "tipodepropiedad               60000 non-null int64\n",
      "antiguedad_agrupada           60000 non-null int64\n",
      "metroscubiertos_agrupada      60000 non-null int64\n",
      "metrostotales_agrupada        60000 non-null int64\n",
      "median_propiedad              60000 non-null float64\n",
      "mean_propiedad                60000 non-null float64\n",
      "median_agrupado               60000 non-null float64\n",
      "mean_agrupado                 60000 non-null float64\n",
      "median_2016                   60000 non-null float64\n",
      "mean_2016                     60000 non-null float64\n",
      "median_2016_agrupado          60000 non-null float64\n",
      "mean_2016_agrupado            60000 non-null float64\n",
      "ILUMINADA                     60000 non-null int64\n",
      "TRANQUILO                     60000 non-null int64\n",
      "UNIVERSIDAD                   60000 non-null int64\n",
      "AVENIDA                       60000 non-null int64\n",
      "AMENIDADES                    60000 non-null int64\n",
      "BARRA                         60000 non-null int64\n",
      "BALCON                        60000 non-null int64\n",
      "RECIBIDOR                     60000 non-null int64\n",
      "DESPENSA                      60000 non-null int64\n",
      "LAVADERO                      60000 non-null int64\n",
      "REJA                          60000 non-null int64\n",
      "TERRAZA                       60000 non-null int64\n",
      "CHIMENEA                      60000 non-null int64\n",
      "CISTERNA                      60000 non-null int64\n",
      "NUEVA                         60000 non-null int64\n",
      "EXCELENTE                     60000 non-null int64\n",
      "VENTA                         60000 non-null int64\n",
      "PREVENTA                      60000 non-null int64\n",
      "RENTA                         60000 non-null int64\n",
      "CREDITO                       60000 non-null int64\n",
      "REMATE                        60000 non-null int64\n",
      "OPORTUNIDAD                   60000 non-null int64\n",
      "RESIDENCIA                    60000 non-null int64\n",
      "EDIFICIO                      60000 non-null int64\n",
      "TORRE                         60000 non-null int64\n",
      "PISO                          60000 non-null int64\n",
      "LOFT                          60000 non-null int64\n",
      "FRACCIONAMIENTO               60000 non-null int64\n",
      "DUPLEX                        60000 non-null int64\n",
      "COUNTRY                       60000 non-null int64\n",
      "QUINTA                        60000 non-null int64\n",
      "OFICINA                       60000 non-null int64\n",
      "PENTHOUSE                     60000 non-null int64\n",
      "REMODELADO                    60000 non-null int64\n",
      "MODERNO                       60000 non-null int64\n",
      "MINIMALISTA                   60000 non-null int64\n",
      "EQUIPADA                      60000 non-null int64\n",
      "JARDIN                        60000 non-null int64\n",
      "FRENTE                        60000 non-null int64\n",
      "ESQUINA                       60000 non-null int64\n",
      "CENTRO                        60000 non-null int64\n",
      "UBICACION                     60000 non-null int64\n",
      "VISTA                         60000 non-null int64\n",
      "LUJO                          60000 non-null int64\n",
      "BODEGA                        60000 non-null int64\n",
      "CAMPESTRE                     60000 non-null int64\n",
      "RANCHO                        60000 non-null int64\n",
      "PLAYA                         60000 non-null int64\n",
      "GOLF                          60000 non-null int64\n",
      "SEGURIDAD                     60000 non-null int64\n",
      "dtypes: float64(8), int64(69)\n",
      "memory usage: 35.2 MB\n"
     ]
    }
   ],
   "source": [
    "test.info()"
   ]
  },
  {
   "cell_type": "code",
   "execution_count": 7,
   "metadata": {},
   "outputs": [],
   "source": [
    "# Resto de los labels.\n",
    "Y = np.array(train['precio'])\n",
    "X = train.drop('precio', axis = 1)"
   ]
  },
  {
   "cell_type": "markdown",
   "metadata": {},
   "source": [
    "### =====================================================================\n",
    "### XGBoost.\n",
    "### ====================================================================="
   ]
  },
  {
   "cell_type": "code",
   "execution_count": 8,
   "metadata": {},
   "outputs": [],
   "source": [
    "## MODELO ENSAMBLE 1.\n",
    "trainX_M1, testX_M1, trainY_M1, testY_M1 = train_test_split(X, Y, test_size=0.3, random_state=45)\n",
    "data_dmatrix_inst = xgb.DMatrix(data=trainX_M1,label=trainY_M1)\n",
    "model1 = xgb.XGBRegressor(objective = 'reg:linear', \n",
    "                          n_estimators = 500,\n",
    "                          min_child_weight = 5,\n",
    "                          learning_rate = 0.05017181127931773,\n",
    "                          gamma = 10,\n",
    "                          reg_lambda = 3,\n",
    "                          max_depth = 9,\n",
    "                          colsample_bytree = 0.7585033814547916, \n",
    "                          subsample_bytree = 0.9779760690574663)\n",
    "model1.fit(trainX_M1,trainY_M1)\n",
    "pred_M1 = model1.predict(testX_M1)"
   ]
  },
  {
   "cell_type": "code",
   "execution_count": 9,
   "metadata": {},
   "outputs": [],
   "source": [
    "# MODELO ENSAMBLE 2.\n",
    "trainX_M2, testX_M2, trainY_M2, testY_M2 = train_test_split(X, Y, test_size=0.3, random_state=40)\n",
    "data_dmatrix_inst = xgb.DMatrix(data=trainX_M2,label=trainY_M2)\n",
    "model2 = xgb.XGBRegressor(objective = 'reg:linear', \n",
    "                          n_estimators = 500,\n",
    "                          min_child_weight = 5,\n",
    "                          learning_rate = 0.1,\n",
    "                          gamma = 9,\n",
    "                          reg_lambda = 2,\n",
    "                          max_depth = 7,\n",
    "                          colsample_bytree = 0.6, \n",
    "                          subsample_bytree = 0.8)\n",
    "model2.fit(trainX_M2,trainY_M2)\n",
    "pred_M2 = model2.predict(testX_M2)"
   ]
  },
  {
   "cell_type": "code",
   "execution_count": 10,
   "metadata": {},
   "outputs": [],
   "source": [
    "# MODELO ENSAMBLE 3.\n",
    "trainX_M3, testX_M3, trainY_M3, testY_M3 = train_test_split(X, Y, test_size=0.3, random_state=42)\n",
    "data_dmatrix_inst = xgb.DMatrix(data=trainX_M3,label=trainY_M3)\n",
    "model3 = xgb.XGBRegressor(objective = 'reg:linear', \n",
    "                          n_estimators = 500,\n",
    "                          min_child_weight = 5,\n",
    "                          learning_rate = 0.05017181127931773,\n",
    "                          gamma = 9,\n",
    "                          reg_lambda = 2,\n",
    "                          max_depth = 6,\n",
    "                          colsample_bytree = 0.7585033814547916, \n",
    "                          subsample_bytree = 0.9779760690574663)\n",
    "model3.fit(trainX_M3,trainY_M3)\n",
    "pred_M3 = model3.predict(testX_M3)"
   ]
  },
  {
   "cell_type": "code",
   "execution_count": 11,
   "metadata": {},
   "outputs": [],
   "source": [
    "# MODELO ENSAMBLE 4.\n",
    "trainX_M4, testX_M4, trainY_M4, testY_M4 = train_test_split(X, Y, test_size=0.3, random_state=40)\n",
    "data_dmatrix_inst = xgb.DMatrix(data=trainX_M4,label=trainY_M4)\n",
    "model4 =  RandomForestRegressor(n_estimators = 200, random_state = 100)\n",
    "model4.fit(trainX_M4,trainY_M4)\n",
    "pred_M4 = model4.predict(testX_M4)"
   ]
  },
  {
   "cell_type": "code",
   "execution_count": 12,
   "metadata": {},
   "outputs": [],
   "source": [
    "# MODELO ENSAMBLE 5.\n",
    "trainX_M5, testX_M5, trainY_M5, testY_M5 = train_test_split(X, Y, test_size=0.3, random_state=40)\n",
    "data_dmatrix_inst = xgb.DMatrix(data=trainX_M5,label=trainY_M5)\n",
    "model5 = xgb.XGBRegressor(objective = 'reg:linear', \n",
    "                          n_estimators = 500,\n",
    "                          min_child_weight = 5,\n",
    "                          learning_rate = 0.05017181127931773,\n",
    "                          gamma = 9,\n",
    "                          reg_lambda = 2,\n",
    "                          max_depth = 6,\n",
    "                          colsample_bytree = 0.7585033814547916, \n",
    "                          subsample_bytree = 0.9779760690574663)\n",
    "model5.fit(trainX_M5,trainY_M5)\n",
    "pred_M5 = model5.predict(testX_M5)"
   ]
  },
  {
   "cell_type": "code",
   "execution_count": 15,
   "metadata": {},
   "outputs": [],
   "source": [
    "y_pred=(pred_M1+pred_M2+pred_M3+pred_M4+pred_M5)/5\n",
    "testY = (testY_M1+testY_M2+testY_M3+testY_M4+testY_M5)/5\n",
    "# y_pred = xg_reg.predict(testX)"
   ]
  },
  {
   "cell_type": "code",
   "execution_count": 16,
   "metadata": {},
   "outputs": [
    {
     "name": "stdout",
     "output_type": "stream",
     "text": [
      "('Error:', 229342.27, 'grados.')\n"
     ]
    }
   ],
   "source": [
    "# y_pred = xg_reg.predict(testX)\n",
    "# Calculamos el error absoluto.\n",
    "errors = abs(y_pred - testY)\n",
    "# Imprimimos el error.\n",
    "print('Error:', round(np.mean(errors), 2), 'grados.')"
   ]
  },
  {
   "cell_type": "code",
   "execution_count": 17,
   "metadata": {},
   "outputs": [
    {
     "name": "stdout",
     "output_type": "stream",
     "text": [
      "('Precision:', 90.76, '%.')\n"
     ]
    }
   ],
   "source": [
    "# Calculamos el porcentaje de error.\n",
    "mape = 100 * (errors / testY)\n",
    "# Calculate la precisión.\n",
    "accuracy = 100 - np.mean(mape)\n",
    "print('Precision:', round(accuracy, 2), '%.')"
   ]
  },
  {
   "cell_type": "code",
   "execution_count": 18,
   "metadata": {},
   "outputs": [],
   "source": [
    "#prediccion = xg_reg.predict(test)\n",
    "\n",
    "pred_M1_f = model1.predict(test)\n",
    "pred_M2_f = model2.predict(test)\n",
    "pred_M3_f = model3.predict(test)\n",
    "pred_M4_f = model4.predict(test)\n",
    "pred_M5_f = model5.predict(test)\n",
    "\n",
    "prediccion = np.array([])\n",
    "for i in range(0,len(x_test)):\n",
    "    prediccion = np.append(final_pred, mode([pred1[i], pred2[i], pred3[i]]))\n",
    "\n",
    "# prediccion =(pred_M1_f+pred_M2_f+pred_M3_f+pred_M4_f+pred_M5_f)/5"
   ]
  },
  {
   "cell_type": "code",
   "execution_count": 19,
   "metadata": {},
   "outputs": [],
   "source": [
    "## =================================================================================================\n",
    "## ARMAMOS EN BASE A LA PREDICCIÓN QUE TENEMOS UN CSV PARA SUBIR A KAGGLE CON EL FORMATO INDICADO!\n",
    "## =================================================================================================\n",
    "submission = pd.DataFrame({ 'id': Identificador['id'], 'target': prediccion })\n",
    "submission.to_csv(\"SUBMITS/012_G34_Ensambles.csv\", index=False)"
   ]
  },
  {
   "cell_type": "code",
   "execution_count": null,
   "metadata": {},
   "outputs": [],
   "source": []
  }
 ],
 "metadata": {
  "kernelspec": {
   "display_name": "Python 2",
   "language": "python",
   "name": "python2"
  },
  "language_info": {
   "codemirror_mode": {
    "name": "ipython",
    "version": 2
   },
   "file_extension": ".py",
   "mimetype": "text/x-python",
   "name": "python",
   "nbconvert_exporter": "python",
   "pygments_lexer": "ipython2",
   "version": "2.7.14"
  }
 },
 "nbformat": 4,
 "nbformat_minor": 2
}
