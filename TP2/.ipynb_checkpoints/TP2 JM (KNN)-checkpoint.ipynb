{
 "cells": [
  {
   "cell_type": "markdown",
   "metadata": {},
   "source": [
    "### =======================================================================\n",
    "### IMPORTACIÓN DE DATOS.\n",
    "### ======================================================================="
   ]
  },
  {
   "cell_type": "code",
   "execution_count": 1,
   "metadata": {},
   "outputs": [],
   "source": [
    "## IMPORTACIÓN GENERAL DE LIBRERIAS Y VISUALIZACIÓN DE DATOS (matplotlib y seaborn)\n",
    "import pandas as pd\n",
    "import numpy as np\n",
    "import matplotlib.pyplot as plt\n",
    "import seaborn as sns\n",
    "import datetime as DT\n",
    "import warnings\n",
    "from sklearn import metrics\n",
    "from sklearn.model_selection import train_test_split\n",
    "from sklearn.neighbors import KNeighborsClassifier\n",
    "import sys\n",
    "\n",
    "%matplotlib inline\n",
    "warnings.filterwarnings('ignore')\n",
    "plt.style.use('default') \n",
    "sns.set(style=\"whitegrid\") \n",
    "plt.rcParams['figure.figsize'] = (15, 10)\n",
    "pd.set_option('display.max_columns', 1000)\n",
    "np.set_printoptions(threshold=sys.maxsize)"
   ]
  },
  {
   "cell_type": "code",
   "execution_count": 2,
   "metadata": {},
   "outputs": [],
   "source": [
    "# LECTURAS DE CSV YA PROCESADOS.\n",
    "train = pd.read_csv('DATA/trainProcesado_precio_v2.csv')\n",
    "test = pd.read_csv('DATA/testProcesado_v2.csv')"
   ]
  },
  {
   "cell_type": "code",
   "execution_count": 3,
   "metadata": {},
   "outputs": [
    {
     "name": "stdout",
     "output_type": "stream",
     "text": [
      "<class 'pandas.core.frame.DataFrame'>\n",
      "RangeIndex: 240000 entries, 0 to 239999\n",
      "Data columns (total 57 columns):\n",
      "id                            240000 non-null int64\n",
      "antiguedad                    240000 non-null int64\n",
      "habitaciones                  240000 non-null int64\n",
      "garages                       240000 non-null int64\n",
      "banos                         240000 non-null int64\n",
      "metroscubiertos               240000 non-null int64\n",
      "metrostotales                 240000 non-null int64\n",
      "gimnasio                      240000 non-null int64\n",
      "usosmultiples                 240000 non-null int64\n",
      "piscina                       240000 non-null int64\n",
      "escuelascercanas              240000 non-null int64\n",
      "centroscomercialescercanos    240000 non-null int64\n",
      "2012                          240000 non-null int64\n",
      "2013                          240000 non-null int64\n",
      "2014                          240000 non-null int64\n",
      "2015                          240000 non-null int64\n",
      "2016                          240000 non-null int64\n",
      "precio                        240000 non-null float64\n",
      "ciudad                        240000 non-null int64\n",
      "provincia                     240000 non-null int64\n",
      "tipodepropiedad               240000 non-null int64\n",
      "NUEVA                         240000 non-null int64\n",
      "EXCELENTE                     240000 non-null int64\n",
      "VENTA                         240000 non-null int64\n",
      "PREVENTA                      240000 non-null int64\n",
      "RENTA                         240000 non-null int64\n",
      "CREDITO                       240000 non-null int64\n",
      "REMATE                        240000 non-null int64\n",
      "OPORTUNIDAD                   240000 non-null int64\n",
      "RESIDENCIA                    240000 non-null int64\n",
      "EDIFICIO                      240000 non-null int64\n",
      "TORRE                         240000 non-null int64\n",
      "PISO                          240000 non-null int64\n",
      "LOFT                          240000 non-null int64\n",
      "FRACCIONAMIENTO               240000 non-null int64\n",
      "DUPLEX                        240000 non-null int64\n",
      "COUNTRY                       240000 non-null int64\n",
      "QUINTA                        240000 non-null int64\n",
      "OFICINA                       240000 non-null int64\n",
      "PENTHOUSE                     240000 non-null int64\n",
      "REMODELADO                    240000 non-null int64\n",
      "MODERNO                       240000 non-null int64\n",
      "MINIMALISTA                   240000 non-null int64\n",
      "EQUIPADA                      240000 non-null int64\n",
      "JARDIN                        240000 non-null int64\n",
      "FRENTE                        240000 non-null int64\n",
      "ESQUINA                       240000 non-null int64\n",
      "CENTRO                        240000 non-null int64\n",
      "UBICACION                     240000 non-null int64\n",
      "VISTA                         240000 non-null int64\n",
      "LUJO                          240000 non-null int64\n",
      "BODEGA                        240000 non-null int64\n",
      "CAMPESTRE                     240000 non-null int64\n",
      "RANCHO                        240000 non-null int64\n",
      "PLAYA                         240000 non-null int64\n",
      "GOLF                          240000 non-null int64\n",
      "SEGURIDAD                     240000 non-null int64\n",
      "dtypes: float64(1), int64(56)\n",
      "memory usage: 104.4 MB\n"
     ]
    }
   ],
   "source": [
    "train.info()"
   ]
  },
  {
   "cell_type": "code",
   "execution_count": 4,
   "metadata": {},
   "outputs": [
    {
     "name": "stdout",
     "output_type": "stream",
     "text": [
      "<class 'pandas.core.frame.DataFrame'>\n",
      "RangeIndex: 60000 entries, 0 to 59999\n",
      "Data columns (total 56 columns):\n",
      "id                            60000 non-null int64\n",
      "antiguedad                    60000 non-null int64\n",
      "habitaciones                  60000 non-null int64\n",
      "garages                       60000 non-null int64\n",
      "banos                         60000 non-null int64\n",
      "metroscubiertos               60000 non-null int64\n",
      "metrostotales                 60000 non-null int64\n",
      "gimnasio                      60000 non-null int64\n",
      "usosmultiples                 60000 non-null int64\n",
      "piscina                       60000 non-null int64\n",
      "escuelascercanas              60000 non-null int64\n",
      "centroscomercialescercanos    60000 non-null int64\n",
      "2012                          60000 non-null int64\n",
      "2013                          60000 non-null int64\n",
      "2014                          60000 non-null int64\n",
      "2015                          60000 non-null int64\n",
      "2016                          60000 non-null int64\n",
      "ciudad                        60000 non-null int64\n",
      "provincia                     60000 non-null int64\n",
      "tipodepropiedad               60000 non-null int64\n",
      "NUEVA                         60000 non-null int64\n",
      "EXCELENTE                     60000 non-null int64\n",
      "VENTA                         60000 non-null int64\n",
      "PREVENTA                      60000 non-null int64\n",
      "RENTA                         60000 non-null int64\n",
      "CREDITO                       60000 non-null int64\n",
      "REMATE                        60000 non-null int64\n",
      "OPORTUNIDAD                   60000 non-null int64\n",
      "RESIDENCIA                    60000 non-null int64\n",
      "EDIFICIO                      60000 non-null int64\n",
      "TORRE                         60000 non-null int64\n",
      "PISO                          60000 non-null int64\n",
      "LOFT                          60000 non-null int64\n",
      "FRACCIONAMIENTO               60000 non-null int64\n",
      "DUPLEX                        60000 non-null int64\n",
      "COUNTRY                       60000 non-null int64\n",
      "QUINTA                        60000 non-null int64\n",
      "OFICINA                       60000 non-null int64\n",
      "PENTHOUSE                     60000 non-null int64\n",
      "REMODELADO                    60000 non-null int64\n",
      "MODERNO                       60000 non-null int64\n",
      "MINIMALISTA                   60000 non-null int64\n",
      "EQUIPADA                      60000 non-null int64\n",
      "JARDIN                        60000 non-null int64\n",
      "FRENTE                        60000 non-null int64\n",
      "ESQUINA                       60000 non-null int64\n",
      "CENTRO                        60000 non-null int64\n",
      "UBICACION                     60000 non-null int64\n",
      "VISTA                         60000 non-null int64\n",
      "LUJO                          60000 non-null int64\n",
      "BODEGA                        60000 non-null int64\n",
      "CAMPESTRE                     60000 non-null int64\n",
      "RANCHO                        60000 non-null int64\n",
      "PLAYA                         60000 non-null int64\n",
      "GOLF                          60000 non-null int64\n",
      "SEGURIDAD                     60000 non-null int64\n",
      "dtypes: int64(56)\n",
      "memory usage: 25.6 MB\n"
     ]
    }
   ],
   "source": [
    "test.info()"
   ]
  },
  {
   "cell_type": "markdown",
   "metadata": {},
   "source": [
    "### =======================================================================\n",
    "### ENTRENAMIENTO Y PREDICCIÓN.\n",
    "### ======================================================================="
   ]
  },
  {
   "cell_type": "code",
   "execution_count": 5,
   "metadata": {},
   "outputs": [],
   "source": [
    "# Resto de los labels.\n",
    "Y = np.array(train['precio'])\n",
    "X = train.drop('precio', axis = 1)\n",
    "X = X.drop('id', axis = 1)"
   ]
  },
  {
   "cell_type": "code",
   "execution_count": 6,
   "metadata": {},
   "outputs": [],
   "source": [
    "trainX, testX, trainY, testY = train_test_split(X, Y, test_size=0.2, random_state=4)"
   ]
  },
  {
   "cell_type": "code",
   "execution_count": 7,
   "metadata": {},
   "outputs": [],
   "source": [
    "###############################################################################\n",
    "## APLICANDO KNN.\n",
    "###############################################################################\n",
    "\n",
    "k_range = range(1,100)\n",
    "scores = {}\n",
    "scores_list = []\n",
    "for k in k_range:\n",
    "    knn = KNeighborsClassifier(n_neighbors=k)\n",
    "    knn.fit(trainX, trainY)\n",
    "    predY = knn.predict(testX)\n",
    "    scores[k] = metrics.accuracy_score(testY,predY)\n",
    "    scores_list.append(metrics.accuracy_score(testY,predY))\n",
    "\n",
    "###############################################################################"
   ]
  },
  {
   "cell_type": "code",
   "execution_count": 8,
   "metadata": {},
   "outputs": [
    {
     "data": {
      "text/plain": [
       "Text(0, 0.5, 'Testing Accuracy')"
      ]
     },
     "execution_count": 8,
     "metadata": {},
     "output_type": "execute_result"
    },
    {
     "data": {
      "image/png": "[encoded data removed]",
      "text/plain": [
       "<Figure size 432x288 with 1 Axes>"
      ]
     },
     "metadata": {
      "needs_background": "light"
     },
     "output_type": "display_data"
    }
   ],
   "source": [
    "#Plot the relationship between the values of K and the corresponding testing accuracy using the matplotlib library.\n",
    "#In general as the value of K increase there appears to be a raise in the accuracy and again it falls.\n",
    "plt.plot(k_range,scores_list)\n",
    "plt.xlabel('Value of K for KNN')\n",
    "plt.ylabel('Testing Accuracy')"
   ]
  },
  {
   "cell_type": "code",
   "execution_count": 16,
   "metadata": {},
   "outputs": [],
   "source": [
    "#In general the Training accuracy rises as the model complexity increases, for KNN the model complexity is determined by the value of K.\n",
    "#Larger K value leads to smoother decision boundary (less complex model). Smaller K leads to more complex model (may lead to overfitting)\n",
    "#Elejimos k = 10\n",
    "knn_final = KNeighborsClassifier(n_neighbors=10)\n",
    "knn_final.fit(X, Y)\n",
    "prediccion = knn_final.predict(test.drop('id', 1))"
   ]
  },
  {
   "cell_type": "code",
   "execution_count": 17,
   "metadata": {},
   "outputs": [
    {
     "data": {
      "text/plain": [
       "0.19432083333333333"
      ]
     },
     "execution_count": 17,
     "metadata": {},
     "output_type": "execute_result"
    }
   ],
   "source": [
    "knn_final.score(X,Y)"
   ]
  },
  {
   "cell_type": "code",
   "execution_count": 15,
   "metadata": {},
   "outputs": [],
   "source": [
    "## =================================================================================================\n",
    "## ARMAMOS EN BASE A LA PREDICCIÓN QUE TENEMOS UN CSV PARA SUBIR A KAGGLE CON EL FORMATO INDICADO!\n",
    "## =================================================================================================\n",
    "submission = pd.DataFrame({ 'id': test['id'], 'target': prediccion })\n",
    "submission.to_csv(\"SUBMITS/006_G34_KNN.csv\", index=False)"
   ]
  },
  {
   "cell_type": "code",
   "execution_count": null,
   "metadata": {},
   "outputs": [],
   "source": []
  }
 ],
 "metadata": {
  "kernelspec": {
   "display_name": "Python 2",
   "language": "python",
   "name": "python2"
  },
  "language_info": {
   "codemirror_mode": {
    "name": "ipython",
    "version": 2
   },
   "file_extension": ".py",
   "mimetype": "text/x-python",
   "name": "python",
   "nbconvert_exporter": "python",
   "pygments_lexer": "ipython2",
   "version": "2.7.14"
  }
 },
 "nbformat": 4,
 "nbformat_minor": 4
}
