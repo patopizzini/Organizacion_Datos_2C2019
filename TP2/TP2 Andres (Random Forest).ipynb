{
 "cells": [
  {
   "cell_type": "markdown",
   "metadata": {},
   "source": [
    "### =====================================================================\n",
    "### IMPORTACIÓN GENERAL DE LA INFORMACIÓN.\n",
    "### ====================================================================="
   ]
  },
  {
   "cell_type": "code",
   "execution_count": 1,
   "metadata": {},
   "outputs": [],
   "source": [
    "## IMPORTACIÓN GENERAL DE LIBRERIAS Y VISUALIZACIÓN DE DATOS (matplotlib y seaborn)\n",
    "\n",
    "import pandas as pd\n",
    "import numpy as np\n",
    "import matplotlib.pyplot as plt\n",
    "import seaborn as sns\n",
    "import datetime as DT\n",
    "import warnings\n",
    "import descartes\n",
    "import geopandas as gpd\n",
    "import json\n",
    "import requests\n",
    "import geocoder\n",
    "\n",
    "from sklearn.ensemble import RandomForestRegressor\n",
    "from shapely.geometry import Point, Polygon\n",
    "from urllib2 import urlopen\n",
    "\n",
    "%matplotlib inline\n",
    "warnings.filterwarnings('ignore')\n",
    "plt.style.use('default') \n",
    "sns.set(style=\"whitegrid\") \n",
    "plt.rcParams['figure.figsize'] = (15, 10)"
   ]
  },
  {
   "cell_type": "markdown",
   "metadata": {},
   "source": [
    "### =====================================================================\n",
    "### ALGORITMOS DE MACHINE LEARNING:\n",
    "### ====================================================================="
   ]
  },
  {
   "cell_type": "markdown",
   "metadata": {},
   "source": [
    "### =====================================================================\n",
    "### RANDOM FOREST.\n",
    "### ====================================================================="
   ]
  },
  {
   "cell_type": "code",
   "execution_count": 2,
   "metadata": {},
   "outputs": [],
   "source": [
    "# LECTURAS DE CSV YA PROCESADOS.\n",
    "train = pd.read_csv('DATA/train.csv')\n",
    "test = pd.read_csv('DATA/test.csv')"
   ]
  },
  {
   "cell_type": "code",
   "execution_count": 3,
   "metadata": {},
   "outputs": [
    {
     "name": "stdout",
     "output_type": "stream",
     "text": [
      "<class 'pandas.core.frame.DataFrame'>\n",
      "RangeIndex: 240000 entries, 0 to 239999\n",
      "Data columns (total 80 columns):\n",
      "id                               240000 non-null int64\n",
      "antiguedad                       240000 non-null float64\n",
      "habitaciones                     240000 non-null float64\n",
      "garages                          240000 non-null float64\n",
      "banos                            240000 non-null float64\n",
      "metroscubiertos                  240000 non-null float64\n",
      "metrostotales                    240000 non-null float64\n",
      "gimnasio                         240000 non-null float64\n",
      "usosmultiples                    240000 non-null float64\n",
      "piscina                          240000 non-null float64\n",
      "escuelascercanas                 240000 non-null float64\n",
      "centroscomercialescercanos       240000 non-null float64\n",
      "precio                           240000 non-null float64\n",
      "excelente                        240000 non-null int64\n",
      "vigilancia                       240000 non-null int64\n",
      "esquina                          240000 non-null int64\n",
      "remodelada                       240000 non-null int64\n",
      "lujo                             240000 non-null int64\n",
      "antiguedad_agrupada              240000 non-null int64\n",
      "metroscubiertos_agrupada         240000 non-null int64\n",
      "metrostotales_agrupada           240000 non-null int64\n",
      "median                           240000 non-null float64\n",
      "mean                             240000 non-null float64\n",
      "AGUASCALIENTES                   240000 non-null int64\n",
      "BAJA CALIFORNIA NORTE            240000 non-null int64\n",
      "BAJA CALIFORNIA SUR              240000 non-null int64\n",
      "CAMPECHE                         240000 non-null int64\n",
      "CHIAPAS                          240000 non-null int64\n",
      "CHIHUAHUA                        240000 non-null int64\n",
      "COAHUILA                         240000 non-null int64\n",
      "COLIMA                           240000 non-null int64\n",
      "DISTRITO FEDERAL                 240000 non-null int64\n",
      "DURANGO                          240000 non-null int64\n",
      "EDO. DE MAXICO                   240000 non-null int64\n",
      "GUANAJUATO                       240000 non-null int64\n",
      "GUERRERO                         240000 non-null int64\n",
      "HIDALGO                          240000 non-null int64\n",
      "JALISCO                          240000 non-null int64\n",
      "MICHOACAN                        240000 non-null int64\n",
      "MORELOS                          240000 non-null int64\n",
      "NAYARIT                          240000 non-null int64\n",
      "NUEVO LEA3N                      240000 non-null int64\n",
      "OAXACA                           240000 non-null int64\n",
      "PUEBLA                           240000 non-null int64\n",
      "QUERATARO                        240000 non-null int64\n",
      "QUINTANA ROO                     240000 non-null int64\n",
      "SAN LUIS POTOSA                  240000 non-null int64\n",
      "SINALOA                          240000 non-null int64\n",
      "SONORA                           240000 non-null int64\n",
      "TABASCO                          240000 non-null int64\n",
      "TAMAULIPAS                       240000 non-null int64\n",
      "TLAXCALA                         240000 non-null int64\n",
      "VERACRUZ                         240000 non-null int64\n",
      "YUCATAN                          240000 non-null int64\n",
      "ZACATECAS                        240000 non-null int64\n",
      "APARTAMENTO                      240000 non-null int64\n",
      "CASA                             240000 non-null int64\n",
      "CASA USO DE SUELO                240000 non-null int64\n",
      "COMERCIO                         240000 non-null int64\n",
      "CONDOMINIO                       240000 non-null int64\n",
      "DEPARTAMENTO COMPARTIDO          240000 non-null int64\n",
      "DUPLEX                           240000 non-null int64\n",
      "EDIFICIO                         240000 non-null int64\n",
      "GARAGE                           240000 non-null int64\n",
      "HOSPEDAJE                        240000 non-null int64\n",
      "HUERTA                           240000 non-null int64\n",
      "INMUEBLES PRODUCTIVOS URBANOS    240000 non-null int64\n",
      "LOTE                             240000 non-null int64\n",
      "NAVE INDUSTRIAL                  240000 non-null int64\n",
      "OTROS                            240000 non-null int64\n",
      "QUINTA VACACIONAL                240000 non-null int64\n",
      "RANCHO                           240000 non-null int64\n",
      "TERRENO                          240000 non-null int64\n",
      "TERRENO INDUSTRIAL               240000 non-null int64\n",
      "VILLA                            240000 non-null int64\n",
      "2012                             240000 non-null int64\n",
      "2013                             240000 non-null int64\n",
      "2014                             240000 non-null int64\n",
      "2015                             240000 non-null int64\n",
      "2016                             240000 non-null int64\n",
      "dtypes: float64(14), int64(66)\n",
      "memory usage: 146.5 MB\n"
     ]
    }
   ],
   "source": [
    "train.info()"
   ]
  },
  {
   "cell_type": "code",
   "execution_count": 4,
   "metadata": {},
   "outputs": [
    {
     "name": "stdout",
     "output_type": "stream",
     "text": [
      "<class 'pandas.core.frame.DataFrame'>\n",
      "RangeIndex: 60000 entries, 0 to 59999\n",
      "Data columns (total 79 columns):\n",
      "id                               60000 non-null int64\n",
      "antiguedad                       60000 non-null float64\n",
      "habitaciones                     60000 non-null float64\n",
      "garages                          60000 non-null float64\n",
      "banos                            60000 non-null float64\n",
      "metroscubiertos                  60000 non-null float64\n",
      "metrostotales                    60000 non-null float64\n",
      "gimnasio                         60000 non-null float64\n",
      "usosmultiples                    60000 non-null float64\n",
      "piscina                          60000 non-null float64\n",
      "escuelascercanas                 60000 non-null float64\n",
      "centroscomercialescercanos       60000 non-null float64\n",
      "excelente                        60000 non-null int64\n",
      "vigilancia                       60000 non-null int64\n",
      "esquina                          60000 non-null int64\n",
      "remodelada                       60000 non-null int64\n",
      "lujo                             60000 non-null int64\n",
      "antiguedad_agrupada              60000 non-null int64\n",
      "metroscubiertos_agrupada         60000 non-null int64\n",
      "metrostotales_agrupada           60000 non-null int64\n",
      "median                           60000 non-null float64\n",
      "mean                             60000 non-null float64\n",
      "AGUASCALIENTES                   60000 non-null int64\n",
      "BAJA CALIFORNIA NORTE            60000 non-null int64\n",
      "BAJA CALIFORNIA SUR              60000 non-null int64\n",
      "CAMPECHE                         60000 non-null int64\n",
      "CHIAPAS                          60000 non-null int64\n",
      "CHIHUAHUA                        60000 non-null int64\n",
      "COAHUILA                         60000 non-null int64\n",
      "COLIMA                           60000 non-null int64\n",
      "DISTRITO FEDERAL                 60000 non-null int64\n",
      "DURANGO                          60000 non-null int64\n",
      "EDO. DE MAXICO                   60000 non-null int64\n",
      "GUANAJUATO                       60000 non-null int64\n",
      "GUERRERO                         60000 non-null int64\n",
      "HIDALGO                          60000 non-null int64\n",
      "JALISCO                          60000 non-null int64\n",
      "MICHOACAN                        60000 non-null int64\n",
      "MORELOS                          60000 non-null int64\n",
      "NAYARIT                          60000 non-null int64\n",
      "NUEVO LEA3N                      60000 non-null int64\n",
      "OAXACA                           60000 non-null int64\n",
      "PUEBLA                           60000 non-null int64\n",
      "QUERATARO                        60000 non-null int64\n",
      "QUINTANA ROO                     60000 non-null int64\n",
      "SAN LUIS POTOSA                  60000 non-null int64\n",
      "SINALOA                          60000 non-null int64\n",
      "SONORA                           60000 non-null int64\n",
      "TABASCO                          60000 non-null int64\n",
      "TAMAULIPAS                       60000 non-null int64\n",
      "TLAXCALA                         60000 non-null int64\n",
      "VERACRUZ                         60000 non-null int64\n",
      "YUCATAN                          60000 non-null int64\n",
      "ZACATECAS                        60000 non-null int64\n",
      "APARTAMENTO                      60000 non-null int64\n",
      "CASA                             60000 non-null int64\n",
      "CASA USO DE SUELO                60000 non-null int64\n",
      "COMERCIO                         60000 non-null int64\n",
      "CONDOMINIO                       60000 non-null int64\n",
      "DEPARTAMENTO COMPARTIDO          60000 non-null int64\n",
      "DUPLEX                           60000 non-null int64\n",
      "EDIFICIO                         60000 non-null int64\n",
      "HUERTA                           60000 non-null int64\n",
      "INMUEBLES PRODUCTIVOS URBANOS    60000 non-null int64\n",
      "LOTE                             60000 non-null int64\n",
      "NAVE INDUSTRIAL                  60000 non-null int64\n",
      "OTROS                            60000 non-null int64\n",
      "QUINTA VACACIONAL                60000 non-null int64\n",
      "RANCHO                           60000 non-null int64\n",
      "TERRENO                          60000 non-null int64\n",
      "TERRENO INDUSTRIAL               60000 non-null int64\n",
      "VILLA                            60000 non-null int64\n",
      "2012                             60000 non-null int64\n",
      "2013                             60000 non-null int64\n",
      "2014                             60000 non-null int64\n",
      "2015                             60000 non-null int64\n",
      "2016                             60000 non-null int64\n",
      "HOSPEDAJE                        60000 non-null int64\n",
      "GARAGE                           60000 non-null int64\n",
      "dtypes: float64(13), int64(66)\n",
      "memory usage: 36.2 MB\n"
     ]
    }
   ],
   "source": [
    "test.info()"
   ]
  },
  {
   "cell_type": "code",
   "execution_count": 5,
   "metadata": {},
   "outputs": [],
   "source": [
    "# Segmentamos una parte para entrenar y constatar.\n",
    "train_2016 = train.loc[train['2016'] == 1]\n",
    "train_PREV = train.loc[train['2016'] == 0]"
   ]
  },
  {
   "cell_type": "code",
   "execution_count": 6,
   "metadata": {},
   "outputs": [],
   "source": [
    "# Label a predecir.\n",
    "labels_2016 = np.array(train_2016['precio'])\n",
    "labels_PREV = np.array(train_PREV['precio'])"
   ]
  },
  {
   "cell_type": "code",
   "execution_count": 7,
   "metadata": {},
   "outputs": [],
   "source": [
    "# Resto de los labels.\n",
    "train_2016 = train_2016.drop('precio', axis = 1)\n",
    "train_PREV = train_PREV.drop('precio', axis = 1)\n",
    "#train_2016 = train_2016.drop('anio', axis = 1)\n",
    "#train_PREV = train_PREV.drop('anio', axis = 1)\n",
    "#test = test.drop('anio', axis = 1)"
   ]
  },
  {
   "cell_type": "code",
   "execution_count": 8,
   "metadata": {},
   "outputs": [],
   "source": [
    "# Lista de columnas.\n",
    "feature_list = list(train_PREV.columns)"
   ]
  },
  {
   "cell_type": "code",
   "execution_count": 9,
   "metadata": {},
   "outputs": [],
   "source": [
    "# Numpy array\n",
    "train_2016 = np.array(train_2016)\n",
    "train_PREV = np.array(train_PREV)"
   ]
  },
  {
   "cell_type": "code",
   "execution_count": 10,
   "metadata": {},
   "outputs": [
    {
     "name": "stdout",
     "output_type": "stream",
     "text": [
      "('Training Features Shape:', (145962, 79))\n",
      "('Training Labels Shape:', (145962,))\n",
      "('Testing Features Shape:', (94038, 79))\n",
      "('Testing Labels Shape:', (94038,))\n"
     ]
    }
   ],
   "source": [
    "# Observamos lo que nos queda en cada parte.\n",
    "print('Training Features Shape:', train_PREV.shape)\n",
    "print('Training Labels Shape:', labels_PREV.shape)\n",
    "print('Testing Features Shape:', train_2016.shape)\n",
    "print('Testing Labels Shape:', labels_2016.shape)"
   ]
  },
  {
   "cell_type": "code",
   "execution_count": 11,
   "metadata": {},
   "outputs": [],
   "source": [
    "# Armamos el regresor con parámetros por defecto.\n",
    "rf = RandomForestRegressor(n_estimators = 300, random_state = 150)\n",
    "# Entrenamos.\n",
    "rf.fit(train_PREV, labels_PREV);"
   ]
  },
  {
   "cell_type": "code",
   "execution_count": 12,
   "metadata": {},
   "outputs": [
    {
     "name": "stdout",
     "output_type": "stream",
     "text": [
      "('Error:', 569571.09, 'grados.')\n"
     ]
    }
   ],
   "source": [
    "# Hacemos una predicción.\n",
    "predictions = rf.predict(train_2016)\n",
    "# Calculamos el error absoluto.\n",
    "errors = abs(predictions - labels_2016)\n",
    "# Imprimimos el error.\n",
    "print('Error:', round(np.mean(errors), 2), 'grados.')"
   ]
  },
  {
   "cell_type": "code",
   "execution_count": 13,
   "metadata": {},
   "outputs": [
    {
     "name": "stdout",
     "output_type": "stream",
     "text": [
      "('Precision:', 78.2, '%.')\n"
     ]
    }
   ],
   "source": [
    "# Calculamos el porcentaje de error.\n",
    "mape = 100 * (errors / labels_2016)\n",
    "# Calculate la precisión.\n",
    "accuracy = 100 - np.mean(mape)\n",
    "print('Precision:', round(accuracy, 2), '%.')"
   ]
  },
  {
   "cell_type": "code",
   "execution_count": 14,
   "metadata": {},
   "outputs": [],
   "source": [
    "prediccion = rf.predict(test)"
   ]
  },
  {
   "cell_type": "code",
   "execution_count": 15,
   "metadata": {},
   "outputs": [],
   "source": [
    "## =================================================================================================\n",
    "## ARMAMOS EN BASE A LA PREDICCIÓN QUE TENEMOS UN CSV PARA SUBIR A KAGGLE CON EL FORMATO INDICADO!\n",
    "## =================================================================================================\n",
    "submission = pd.DataFrame({ 'id': test['id'], 'target': prediccion })\n",
    "submission.to_csv(\"SUBMITS/007_G34_RandomForest.csv\", index=False)"
   ]
  },
  {
   "cell_type": "code",
   "execution_count": null,
   "metadata": {},
   "outputs": [],
   "source": []
  }
 ],
 "metadata": {
  "kernelspec": {
   "display_name": "Python 2",
   "language": "python",
   "name": "python2"
  },
  "language_info": {
   "codemirror_mode": {
    "name": "ipython",
    "version": 2
   },
   "file_extension": ".py",
   "mimetype": "text/x-python",
   "name": "python",
   "nbconvert_exporter": "python",
   "pygments_lexer": "ipython2",
   "version": "2.7.14"
  }
 },
 "nbformat": 4,
 "nbformat_minor": 2
}
