{
 "cells": [
  {
   "cell_type": "markdown",
   "metadata": {},
   "source": [
    "### =====================================================================\n",
    "### IMPORTACIÓN GENERAL DE LA INFORMACIÓN.\n",
    "### ====================================================================="
   ]
  },
  {
   "cell_type": "code",
   "execution_count": 1,
   "metadata": {},
   "outputs": [],
   "source": [
    "## IMPORTACIÓN GENERAL DE LIBRERIAS Y VISUALIZACIÓN DE DATOS (matplotlib y seaborn)\n",
    "\n",
    "import pandas as pd\n",
    "import numpy as np\n",
    "import matplotlib.pyplot as plt\n",
    "import seaborn as sns\n",
    "import datetime as DT\n",
    "import warnings\n",
    "import descartes\n",
    "import geopandas as gpd\n",
    "import json\n",
    "import requests\n",
    "import geocoder\n",
    "\n",
    "from sklearn.ensemble import RandomForestRegressor\n",
    "from shapely.geometry import Point, Polygon\n",
    "from urllib2 import urlopen\n",
    "\n",
    "%matplotlib inline\n",
    "warnings.filterwarnings('ignore')\n",
    "plt.style.use('default') \n",
    "sns.set(style=\"whitegrid\") \n",
    "plt.rcParams['figure.figsize'] = (15, 10)"
   ]
  },
  {
   "cell_type": "markdown",
   "metadata": {},
   "source": [
    "### =====================================================================\n",
    "### ALGORITMOS DE MACHINE LEARNING:\n",
    "### ====================================================================="
   ]
  },
  {
   "cell_type": "markdown",
   "metadata": {},
   "source": [
    "### =====================================================================\n",
    "### RANDOM FOREST.\n",
    "### ====================================================================="
   ]
  },
  {
   "cell_type": "code",
   "execution_count": 25,
   "metadata": {},
   "outputs": [],
   "source": [
    "# LECTURAS DE CSV YA PROCESADOS. \n",
    "train = pd.read_csv('DATA/trainProcesado_precio_v2.csv') # trainProcesado_precio_v2.csv # train.csv\n",
    "test = pd.read_csv('DATA/testProcesado_v2.csv') # testProcesado_v2.csv # test.csv"
   ]
  },
  {
   "cell_type": "code",
   "execution_count": 26,
   "metadata": {},
   "outputs": [
    {
     "name": "stdout",
     "output_type": "stream",
     "text": [
      "<class 'pandas.core.frame.DataFrame'>\n",
      "RangeIndex: 240000 entries, 0 to 239999\n",
      "Data columns (total 56 columns):\n",
      "antiguedad                    240000 non-null int64\n",
      "habitaciones                  240000 non-null int64\n",
      "garages                       240000 non-null int64\n",
      "banos                         240000 non-null int64\n",
      "metroscubiertos               240000 non-null int64\n",
      "metrostotales                 240000 non-null int64\n",
      "gimnasio                      240000 non-null int64\n",
      "usosmultiples                 240000 non-null int64\n",
      "piscina                       240000 non-null int64\n",
      "escuelascercanas              240000 non-null int64\n",
      "centroscomercialescercanos    240000 non-null int64\n",
      "2012                          240000 non-null int64\n",
      "2013                          240000 non-null int64\n",
      "2014                          240000 non-null int64\n",
      "2015                          240000 non-null int64\n",
      "2016                          240000 non-null int64\n",
      "precio                        240000 non-null float64\n",
      "ciudad                        240000 non-null int64\n",
      "provincia                     240000 non-null int64\n",
      "tipodepropiedad               240000 non-null int64\n",
      "NUEVA                         240000 non-null int64\n",
      "EXCELENTE                     240000 non-null int64\n",
      "VENTA                         240000 non-null int64\n",
      "PREVENTA                      240000 non-null int64\n",
      "RENTA                         240000 non-null int64\n",
      "CREDITO                       240000 non-null int64\n",
      "REMATE                        240000 non-null int64\n",
      "OPORTUNIDAD                   240000 non-null int64\n",
      "RESIDENCIA                    240000 non-null int64\n",
      "EDIFICIO                      240000 non-null int64\n",
      "TORRE                         240000 non-null int64\n",
      "PISO                          240000 non-null int64\n",
      "LOFT                          240000 non-null int64\n",
      "FRACCIONAMIENTO               240000 non-null int64\n",
      "DUPLEX                        240000 non-null int64\n",
      "COUNTRY                       240000 non-null int64\n",
      "QUINTA                        240000 non-null int64\n",
      "OFICINA                       240000 non-null int64\n",
      "PENTHOUSE                     240000 non-null int64\n",
      "REMODELADO                    240000 non-null int64\n",
      "MODERNO                       240000 non-null int64\n",
      "MINIMALISTA                   240000 non-null int64\n",
      "EQUIPADA                      240000 non-null int64\n",
      "JARDIN                        240000 non-null int64\n",
      "FRENTE                        240000 non-null int64\n",
      "ESQUINA                       240000 non-null int64\n",
      "CENTRO                        240000 non-null int64\n",
      "UBICACION                     240000 non-null int64\n",
      "VISTA                         240000 non-null int64\n",
      "LUJO                          240000 non-null int64\n",
      "BODEGA                        240000 non-null int64\n",
      "CAMPESTRE                     240000 non-null int64\n",
      "RANCHO                        240000 non-null int64\n",
      "PLAYA                         240000 non-null int64\n",
      "GOLF                          240000 non-null int64\n",
      "SEGURIDAD                     240000 non-null int64\n",
      "dtypes: float64(1), int64(55)\n",
      "memory usage: 102.5 MB\n"
     ]
    }
   ],
   "source": [
    "train = train.drop('id', axis = 1)\n",
    "train.info()"
   ]
  },
  {
   "cell_type": "code",
   "execution_count": 27,
   "metadata": {},
   "outputs": [
    {
     "name": "stdout",
     "output_type": "stream",
     "text": [
      "<class 'pandas.core.frame.DataFrame'>\n",
      "RangeIndex: 60000 entries, 0 to 59999\n",
      "Data columns (total 55 columns):\n",
      "antiguedad                    60000 non-null int64\n",
      "habitaciones                  60000 non-null int64\n",
      "garages                       60000 non-null int64\n",
      "banos                         60000 non-null int64\n",
      "metroscubiertos               60000 non-null int64\n",
      "metrostotales                 60000 non-null int64\n",
      "gimnasio                      60000 non-null int64\n",
      "usosmultiples                 60000 non-null int64\n",
      "piscina                       60000 non-null int64\n",
      "escuelascercanas              60000 non-null int64\n",
      "centroscomercialescercanos    60000 non-null int64\n",
      "2012                          60000 non-null int64\n",
      "2013                          60000 non-null int64\n",
      "2014                          60000 non-null int64\n",
      "2015                          60000 non-null int64\n",
      "2016                          60000 non-null int64\n",
      "ciudad                        60000 non-null int64\n",
      "provincia                     60000 non-null int64\n",
      "tipodepropiedad               60000 non-null int64\n",
      "NUEVA                         60000 non-null int64\n",
      "EXCELENTE                     60000 non-null int64\n",
      "VENTA                         60000 non-null int64\n",
      "PREVENTA                      60000 non-null int64\n",
      "RENTA                         60000 non-null int64\n",
      "CREDITO                       60000 non-null int64\n",
      "REMATE                        60000 non-null int64\n",
      "OPORTUNIDAD                   60000 non-null int64\n",
      "RESIDENCIA                    60000 non-null int64\n",
      "EDIFICIO                      60000 non-null int64\n",
      "TORRE                         60000 non-null int64\n",
      "PISO                          60000 non-null int64\n",
      "LOFT                          60000 non-null int64\n",
      "FRACCIONAMIENTO               60000 non-null int64\n",
      "DUPLEX                        60000 non-null int64\n",
      "COUNTRY                       60000 non-null int64\n",
      "QUINTA                        60000 non-null int64\n",
      "OFICINA                       60000 non-null int64\n",
      "PENTHOUSE                     60000 non-null int64\n",
      "REMODELADO                    60000 non-null int64\n",
      "MODERNO                       60000 non-null int64\n",
      "MINIMALISTA                   60000 non-null int64\n",
      "EQUIPADA                      60000 non-null int64\n",
      "JARDIN                        60000 non-null int64\n",
      "FRENTE                        60000 non-null int64\n",
      "ESQUINA                       60000 non-null int64\n",
      "CENTRO                        60000 non-null int64\n",
      "UBICACION                     60000 non-null int64\n",
      "VISTA                         60000 non-null int64\n",
      "LUJO                          60000 non-null int64\n",
      "BODEGA                        60000 non-null int64\n",
      "CAMPESTRE                     60000 non-null int64\n",
      "RANCHO                        60000 non-null int64\n",
      "PLAYA                         60000 non-null int64\n",
      "GOLF                          60000 non-null int64\n",
      "SEGURIDAD                     60000 non-null int64\n",
      "dtypes: int64(55)\n",
      "memory usage: 25.2 MB\n"
     ]
    }
   ],
   "source": [
    "test = test.drop('id', axis = 1)\n",
    "test.info()"
   ]
  },
  {
   "cell_type": "code",
   "execution_count": 28,
   "metadata": {},
   "outputs": [],
   "source": [
    "# Segmentamos una parte para entrenar y constatar.\n",
    "train_2016 = train.loc[train['2016'] == 1]\n",
    "train_PREV = train.loc[train['2016'] == 0]"
   ]
  },
  {
   "cell_type": "code",
   "execution_count": 29,
   "metadata": {},
   "outputs": [],
   "source": [
    "# Label a predecir.\n",
    "labels_2016 = np.array(train_2016['precio'])\n",
    "labels_PREV = np.array(train_PREV['precio'])"
   ]
  },
  {
   "cell_type": "code",
   "execution_count": 30,
   "metadata": {},
   "outputs": [],
   "source": [
    "# Resto de los labels.\n",
    "train_2016 = train_2016.drop('precio', axis = 1)\n",
    "train_PREV = train_PREV.drop('precio', axis = 1)\n",
    "#train_2016 = train_2016.drop('anio', axis = 1)\n",
    "#train_PREV = train_PREV.drop('anio', axis = 1)\n",
    "#test = test.drop('anio', axis = 1)"
   ]
  },
  {
   "cell_type": "code",
   "execution_count": 31,
   "metadata": {},
   "outputs": [],
   "source": [
    "# Lista de columnas.\n",
    "feature_list = list(train_PREV.columns)"
   ]
  },
  {
   "cell_type": "code",
   "execution_count": 32,
   "metadata": {},
   "outputs": [],
   "source": [
    "# Numpy array\n",
    "train_2016 = np.array(train_2016)\n",
    "train_PREV = np.array(train_PREV)"
   ]
  },
  {
   "cell_type": "code",
   "execution_count": 33,
   "metadata": {},
   "outputs": [
    {
     "name": "stdout",
     "output_type": "stream",
     "text": [
      "('Training Features Shape:', (145962, 55))\n",
      "('Training Labels Shape:', (145962,))\n",
      "('Testing Features Shape:', (94038, 55))\n",
      "('Testing Labels Shape:', (94038,))\n"
     ]
    }
   ],
   "source": [
    "# Observamos lo que nos queda en cada parte.\n",
    "print('Training Features Shape:', train_PREV.shape)\n",
    "print('Training Labels Shape:', labels_PREV.shape)\n",
    "print('Testing Features Shape:', train_2016.shape)\n",
    "print('Testing Labels Shape:', labels_2016.shape)"
   ]
  },
  {
   "cell_type": "code",
   "execution_count": 34,
   "metadata": {},
   "outputs": [],
   "source": [
    "# Armamos el regresor con parámetros por defecto.\n",
    "rf = RandomForestRegressor(n_estimators = 300, random_state = 150)\n",
    "# Entrenamos.\n",
    "rf.fit(train_PREV, labels_PREV);"
   ]
  },
  {
   "cell_type": "code",
   "execution_count": 35,
   "metadata": {},
   "outputs": [
    {
     "name": "stdout",
     "output_type": "stream",
     "text": [
      "('Error:', 837284.27, 'grados.')\n"
     ]
    }
   ],
   "source": [
    "# Hacemos una predicción.\n",
    "predictions = rf.predict(train_2016)\n",
    "# Calculamos el error absoluto.\n",
    "errors = abs(predictions - labels_2016)\n",
    "# Imprimimos el error.\n",
    "print('Error:', round(np.mean(errors), 2), 'grados.')"
   ]
  },
  {
   "cell_type": "code",
   "execution_count": 36,
   "metadata": {},
   "outputs": [
    {
     "name": "stdout",
     "output_type": "stream",
     "text": [
      "('Precision:', 69.02, '%.')\n"
     ]
    }
   ],
   "source": [
    "# Calculamos el porcentaje de error.\n",
    "mape = 100 * (errors / labels_2016)\n",
    "# Calculate la precisión.\n",
    "accuracy = 100 - np.mean(mape)\n",
    "print('Precision:', round(accuracy, 2), '%.')"
   ]
  },
  {
   "cell_type": "code",
   "execution_count": 37,
   "metadata": {},
   "outputs": [],
   "source": [
    "prediccion = rf.predict(test)"
   ]
  },
  {
   "cell_type": "code",
   "execution_count": 39,
   "metadata": {},
   "outputs": [],
   "source": [
    "train = train.drop('precio', axis = 1)"
   ]
  },
  {
   "cell_type": "code",
   "execution_count": 54,
   "metadata": {},
   "outputs": [
    {
     "data": {
      "image/png": "[encoded data removed]",
      "text/plain": [
       "<Figure size 432x288 with 2 Axes>"
      ]
     },
     "metadata": {},
     "output_type": "display_data"
    }
   ],
   "source": [
    "data_covariance = train.cov()\n",
    "sns.heatmap(data_covariance, vmax=.8, square=True)\n",
    "plt.title(\"Covariance of Data\")\n",
    "plt.show()"
   ]
  },
  {
   "cell_type": "code",
   "execution_count": 41,
   "metadata": {},
   "outputs": [],
   "source": [
    "feature_importances = pd.DataFrame(rf.feature_importances_, index = train.columns, columns=['importance']).sort_values('importance',ascending=False)"
   ]
  },
  {
   "cell_type": "code",
   "execution_count": 43,
   "metadata": {},
   "outputs": [
    {
     "data": {
      "text/html": [
       "<div>\n",
       "<style scoped>\n",
       "    .dataframe tbody tr th:only-of-type {\n",
       "        vertical-align: middle;\n",
       "    }\n",
       "\n",
       "    .dataframe tbody tr th {\n",
       "        vertical-align: top;\n",
       "    }\n",
       "\n",
       "    .dataframe thead th {\n",
       "        text-align: right;\n",
       "    }\n",
       "</style>\n",
       "<table border=\"1\" class=\"dataframe\">\n",
       "  <thead>\n",
       "    <tr style=\"text-align: right;\">\n",
       "      <th></th>\n",
       "      <th>importance</th>\n",
       "    </tr>\n",
       "  </thead>\n",
       "  <tbody>\n",
       "    <tr>\n",
       "      <th>metroscubiertos</th>\n",
       "      <td>0.420533</td>\n",
       "    </tr>\n",
       "    <tr>\n",
       "      <th>tipodepropiedad</th>\n",
       "      <td>0.113569</td>\n",
       "    </tr>\n",
       "    <tr>\n",
       "      <th>provincia</th>\n",
       "      <td>0.104785</td>\n",
       "    </tr>\n",
       "    <tr>\n",
       "      <th>metrostotales</th>\n",
       "      <td>0.084193</td>\n",
       "    </tr>\n",
       "    <tr>\n",
       "      <th>ciudad</th>\n",
       "      <td>0.064556</td>\n",
       "    </tr>\n",
       "    <tr>\n",
       "      <th>banos</th>\n",
       "      <td>0.044321</td>\n",
       "    </tr>\n",
       "    <tr>\n",
       "      <th>antiguedad</th>\n",
       "      <td>0.037204</td>\n",
       "    </tr>\n",
       "    <tr>\n",
       "      <th>habitaciones</th>\n",
       "      <td>0.020151</td>\n",
       "    </tr>\n",
       "    <tr>\n",
       "      <th>garages</th>\n",
       "      <td>0.018078</td>\n",
       "    </tr>\n",
       "    <tr>\n",
       "      <th>2015</th>\n",
       "      <td>0.014127</td>\n",
       "    </tr>\n",
       "    <tr>\n",
       "      <th>VENTA</th>\n",
       "      <td>0.006530</td>\n",
       "    </tr>\n",
       "    <tr>\n",
       "      <th>2014</th>\n",
       "      <td>0.005264</td>\n",
       "    </tr>\n",
       "    <tr>\n",
       "      <th>escuelascercanas</th>\n",
       "      <td>0.004612</td>\n",
       "    </tr>\n",
       "    <tr>\n",
       "      <th>centroscomercialescercanos</th>\n",
       "      <td>0.004575</td>\n",
       "    </tr>\n",
       "    <tr>\n",
       "      <th>2012</th>\n",
       "      <td>0.004561</td>\n",
       "    </tr>\n",
       "    <tr>\n",
       "      <th>EXCELENTE</th>\n",
       "      <td>0.004457</td>\n",
       "    </tr>\n",
       "    <tr>\n",
       "      <th>2013</th>\n",
       "      <td>0.003468</td>\n",
       "    </tr>\n",
       "    <tr>\n",
       "      <th>piscina</th>\n",
       "      <td>0.003301</td>\n",
       "    </tr>\n",
       "    <tr>\n",
       "      <th>EDIFICIO</th>\n",
       "      <td>0.002980</td>\n",
       "    </tr>\n",
       "    <tr>\n",
       "      <th>JARDIN</th>\n",
       "      <td>0.002833</td>\n",
       "    </tr>\n",
       "    <tr>\n",
       "      <th>REMATE</th>\n",
       "      <td>0.002711</td>\n",
       "    </tr>\n",
       "    <tr>\n",
       "      <th>gimnasio</th>\n",
       "      <td>0.002498</td>\n",
       "    </tr>\n",
       "    <tr>\n",
       "      <th>RESIDENCIA</th>\n",
       "      <td>0.002494</td>\n",
       "    </tr>\n",
       "    <tr>\n",
       "      <th>VISTA</th>\n",
       "      <td>0.002277</td>\n",
       "    </tr>\n",
       "    <tr>\n",
       "      <th>usosmultiples</th>\n",
       "      <td>0.002211</td>\n",
       "    </tr>\n",
       "    <tr>\n",
       "      <th>NUEVA</th>\n",
       "      <td>0.002028</td>\n",
       "    </tr>\n",
       "    <tr>\n",
       "      <th>OPORTUNIDAD</th>\n",
       "      <td>0.001901</td>\n",
       "    </tr>\n",
       "    <tr>\n",
       "      <th>CENTRO</th>\n",
       "      <td>0.001845</td>\n",
       "    </tr>\n",
       "    <tr>\n",
       "      <th>BODEGA</th>\n",
       "      <td>0.001441</td>\n",
       "    </tr>\n",
       "    <tr>\n",
       "      <th>FRACCIONAMIENTO</th>\n",
       "      <td>0.001267</td>\n",
       "    </tr>\n",
       "    <tr>\n",
       "      <th>OFICINA</th>\n",
       "      <td>0.001209</td>\n",
       "    </tr>\n",
       "    <tr>\n",
       "      <th>COUNTRY</th>\n",
       "      <td>0.001177</td>\n",
       "    </tr>\n",
       "    <tr>\n",
       "      <th>PREVENTA</th>\n",
       "      <td>0.001139</td>\n",
       "    </tr>\n",
       "    <tr>\n",
       "      <th>RENTA</th>\n",
       "      <td>0.001123</td>\n",
       "    </tr>\n",
       "    <tr>\n",
       "      <th>UBICACION</th>\n",
       "      <td>0.001042</td>\n",
       "    </tr>\n",
       "    <tr>\n",
       "      <th>LUJO</th>\n",
       "      <td>0.001026</td>\n",
       "    </tr>\n",
       "    <tr>\n",
       "      <th>RANCHO</th>\n",
       "      <td>0.000807</td>\n",
       "    </tr>\n",
       "    <tr>\n",
       "      <th>FRENTE</th>\n",
       "      <td>0.000759</td>\n",
       "    </tr>\n",
       "    <tr>\n",
       "      <th>CAMPESTRE</th>\n",
       "      <td>0.000738</td>\n",
       "    </tr>\n",
       "    <tr>\n",
       "      <th>QUINTA</th>\n",
       "      <td>0.000705</td>\n",
       "    </tr>\n",
       "    <tr>\n",
       "      <th>GOLF</th>\n",
       "      <td>0.000699</td>\n",
       "    </tr>\n",
       "    <tr>\n",
       "      <th>TORRE</th>\n",
       "      <td>0.000697</td>\n",
       "    </tr>\n",
       "    <tr>\n",
       "      <th>PLAYA</th>\n",
       "      <td>0.000661</td>\n",
       "    </tr>\n",
       "    <tr>\n",
       "      <th>REMODELADO</th>\n",
       "      <td>0.000644</td>\n",
       "    </tr>\n",
       "    <tr>\n",
       "      <th>SEGURIDAD</th>\n",
       "      <td>0.000517</td>\n",
       "    </tr>\n",
       "    <tr>\n",
       "      <th>ESQUINA</th>\n",
       "      <td>0.000460</td>\n",
       "    </tr>\n",
       "    <tr>\n",
       "      <th>CREDITO</th>\n",
       "      <td>0.000404</td>\n",
       "    </tr>\n",
       "    <tr>\n",
       "      <th>PISO</th>\n",
       "      <td>0.000368</td>\n",
       "    </tr>\n",
       "    <tr>\n",
       "      <th>MODERNO</th>\n",
       "      <td>0.000361</td>\n",
       "    </tr>\n",
       "    <tr>\n",
       "      <th>PENTHOUSE</th>\n",
       "      <td>0.000334</td>\n",
       "    </tr>\n",
       "    <tr>\n",
       "      <th>MINIMALISTA</th>\n",
       "      <td>0.000118</td>\n",
       "    </tr>\n",
       "    <tr>\n",
       "      <th>DUPLEX</th>\n",
       "      <td>0.000101</td>\n",
       "    </tr>\n",
       "    <tr>\n",
       "      <th>LOFT</th>\n",
       "      <td>0.000098</td>\n",
       "    </tr>\n",
       "    <tr>\n",
       "      <th>EQUIPADA</th>\n",
       "      <td>0.000047</td>\n",
       "    </tr>\n",
       "    <tr>\n",
       "      <th>2016</th>\n",
       "      <td>0.000000</td>\n",
       "    </tr>\n",
       "  </tbody>\n",
       "</table>\n",
       "</div>"
      ],
      "text/plain": [
       "                            importance\n",
       "metroscubiertos               0.420533\n",
       "tipodepropiedad               0.113569\n",
       "provincia                     0.104785\n",
       "metrostotales                 0.084193\n",
       "ciudad                        0.064556\n",
       "banos                         0.044321\n",
       "antiguedad                    0.037204\n",
       "habitaciones                  0.020151\n",
       "garages                       0.018078\n",
       "2015                          0.014127\n",
       "VENTA                         0.006530\n",
       "2014                          0.005264\n",
       "escuelascercanas              0.004612\n",
       "centroscomercialescercanos    0.004575\n",
       "2012                          0.004561\n",
       "EXCELENTE                     0.004457\n",
       "2013                          0.003468\n",
       "piscina                       0.003301\n",
       "EDIFICIO                      0.002980\n",
       "JARDIN                        0.002833\n",
       "REMATE                        0.002711\n",
       "gimnasio                      0.002498\n",
       "RESIDENCIA                    0.002494\n",
       "VISTA                         0.002277\n",
       "usosmultiples                 0.002211\n",
       "NUEVA                         0.002028\n",
       "OPORTUNIDAD                   0.001901\n",
       "CENTRO                        0.001845\n",
       "BODEGA                        0.001441\n",
       "FRACCIONAMIENTO               0.001267\n",
       "OFICINA                       0.001209\n",
       "COUNTRY                       0.001177\n",
       "PREVENTA                      0.001139\n",
       "RENTA                         0.001123\n",
       "UBICACION                     0.001042\n",
       "LUJO                          0.001026\n",
       "RANCHO                        0.000807\n",
       "FRENTE                        0.000759\n",
       "CAMPESTRE                     0.000738\n",
       "QUINTA                        0.000705\n",
       "GOLF                          0.000699\n",
       "TORRE                         0.000697\n",
       "PLAYA                         0.000661\n",
       "REMODELADO                    0.000644\n",
       "SEGURIDAD                     0.000517\n",
       "ESQUINA                       0.000460\n",
       "CREDITO                       0.000404\n",
       "PISO                          0.000368\n",
       "MODERNO                       0.000361\n",
       "PENTHOUSE                     0.000334\n",
       "MINIMALISTA                   0.000118\n",
       "DUPLEX                        0.000101\n",
       "LOFT                          0.000098\n",
       "EQUIPADA                      0.000047\n",
       "2016                          0.000000"
      ]
     },
     "execution_count": 43,
     "metadata": {},
     "output_type": "execute_result"
    }
   ],
   "source": [
    "feature_importances"
   ]
  },
  {
   "cell_type": "code",
   "execution_count": 49,
   "metadata": {},
   "outputs": [
    {
     "data": {
      "image/png": "[encoded data removed]",
      "text/plain": [
       "<Figure size 432x288 with 1 Axes>"
      ]
     },
     "metadata": {},
     "output_type": "display_data"
    }
   ],
   "source": [
    "ax = feature_importances.head(10).plot.bar(y='importance', rot=60)"
   ]
  },
  {
   "cell_type": "code",
   "execution_count": 15,
   "metadata": {},
   "outputs": [],
   "source": [
    "## =================================================================================================\n",
    "## ARMAMOS EN BASE A LA PREDICCIÓN QUE TENEMOS UN CSV PARA SUBIR A KAGGLE CON EL FORMATO INDICADO!\n",
    "## =================================================================================================\n",
    "submission = pd.DataFrame({ 'id': test['id'], 'target': prediccion })\n",
    "submission.to_csv(\"SUBMITS/007_G34_RandomForest.csv\", index=False)"
   ]
  },
  {
   "cell_type": "code",
   "execution_count": null,
   "metadata": {},
   "outputs": [],
   "source": []
  }
 ],
 "metadata": {
  "kernelspec": {
   "display_name": "Python 2",
   "language": "python",
   "name": "python2"
  },
  "language_info": {
   "codemirror_mode": {
    "name": "ipython",
    "version": 2
   },
   "file_extension": ".py",
   "mimetype": "text/x-python",
   "name": "python",
   "nbconvert_exporter": "python",
   "pygments_lexer": "ipython2",
   "version": "2.7.14"
  }
 },
 "nbformat": 4,
 "nbformat_minor": 2
}
