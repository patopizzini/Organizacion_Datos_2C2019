{
 "cells": [
  {
   "cell_type": "markdown",
   "metadata": {},
   "source": [
    "### =====================================================================\n",
    "### IMPORTACIÓN GENERAL DE LA INFORMACIÓN.\n",
    "### ====================================================================="
   ]
  },
  {
   "cell_type": "code",
   "execution_count": 44,
   "metadata": {},
   "outputs": [],
   "source": [
    "## IMPORTACIÓN GENERAL DE LIBRERIAS Y VISUALIZACIÓN DE DATOS (matplotlib y seaborn)\n",
    "\n",
    "import pandas as pd\n",
    "import numpy as np\n",
    "import matplotlib.pyplot as plt\n",
    "import seaborn as sns\n",
    "import datetime as DT\n",
    "import warnings\n",
    "import descartes\n",
    "import geopandas as gpd\n",
    "import json\n",
    "import requests\n",
    "import geocoder\n",
    "\n",
    "# Random Forest.\n",
    "from sklearn.ensemble import RandomForestRegressor\n",
    "from shapely.geometry import Point, Polygon\n",
    "from urllib2 import urlopen\n",
    "\n",
    "# XGBoost.\n",
    "from xgboost import XGBClassifier\n",
    "import xgboost as xgb\n",
    "from sklearn.model_selection import train_test_split\n",
    "from sklearn.metrics import accuracy_score\n",
    "\n",
    "#importing libraries\n",
    "from sklearn.datasets import load_boston\n",
    "import pandas as pd\n",
    "import numpy as np\n",
    "import matplotlib\n",
    "import matplotlib.pyplot as plt\n",
    "import seaborn as sns\n",
    "import statsmodels.api as sm\n",
    "%matplotlib inline\n",
    "from sklearn.model_selection import train_test_split\n",
    "from sklearn.linear_model import LinearRegression\n",
    "from sklearn.feature_selection import RFE\n",
    "from sklearn.linear_model import RidgeCV, LassoCV, Ridge, Lasso#Loading the dataset\n",
    "\n",
    "%matplotlib inline\n",
    "warnings.filterwarnings('ignore')\n",
    "plt.style.use('default') \n",
    "sns.set(style=\"whitegrid\") \n",
    "plt.rcParams['figure.figsize'] = (15, 10)"
   ]
  },
  {
   "cell_type": "markdown",
   "metadata": {},
   "source": [
    "### =====================================================================\n",
    "### ALGORITMOS DE MACHINE LEARNING:\n",
    "### ====================================================================="
   ]
  },
  {
   "cell_type": "code",
   "execution_count": 58,
   "metadata": {},
   "outputs": [],
   "source": [
    "# LECTURAS DE CSV YA PROCESADOS. \n",
    "train = pd.read_csv('DATA/train_procesado.csv') # trainProcesado_precio_v2.csv # train.csv\n",
    "test = pd.read_csv('DATA/test_procesado.csv') # testProcesado_v2.csv # test.csv"
   ]
  },
  {
   "cell_type": "code",
   "execution_count": 59,
   "metadata": {},
   "outputs": [],
   "source": [
    "Identificador = pd.DataFrame()\n",
    "Identificador['id'] = test['id']"
   ]
  },
  {
   "cell_type": "code",
   "execution_count": 60,
   "metadata": {},
   "outputs": [],
   "source": [
    "train = train.drop('id', axis = 1)\n",
    "test = test.drop('id', axis = 1)\n",
    "\n",
    "train = train.drop('mean', axis = 1)\n",
    "test = test.drop('mean', axis = 1)\n",
    "\n",
    "train = train.drop('median', axis = 1)\n",
    "test = test.drop('median', axis = 1)\n",
    "\n",
    "train = train.drop('provincia', axis = 1)\n",
    "test = test.drop('provincia', axis = 1)\n",
    "\n",
    "train = train.drop('ciudad', axis = 1)\n",
    "test = test.drop('ciudad', axis = 1)\n",
    "\n",
    "train = train.drop('tipodepropiedad', axis = 1)\n",
    "test = test.drop('tipodepropiedad', axis = 1)"
   ]
  },
  {
   "cell_type": "code",
   "execution_count": 61,
   "metadata": {},
   "outputs": [
    {
     "name": "stdout",
     "output_type": "stream",
     "text": [
      "<class 'pandas.core.frame.DataFrame'>\n",
      "RangeIndex: 240000 entries, 0 to 239999\n",
      "Data columns (total 67 columns):\n",
      "habitaciones                  240000 non-null int64\n",
      "garages                       240000 non-null int64\n",
      "banos                         240000 non-null int64\n",
      "gimnasio                      240000 non-null int64\n",
      "usosmultiples                 240000 non-null int64\n",
      "piscina                       240000 non-null int64\n",
      "escuelascercanas              240000 non-null int64\n",
      "centroscomercialescercanos    240000 non-null int64\n",
      "2012                          240000 non-null int64\n",
      "2013                          240000 non-null int64\n",
      "2014                          240000 non-null int64\n",
      "2015                          240000 non-null int64\n",
      "2016                          240000 non-null int64\n",
      "precio                        240000 non-null float64\n",
      "antiguedad_agrupada           240000 non-null int64\n",
      "metroscubiertos_agrupada      240000 non-null int64\n",
      "metrostotales_agrupada        240000 non-null int64\n",
      "ILUMINADA                     240000 non-null int64\n",
      "TRANQUILO                     240000 non-null int64\n",
      "UNIVERSIDAD                   240000 non-null int64\n",
      "AVENIDA                       240000 non-null int64\n",
      "AMENIDADES                    240000 non-null int64\n",
      "BARRA                         240000 non-null int64\n",
      "BALCON                        240000 non-null int64\n",
      "RECIBIDOR                     240000 non-null int64\n",
      "DESPENSA                      240000 non-null int64\n",
      "LAVADERO                      240000 non-null int64\n",
      "REJA                          240000 non-null int64\n",
      "TERRAZA                       240000 non-null int64\n",
      "CHIMENEA                      240000 non-null int64\n",
      "CISTERNA                      240000 non-null int64\n",
      "NUEVA                         240000 non-null int64\n",
      "EXCELENTE                     240000 non-null int64\n",
      "VENTA                         240000 non-null int64\n",
      "PREVENTA                      240000 non-null int64\n",
      "RENTA                         240000 non-null int64\n",
      "CREDITO                       240000 non-null int64\n",
      "REMATE                        240000 non-null int64\n",
      "OPORTUNIDAD                   240000 non-null int64\n",
      "RESIDENCIA                    240000 non-null int64\n",
      "EDIFICIO                      240000 non-null int64\n",
      "TORRE                         240000 non-null int64\n",
      "PISO                          240000 non-null int64\n",
      "LOFT                          240000 non-null int64\n",
      "FRACCIONAMIENTO               240000 non-null int64\n",
      "DUPLEX                        240000 non-null int64\n",
      "COUNTRY                       240000 non-null int64\n",
      "QUINTA                        240000 non-null int64\n",
      "OFICINA                       240000 non-null int64\n",
      "PENTHOUSE                     240000 non-null int64\n",
      "REMODELADO                    240000 non-null int64\n",
      "MODERNO                       240000 non-null int64\n",
      "MINIMALISTA                   240000 non-null int64\n",
      "EQUIPADA                      240000 non-null int64\n",
      "JARDIN                        240000 non-null int64\n",
      "FRENTE                        240000 non-null int64\n",
      "ESQUINA                       240000 non-null int64\n",
      "CENTRO                        240000 non-null int64\n",
      "UBICACION                     240000 non-null int64\n",
      "VISTA                         240000 non-null int64\n",
      "LUJO                          240000 non-null int64\n",
      "BODEGA                        240000 non-null int64\n",
      "CAMPESTRE                     240000 non-null int64\n",
      "RANCHO                        240000 non-null int64\n",
      "PLAYA                         240000 non-null int64\n",
      "GOLF                          240000 non-null int64\n",
      "SEGURIDAD                     240000 non-null int64\n",
      "dtypes: float64(1), int64(66)\n",
      "memory usage: 122.7 MB\n"
     ]
    }
   ],
   "source": [
    "train.info()"
   ]
  },
  {
   "cell_type": "code",
   "execution_count": 62,
   "metadata": {},
   "outputs": [
    {
     "name": "stdout",
     "output_type": "stream",
     "text": [
      "<class 'pandas.core.frame.DataFrame'>\n",
      "RangeIndex: 60000 entries, 0 to 59999\n",
      "Data columns (total 66 columns):\n",
      "habitaciones                  60000 non-null int64\n",
      "garages                       60000 non-null int64\n",
      "banos                         60000 non-null int64\n",
      "gimnasio                      60000 non-null int64\n",
      "usosmultiples                 60000 non-null int64\n",
      "piscina                       60000 non-null int64\n",
      "escuelascercanas              60000 non-null int64\n",
      "centroscomercialescercanos    60000 non-null int64\n",
      "2012                          60000 non-null int64\n",
      "2013                          60000 non-null int64\n",
      "2014                          60000 non-null int64\n",
      "2015                          60000 non-null int64\n",
      "2016                          60000 non-null int64\n",
      "antiguedad_agrupada           60000 non-null int64\n",
      "metroscubiertos_agrupada      60000 non-null int64\n",
      "metrostotales_agrupada        60000 non-null int64\n",
      "ILUMINADA                     60000 non-null int64\n",
      "TRANQUILO                     60000 non-null int64\n",
      "UNIVERSIDAD                   60000 non-null int64\n",
      "AVENIDA                       60000 non-null int64\n",
      "AMENIDADES                    60000 non-null int64\n",
      "BARRA                         60000 non-null int64\n",
      "BALCON                        60000 non-null int64\n",
      "RECIBIDOR                     60000 non-null int64\n",
      "DESPENSA                      60000 non-null int64\n",
      "LAVADERO                      60000 non-null int64\n",
      "REJA                          60000 non-null int64\n",
      "TERRAZA                       60000 non-null int64\n",
      "CHIMENEA                      60000 non-null int64\n",
      "CISTERNA                      60000 non-null int64\n",
      "NUEVA                         60000 non-null int64\n",
      "EXCELENTE                     60000 non-null int64\n",
      "VENTA                         60000 non-null int64\n",
      "PREVENTA                      60000 non-null int64\n",
      "RENTA                         60000 non-null int64\n",
      "CREDITO                       60000 non-null int64\n",
      "REMATE                        60000 non-null int64\n",
      "OPORTUNIDAD                   60000 non-null int64\n",
      "RESIDENCIA                    60000 non-null int64\n",
      "EDIFICIO                      60000 non-null int64\n",
      "TORRE                         60000 non-null int64\n",
      "PISO                          60000 non-null int64\n",
      "LOFT                          60000 non-null int64\n",
      "FRACCIONAMIENTO               60000 non-null int64\n",
      "DUPLEX                        60000 non-null int64\n",
      "COUNTRY                       60000 non-null int64\n",
      "QUINTA                        60000 non-null int64\n",
      "OFICINA                       60000 non-null int64\n",
      "PENTHOUSE                     60000 non-null int64\n",
      "REMODELADO                    60000 non-null int64\n",
      "MODERNO                       60000 non-null int64\n",
      "MINIMALISTA                   60000 non-null int64\n",
      "EQUIPADA                      60000 non-null int64\n",
      "JARDIN                        60000 non-null int64\n",
      "FRENTE                        60000 non-null int64\n",
      "ESQUINA                       60000 non-null int64\n",
      "CENTRO                        60000 non-null int64\n",
      "UBICACION                     60000 non-null int64\n",
      "VISTA                         60000 non-null int64\n",
      "LUJO                          60000 non-null int64\n",
      "BODEGA                        60000 non-null int64\n",
      "CAMPESTRE                     60000 non-null int64\n",
      "RANCHO                        60000 non-null int64\n",
      "PLAYA                         60000 non-null int64\n",
      "GOLF                          60000 non-null int64\n",
      "SEGURIDAD                     60000 non-null int64\n",
      "dtypes: int64(66)\n",
      "memory usage: 30.2 MB\n"
     ]
    }
   ],
   "source": [
    "test.info()"
   ]
  },
  {
   "cell_type": "code",
   "execution_count": 63,
   "metadata": {},
   "outputs": [],
   "source": [
    "# Resto de los labels.\n",
    "Y = np.array(train['precio'])\n",
    "X = train.drop('precio', axis = 1)"
   ]
  },
  {
   "cell_type": "code",
   "execution_count": 64,
   "metadata": {},
   "outputs": [],
   "source": [
    "trainX, testX, trainY, testY = train_test_split(X, Y, test_size=0.2, random_state=42)"
   ]
  },
  {
   "cell_type": "markdown",
   "metadata": {},
   "source": [
    "### =====================================================================\n",
    "### Lasso.\n",
    "### ====================================================================="
   ]
  },
  {
   "cell_type": "code",
   "execution_count": 65,
   "metadata": {},
   "outputs": [
    {
     "data": {
      "text/plain": [
       "LassoCV(alphas=None, copy_X=True, cv='warn', eps=0.001, fit_intercept=True,\n",
       "    max_iter=1000, n_alphas=100, n_jobs=None, normalize=False,\n",
       "    positive=False, precompute='auto', random_state=None,\n",
       "    selection='cyclic', tol=0.0001, verbose=False)"
      ]
     },
     "execution_count": 65,
     "metadata": {},
     "output_type": "execute_result"
    }
   ],
   "source": [
    "reg = LassoCV()\n",
    "reg.fit(trainX, trainY)"
   ]
  },
  {
   "cell_type": "code",
   "execution_count": 66,
   "metadata": {},
   "outputs": [
    {
     "name": "stdout",
     "output_type": "stream",
     "text": [
      "Best alpha using built-in LassoCV: 128290.384369\n",
      "Best score using built-in LassoCV: 0.368491\n",
      "Lasso picked 4 variables and eliminated the other 62 variables\n"
     ]
    },
    {
     "data": {
      "text/plain": [
       "Text(0.5,1,'Feature importance con LASSO')"
      ]
     },
     "execution_count": 66,
     "metadata": {},
     "output_type": "execute_result"
    },
    {
     "data": {
      "image/png": "[encoded data removed]",
      "text/plain": [
       "<Figure size 2000x2000 with 1 Axes>"
      ]
     },
     "metadata": {},
     "output_type": "display_data"
    }
   ],
   "source": [
    "print(\"Best alpha using built-in LassoCV: %f\" % reg.alpha_)\n",
    "print(\"Best score using built-in LassoCV: %f\" % reg.score(trainX,trainY))\n",
    "coef = pd.Series(reg.coef_, index = trainX.columns)\n",
    "\n",
    "print(\"Lasso picked \" + str(sum(coef != 0)) + \" variables and eliminated the other \" +  str(sum(coef == 0)) + \" variables\")\n",
    "\n",
    "imp_coef = coef[coef != 0].sort_values()\n",
    "import matplotlib\n",
    "matplotlib.rcParams['figure.figsize'] = (20, 20)\n",
    "imp_coef.plot(kind = \"barh\")\n",
    "plt.title(\"Feature importance con LASSO\")"
   ]
  },
  {
   "cell_type": "code",
   "execution_count": 67,
   "metadata": {},
   "outputs": [
    {
     "name": "stdout",
     "output_type": "stream",
     "text": [
      "('Error:', 1173221.14, 'grados.')\n"
     ]
    }
   ],
   "source": [
    "y_pred = reg.predict(testX)\n",
    "# Calculamos el error absoluto.\n",
    "errors = abs(y_pred - testY)\n",
    "# Imprimimos el error.\n",
    "print('Error:', round(np.mean(errors), 2), 'grados.')"
   ]
  },
  {
   "cell_type": "code",
   "execution_count": 68,
   "metadata": {},
   "outputs": [
    {
     "name": "stdout",
     "output_type": "stream",
     "text": [
      "('Precision:', 33.45, '%.')\n"
     ]
    }
   ],
   "source": [
    "# Calculamos el porcentaje de error.\n",
    "mape = 100 * (errors / testY)\n",
    "# Calculate la precisión.\n",
    "accuracy = 100 - np.mean(mape)\n",
    "print('Precision:', round(accuracy, 2), '%.')"
   ]
  },
  {
   "cell_type": "code",
   "execution_count": 69,
   "metadata": {},
   "outputs": [],
   "source": [
    "prediccion = reg.predict(test)"
   ]
  },
  {
   "cell_type": "code",
   "execution_count": 57,
   "metadata": {},
   "outputs": [],
   "source": [
    "## =================================================================================================\n",
    "## ARMAMOS EN BASE A LA PREDICCIÓN QUE TENEMOS UN CSV PARA SUBIR A KAGGLE CON EL FORMATO INDICADO!\n",
    "## =================================================================================================\n",
    "submission = pd.DataFrame({ 'id': Identificador['id'], 'target': prediccion })\n",
    "submission.to_csv(\"SUBMITS/010_G34_Lasso.csv\", index=False)"
   ]
  },
  {
   "cell_type": "code",
   "execution_count": null,
   "metadata": {},
   "outputs": [],
   "source": []
  }
 ],
 "metadata": {
  "kernelspec": {
   "display_name": "Python 2",
   "language": "python",
   "name": "python2"
  },
  "language_info": {
   "codemirror_mode": {
    "name": "ipython",
    "version": 2
   },
   "file_extension": ".py",
   "mimetype": "text/x-python",
   "name": "python",
   "nbconvert_exporter": "python",
   "pygments_lexer": "ipython2",
   "version": "2.7.14"
  }
 },
 "nbformat": 4,
 "nbformat_minor": 2
}
