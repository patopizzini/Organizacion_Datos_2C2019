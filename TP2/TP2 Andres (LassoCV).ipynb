{
 "cells": [
  {
   "cell_type": "markdown",
   "metadata": {},
   "source": [
    "### =====================================================================\n",
    "### IMPORTACIÓN GENERAL DE LA INFORMACIÓN.\n",
    "### ====================================================================="
   ]
  },
  {
   "cell_type": "code",
   "execution_count": 28,
   "metadata": {},
   "outputs": [],
   "source": [
    "## IMPORTACIÓN GENERAL DE LIBRERIAS Y VISUALIZACIÓN DE DATOS (matplotlib y seaborn)\n",
    "\n",
    "import pandas as pd\n",
    "import numpy as np\n",
    "import matplotlib.pyplot as plt\n",
    "import seaborn as sns\n",
    "import datetime as DT\n",
    "import warnings\n",
    "import descartes\n",
    "import geopandas as gpd\n",
    "import json\n",
    "import requests\n",
    "import geocoder\n",
    "\n",
    "# Random Forest.\n",
    "from sklearn.ensemble import RandomForestRegressor\n",
    "from shapely.geometry import Point, Polygon\n",
    "from urllib2 import urlopen\n",
    "\n",
    "# XGBoost.\n",
    "from xgboost import XGBClassifier\n",
    "import xgboost as xgb\n",
    "from sklearn.model_selection import train_test_split\n",
    "from sklearn.metrics import accuracy_score\n",
    "\n",
    "#importing libraries\n",
    "from sklearn.datasets import load_boston\n",
    "import pandas as pd\n",
    "import numpy as np\n",
    "import matplotlib\n",
    "import matplotlib.pyplot as plt\n",
    "import seaborn as sns\n",
    "import statsmodels.api as sm\n",
    "%matplotlib inline\n",
    "from sklearn.model_selection import train_test_split\n",
    "from sklearn.linear_model import LinearRegression\n",
    "from sklearn.feature_selection import RFE\n",
    "from sklearn.linear_model import RidgeCV, LassoCV, Ridge, Lasso#Loading the dataset\n",
    "\n",
    "%matplotlib inline\n",
    "warnings.filterwarnings('ignore')\n",
    "plt.style.use('default') \n",
    "sns.set(style=\"whitegrid\") \n",
    "plt.rcParams['figure.figsize'] = (15, 10)"
   ]
  },
  {
   "cell_type": "markdown",
   "metadata": {},
   "source": [
    "### =====================================================================\n",
    "### ALGORITMOS DE MACHINE LEARNING:\n",
    "### ====================================================================="
   ]
  },
  {
   "cell_type": "code",
   "execution_count": 38,
   "metadata": {},
   "outputs": [],
   "source": [
    "# LECTURAS DE CSV YA PROCESADOS. \n",
    "train = pd.read_csv('DATA/train.csv') # trainProcesado_precio_v2.csv # train.csv\n",
    "test = pd.read_csv('DATA/test.csv') # testProcesado_v2.csv # test.csv"
   ]
  },
  {
   "cell_type": "code",
   "execution_count": 39,
   "metadata": {},
   "outputs": [
    {
     "name": "stdout",
     "output_type": "stream",
     "text": [
      "<class 'pandas.core.frame.DataFrame'>\n",
      "RangeIndex: 240000 entries, 0 to 239999\n",
      "Data columns (total 79 columns):\n",
      "antiguedad                       240000 non-null float64\n",
      "habitaciones                     240000 non-null float64\n",
      "garages                          240000 non-null float64\n",
      "banos                            240000 non-null float64\n",
      "metroscubiertos                  240000 non-null float64\n",
      "metrostotales                    240000 non-null float64\n",
      "gimnasio                         240000 non-null float64\n",
      "usosmultiples                    240000 non-null float64\n",
      "piscina                          240000 non-null float64\n",
      "escuelascercanas                 240000 non-null float64\n",
      "centroscomercialescercanos       240000 non-null float64\n",
      "precio                           240000 non-null float64\n",
      "excelente                        240000 non-null int64\n",
      "vigilancia                       240000 non-null int64\n",
      "esquina                          240000 non-null int64\n",
      "remodelada                       240000 non-null int64\n",
      "lujo                             240000 non-null int64\n",
      "antiguedad_agrupada              240000 non-null int64\n",
      "metroscubiertos_agrupada         240000 non-null int64\n",
      "metrostotales_agrupada           240000 non-null int64\n",
      "median                           240000 non-null float64\n",
      "mean                             240000 non-null float64\n",
      "AGUASCALIENTES                   240000 non-null int64\n",
      "BAJA CALIFORNIA NORTE            240000 non-null int64\n",
      "BAJA CALIFORNIA SUR              240000 non-null int64\n",
      "CAMPECHE                         240000 non-null int64\n",
      "CHIAPAS                          240000 non-null int64\n",
      "CHIHUAHUA                        240000 non-null int64\n",
      "COAHUILA                         240000 non-null int64\n",
      "COLIMA                           240000 non-null int64\n",
      "DISTRITO FEDERAL                 240000 non-null int64\n",
      "DURANGO                          240000 non-null int64\n",
      "EDO. DE MAXICO                   240000 non-null int64\n",
      "GUANAJUATO                       240000 non-null int64\n",
      "GUERRERO                         240000 non-null int64\n",
      "HIDALGO                          240000 non-null int64\n",
      "JALISCO                          240000 non-null int64\n",
      "MICHOACAN                        240000 non-null int64\n",
      "MORELOS                          240000 non-null int64\n",
      "NAYARIT                          240000 non-null int64\n",
      "NUEVO LEA3N                      240000 non-null int64\n",
      "OAXACA                           240000 non-null int64\n",
      "PUEBLA                           240000 non-null int64\n",
      "QUERATARO                        240000 non-null int64\n",
      "QUINTANA ROO                     240000 non-null int64\n",
      "SAN LUIS POTOSA                  240000 non-null int64\n",
      "SINALOA                          240000 non-null int64\n",
      "SONORA                           240000 non-null int64\n",
      "TABASCO                          240000 non-null int64\n",
      "TAMAULIPAS                       240000 non-null int64\n",
      "TLAXCALA                         240000 non-null int64\n",
      "VERACRUZ                         240000 non-null int64\n",
      "YUCATAN                          240000 non-null int64\n",
      "ZACATECAS                        240000 non-null int64\n",
      "APARTAMENTO                      240000 non-null int64\n",
      "CASA                             240000 non-null int64\n",
      "CASA USO DE SUELO                240000 non-null int64\n",
      "COMERCIO                         240000 non-null int64\n",
      "CONDOMINIO                       240000 non-null int64\n",
      "DEPARTAMENTO COMPARTIDO          240000 non-null int64\n",
      "DUPLEX                           240000 non-null int64\n",
      "EDIFICIO                         240000 non-null int64\n",
      "GARAGE                           240000 non-null int64\n",
      "HOSPEDAJE                        240000 non-null int64\n",
      "HUERTA                           240000 non-null int64\n",
      "INMUEBLES PRODUCTIVOS URBANOS    240000 non-null int64\n",
      "LOTE                             240000 non-null int64\n",
      "NAVE INDUSTRIAL                  240000 non-null int64\n",
      "OTROS                            240000 non-null int64\n",
      "QUINTA VACACIONAL                240000 non-null int64\n",
      "RANCHO                           240000 non-null int64\n",
      "TERRENO                          240000 non-null int64\n",
      "TERRENO INDUSTRIAL               240000 non-null int64\n",
      "VILLA                            240000 non-null int64\n",
      "2012                             240000 non-null int64\n",
      "2013                             240000 non-null int64\n",
      "2014                             240000 non-null int64\n",
      "2015                             240000 non-null int64\n",
      "2016                             240000 non-null int64\n",
      "dtypes: float64(14), int64(65)\n",
      "memory usage: 144.7 MB\n"
     ]
    }
   ],
   "source": [
    "train = train.drop('id', axis = 1)\n",
    "train.info()"
   ]
  },
  {
   "cell_type": "code",
   "execution_count": 40,
   "metadata": {},
   "outputs": [
    {
     "name": "stdout",
     "output_type": "stream",
     "text": [
      "<class 'pandas.core.frame.DataFrame'>\n",
      "RangeIndex: 60000 entries, 0 to 59999\n",
      "Data columns (total 78 columns):\n",
      "antiguedad                       60000 non-null float64\n",
      "habitaciones                     60000 non-null float64\n",
      "garages                          60000 non-null float64\n",
      "banos                            60000 non-null float64\n",
      "metroscubiertos                  60000 non-null float64\n",
      "metrostotales                    60000 non-null float64\n",
      "gimnasio                         60000 non-null float64\n",
      "usosmultiples                    60000 non-null float64\n",
      "piscina                          60000 non-null float64\n",
      "escuelascercanas                 60000 non-null float64\n",
      "centroscomercialescercanos       60000 non-null float64\n",
      "excelente                        60000 non-null int64\n",
      "vigilancia                       60000 non-null int64\n",
      "esquina                          60000 non-null int64\n",
      "remodelada                       60000 non-null int64\n",
      "lujo                             60000 non-null int64\n",
      "antiguedad_agrupada              60000 non-null int64\n",
      "metroscubiertos_agrupada         60000 non-null int64\n",
      "metrostotales_agrupada           60000 non-null int64\n",
      "median                           60000 non-null float64\n",
      "mean                             60000 non-null float64\n",
      "AGUASCALIENTES                   60000 non-null int64\n",
      "BAJA CALIFORNIA NORTE            60000 non-null int64\n",
      "BAJA CALIFORNIA SUR              60000 non-null int64\n",
      "CAMPECHE                         60000 non-null int64\n",
      "CHIAPAS                          60000 non-null int64\n",
      "CHIHUAHUA                        60000 non-null int64\n",
      "COAHUILA                         60000 non-null int64\n",
      "COLIMA                           60000 non-null int64\n",
      "DISTRITO FEDERAL                 60000 non-null int64\n",
      "DURANGO                          60000 non-null int64\n",
      "EDO. DE MAXICO                   60000 non-null int64\n",
      "GUANAJUATO                       60000 non-null int64\n",
      "GUERRERO                         60000 non-null int64\n",
      "HIDALGO                          60000 non-null int64\n",
      "JALISCO                          60000 non-null int64\n",
      "MICHOACAN                        60000 non-null int64\n",
      "MORELOS                          60000 non-null int64\n",
      "NAYARIT                          60000 non-null int64\n",
      "NUEVO LEA3N                      60000 non-null int64\n",
      "OAXACA                           60000 non-null int64\n",
      "PUEBLA                           60000 non-null int64\n",
      "QUERATARO                        60000 non-null int64\n",
      "QUINTANA ROO                     60000 non-null int64\n",
      "SAN LUIS POTOSA                  60000 non-null int64\n",
      "SINALOA                          60000 non-null int64\n",
      "SONORA                           60000 non-null int64\n",
      "TABASCO                          60000 non-null int64\n",
      "TAMAULIPAS                       60000 non-null int64\n",
      "TLAXCALA                         60000 non-null int64\n",
      "VERACRUZ                         60000 non-null int64\n",
      "YUCATAN                          60000 non-null int64\n",
      "ZACATECAS                        60000 non-null int64\n",
      "APARTAMENTO                      60000 non-null int64\n",
      "CASA                             60000 non-null int64\n",
      "CASA USO DE SUELO                60000 non-null int64\n",
      "COMERCIO                         60000 non-null int64\n",
      "CONDOMINIO                       60000 non-null int64\n",
      "DEPARTAMENTO COMPARTIDO          60000 non-null int64\n",
      "DUPLEX                           60000 non-null int64\n",
      "EDIFICIO                         60000 non-null int64\n",
      "HUERTA                           60000 non-null int64\n",
      "INMUEBLES PRODUCTIVOS URBANOS    60000 non-null int64\n",
      "LOTE                             60000 non-null int64\n",
      "NAVE INDUSTRIAL                  60000 non-null int64\n",
      "OTROS                            60000 non-null int64\n",
      "QUINTA VACACIONAL                60000 non-null int64\n",
      "RANCHO                           60000 non-null int64\n",
      "TERRENO                          60000 non-null int64\n",
      "TERRENO INDUSTRIAL               60000 non-null int64\n",
      "VILLA                            60000 non-null int64\n",
      "2012                             60000 non-null int64\n",
      "2013                             60000 non-null int64\n",
      "2014                             60000 non-null int64\n",
      "2015                             60000 non-null int64\n",
      "2016                             60000 non-null int64\n",
      "HOSPEDAJE                        60000 non-null int64\n",
      "GARAGE                           60000 non-null int64\n",
      "dtypes: float64(13), int64(65)\n",
      "memory usage: 35.7 MB\n"
     ]
    }
   ],
   "source": [
    "test = test.drop('id', axis = 1)\n",
    "test.info()"
   ]
  },
  {
   "cell_type": "code",
   "execution_count": 41,
   "metadata": {},
   "outputs": [],
   "source": [
    "#train = train[[c for c in train if c not in ['HOSPEDAJE', 'GARAGE']] + ['HOSPEDAJE', 'GARAGE']]"
   ]
  },
  {
   "cell_type": "code",
   "execution_count": 42,
   "metadata": {},
   "outputs": [],
   "source": [
    "# Segmentamos una parte para entrenar y constatar.\n",
    "# testX = train.loc[train['2016'] == 1]\n",
    "# trainX = train.loc[train['2016'] == 0]"
   ]
  },
  {
   "cell_type": "code",
   "execution_count": 43,
   "metadata": {},
   "outputs": [],
   "source": [
    "# Label a predecir.\n",
    "# testY = np.array(train_2016['precio'])\n",
    "# testX = testX.drop('precio', axis = 1)"
   ]
  },
  {
   "cell_type": "code",
   "execution_count": 44,
   "metadata": {},
   "outputs": [],
   "source": [
    "# Resto de los labels.\n",
    "Y = np.array(train['precio'])\n",
    "X = train.drop('precio', axis = 1)"
   ]
  },
  {
   "cell_type": "code",
   "execution_count": 47,
   "metadata": {},
   "outputs": [],
   "source": [
    "trainX, testX, trainY, testY = train_test_split(X, Y, test_size=0.2, random_state=42)"
   ]
  },
  {
   "cell_type": "markdown",
   "metadata": {},
   "source": [
    "### =====================================================================\n",
    "### XGBoost.\n",
    "### ====================================================================="
   ]
  },
  {
   "cell_type": "code",
   "execution_count": 46,
   "metadata": {},
   "outputs": [
    {
     "name": "stdout",
     "output_type": "stream",
     "text": [
      "Best alpha using built-in LassoCV: 3030488928.212157\n",
      "Best score using built-in LassoCV: 0.656786\n",
      "Lasso picked 2 variables and eliminated the other 76 variables\n"
     ]
    },
    {
     "data": {
      "text/plain": [
       "Text(0.5,1,'Feature importance using Lasso Model')"
      ]
     },
     "execution_count": 46,
     "metadata": {},
     "output_type": "execute_result"
    },
    {
     "data": {
      "image/png": "[encoded data removed]",
      "text/plain": [
       "<Figure size 800x1000 with 1 Axes>"
      ]
     },
     "metadata": {},
     "output_type": "display_data"
    }
   ],
   "source": [
    "reg = LassoCV()\n",
    "reg.fit(trainX, trainY)\n",
    "print(\"Best alpha using built-in LassoCV: %f\" % reg.alpha_)\n",
    "print(\"Best score using built-in LassoCV: %f\" %reg.score(trainX,trainY))\n",
    "coef = pd.Series(reg.coef_, index = trainX.columns)\n",
    "\n",
    "print(\"Lasso picked \" + str(sum(coef != 0)) + \" variables and eliminated the other \" +  str(sum(coef == 0)) + \" variables\")\n",
    "\n",
    "imp_coef = coef[coef != 0].sort_values()\n",
    "import matplotlib\n",
    "matplotlib.rcParams['figure.figsize'] = (8.0, 10.0)\n",
    "imp_coef.plot(kind = \"barh\")\n",
    "plt.title(\"Feature importance using Lasso Model\")"
   ]
  },
  {
   "cell_type": "code",
   "execution_count": null,
   "metadata": {},
   "outputs": [],
   "source": []
  },
  {
   "cell_type": "code",
   "execution_count": 48,
   "metadata": {},
   "outputs": [],
   "source": [
    "#xg_reg.fit(trainX,trainY)"
   ]
  },
  {
   "cell_type": "code",
   "execution_count": 49,
   "metadata": {},
   "outputs": [
    {
     "name": "stdout",
     "output_type": "stream",
     "text": [
      "('Error:', 722085.34, 'grados.')\n"
     ]
    }
   ],
   "source": [
    "y_pred = reg.predict(testX)\n",
    "# Calculamos el error absoluto.\n",
    "errors = abs(y_pred - testY)\n",
    "# Imprimimos el error.\n",
    "print('Error:', round(np.mean(errors), 2), 'grados.')"
   ]
  },
  {
   "cell_type": "code",
   "execution_count": 50,
   "metadata": {},
   "outputs": [
    {
     "name": "stdout",
     "output_type": "stream",
     "text": [
      "('Precision:', 55.49, '%.')\n"
     ]
    }
   ],
   "source": [
    "# Calculamos el porcentaje de error.\n",
    "mape = 100 * (errors / testY)\n",
    "# Calculate la precisión.\n",
    "accuracy = 100 - np.mean(mape)\n",
    "print('Precision:', round(accuracy, 2), '%.')"
   ]
  },
  {
   "cell_type": "code",
   "execution_count": 52,
   "metadata": {},
   "outputs": [],
   "source": [
    "prediccion = reg.predict(test)"
   ]
  },
  {
   "cell_type": "code",
   "execution_count": 53,
   "metadata": {},
   "outputs": [
    {
     "ename": "KeyError",
     "evalue": "'id'",
     "output_type": "error",
     "traceback": [
      "\u001b[0;31m---------------------------------------------------------------------------\u001b[0m",
      "\u001b[0;31mKeyError\u001b[0m                                  Traceback (most recent call last)",
      "\u001b[0;32m<ipython-input-53-80df77af0016>\u001b[0m in \u001b[0;36m<module>\u001b[0;34m()\u001b[0m\n\u001b[1;32m      2\u001b[0m \u001b[0;31m## ARMAMOS EN BASE A LA PREDICCIÓN QUE TENEMOS UN CSV PARA SUBIR A KAGGLE CON EL FORMATO INDICADO!\u001b[0m\u001b[0;34m\u001b[0m\u001b[0;34m\u001b[0m\u001b[0m\n\u001b[1;32m      3\u001b[0m \u001b[0;31m## =================================================================================================\u001b[0m\u001b[0;34m\u001b[0m\u001b[0;34m\u001b[0m\u001b[0m\n\u001b[0;32m----> 4\u001b[0;31m \u001b[0msubmission\u001b[0m \u001b[0;34m=\u001b[0m \u001b[0mpd\u001b[0m\u001b[0;34m.\u001b[0m\u001b[0mDataFrame\u001b[0m\u001b[0;34m(\u001b[0m\u001b[0;34m{\u001b[0m \u001b[0;34m'id'\u001b[0m\u001b[0;34m:\u001b[0m \u001b[0mtest\u001b[0m\u001b[0;34m[\u001b[0m\u001b[0;34m'id'\u001b[0m\u001b[0;34m]\u001b[0m\u001b[0;34m,\u001b[0m \u001b[0;34m'target'\u001b[0m\u001b[0;34m:\u001b[0m \u001b[0mprediccion\u001b[0m \u001b[0;34m}\u001b[0m\u001b[0;34m)\u001b[0m\u001b[0;34m\u001b[0m\u001b[0m\n\u001b[0m\u001b[1;32m      5\u001b[0m \u001b[0msubmission\u001b[0m\u001b[0;34m.\u001b[0m\u001b[0mto_csv\u001b[0m\u001b[0;34m(\u001b[0m\u001b[0;34m\"SUBMITS/007_G34_Lasso.csv\"\u001b[0m\u001b[0;34m,\u001b[0m \u001b[0mindex\u001b[0m\u001b[0;34m=\u001b[0m\u001b[0mFalse\u001b[0m\u001b[0;34m)\u001b[0m\u001b[0;34m\u001b[0m\u001b[0m\n",
      "\u001b[0;32m/usr/local/lib/python2.7/dist-packages/pandas/core/frame.pyc\u001b[0m in \u001b[0;36m__getitem__\u001b[0;34m(self, key)\u001b[0m\n\u001b[1;32m   2686\u001b[0m             \u001b[0;32mreturn\u001b[0m \u001b[0mself\u001b[0m\u001b[0;34m.\u001b[0m\u001b[0m_getitem_multilevel\u001b[0m\u001b[0;34m(\u001b[0m\u001b[0mkey\u001b[0m\u001b[0;34m)\u001b[0m\u001b[0;34m\u001b[0m\u001b[0m\n\u001b[1;32m   2687\u001b[0m         \u001b[0;32melse\u001b[0m\u001b[0;34m:\u001b[0m\u001b[0;34m\u001b[0m\u001b[0m\n\u001b[0;32m-> 2688\u001b[0;31m             \u001b[0;32mreturn\u001b[0m \u001b[0mself\u001b[0m\u001b[0;34m.\u001b[0m\u001b[0m_getitem_column\u001b[0m\u001b[0;34m(\u001b[0m\u001b[0mkey\u001b[0m\u001b[0;34m)\u001b[0m\u001b[0;34m\u001b[0m\u001b[0m\n\u001b[0m\u001b[1;32m   2689\u001b[0m \u001b[0;34m\u001b[0m\u001b[0m\n\u001b[1;32m   2690\u001b[0m     \u001b[0;32mdef\u001b[0m \u001b[0m_getitem_column\u001b[0m\u001b[0;34m(\u001b[0m\u001b[0mself\u001b[0m\u001b[0;34m,\u001b[0m \u001b[0mkey\u001b[0m\u001b[0;34m)\u001b[0m\u001b[0;34m:\u001b[0m\u001b[0;34m\u001b[0m\u001b[0m\n",
      "\u001b[0;32m/usr/local/lib/python2.7/dist-packages/pandas/core/frame.pyc\u001b[0m in \u001b[0;36m_getitem_column\u001b[0;34m(self, key)\u001b[0m\n\u001b[1;32m   2693\u001b[0m         \u001b[0;31m# get column\u001b[0m\u001b[0;34m\u001b[0m\u001b[0;34m\u001b[0m\u001b[0m\n\u001b[1;32m   2694\u001b[0m         \u001b[0;32mif\u001b[0m \u001b[0mself\u001b[0m\u001b[0;34m.\u001b[0m\u001b[0mcolumns\u001b[0m\u001b[0;34m.\u001b[0m\u001b[0mis_unique\u001b[0m\u001b[0;34m:\u001b[0m\u001b[0;34m\u001b[0m\u001b[0m\n\u001b[0;32m-> 2695\u001b[0;31m             \u001b[0;32mreturn\u001b[0m \u001b[0mself\u001b[0m\u001b[0;34m.\u001b[0m\u001b[0m_get_item_cache\u001b[0m\u001b[0;34m(\u001b[0m\u001b[0mkey\u001b[0m\u001b[0;34m)\u001b[0m\u001b[0;34m\u001b[0m\u001b[0m\n\u001b[0m\u001b[1;32m   2696\u001b[0m \u001b[0;34m\u001b[0m\u001b[0m\n\u001b[1;32m   2697\u001b[0m         \u001b[0;31m# duplicate columns & possible reduce dimensionality\u001b[0m\u001b[0;34m\u001b[0m\u001b[0;34m\u001b[0m\u001b[0m\n",
      "\u001b[0;32m/usr/local/lib/python2.7/dist-packages/pandas/core/generic.pyc\u001b[0m in \u001b[0;36m_get_item_cache\u001b[0;34m(self, item)\u001b[0m\n\u001b[1;32m   2484\u001b[0m         \u001b[0mres\u001b[0m \u001b[0;34m=\u001b[0m \u001b[0mcache\u001b[0m\u001b[0;34m.\u001b[0m\u001b[0mget\u001b[0m\u001b[0;34m(\u001b[0m\u001b[0mitem\u001b[0m\u001b[0;34m)\u001b[0m\u001b[0;34m\u001b[0m\u001b[0m\n\u001b[1;32m   2485\u001b[0m         \u001b[0;32mif\u001b[0m \u001b[0mres\u001b[0m \u001b[0;32mis\u001b[0m \u001b[0mNone\u001b[0m\u001b[0;34m:\u001b[0m\u001b[0;34m\u001b[0m\u001b[0m\n\u001b[0;32m-> 2486\u001b[0;31m             \u001b[0mvalues\u001b[0m \u001b[0;34m=\u001b[0m \u001b[0mself\u001b[0m\u001b[0;34m.\u001b[0m\u001b[0m_data\u001b[0m\u001b[0;34m.\u001b[0m\u001b[0mget\u001b[0m\u001b[0;34m(\u001b[0m\u001b[0mitem\u001b[0m\u001b[0;34m)\u001b[0m\u001b[0;34m\u001b[0m\u001b[0m\n\u001b[0m\u001b[1;32m   2487\u001b[0m             \u001b[0mres\u001b[0m \u001b[0;34m=\u001b[0m \u001b[0mself\u001b[0m\u001b[0;34m.\u001b[0m\u001b[0m_box_item_values\u001b[0m\u001b[0;34m(\u001b[0m\u001b[0mitem\u001b[0m\u001b[0;34m,\u001b[0m \u001b[0mvalues\u001b[0m\u001b[0;34m)\u001b[0m\u001b[0;34m\u001b[0m\u001b[0m\n\u001b[1;32m   2488\u001b[0m             \u001b[0mcache\u001b[0m\u001b[0;34m[\u001b[0m\u001b[0mitem\u001b[0m\u001b[0;34m]\u001b[0m \u001b[0;34m=\u001b[0m \u001b[0mres\u001b[0m\u001b[0;34m\u001b[0m\u001b[0m\n",
      "\u001b[0;32m/usr/local/lib/python2.7/dist-packages/pandas/core/internals.pyc\u001b[0m in \u001b[0;36mget\u001b[0;34m(self, item, fastpath)\u001b[0m\n\u001b[1;32m   4113\u001b[0m \u001b[0;34m\u001b[0m\u001b[0m\n\u001b[1;32m   4114\u001b[0m             \u001b[0;32mif\u001b[0m \u001b[0;32mnot\u001b[0m \u001b[0misna\u001b[0m\u001b[0;34m(\u001b[0m\u001b[0mitem\u001b[0m\u001b[0;34m)\u001b[0m\u001b[0;34m:\u001b[0m\u001b[0;34m\u001b[0m\u001b[0m\n\u001b[0;32m-> 4115\u001b[0;31m                 \u001b[0mloc\u001b[0m \u001b[0;34m=\u001b[0m \u001b[0mself\u001b[0m\u001b[0;34m.\u001b[0m\u001b[0mitems\u001b[0m\u001b[0;34m.\u001b[0m\u001b[0mget_loc\u001b[0m\u001b[0;34m(\u001b[0m\u001b[0mitem\u001b[0m\u001b[0;34m)\u001b[0m\u001b[0;34m\u001b[0m\u001b[0m\n\u001b[0m\u001b[1;32m   4116\u001b[0m             \u001b[0;32melse\u001b[0m\u001b[0;34m:\u001b[0m\u001b[0;34m\u001b[0m\u001b[0m\n\u001b[1;32m   4117\u001b[0m                 \u001b[0mindexer\u001b[0m \u001b[0;34m=\u001b[0m \u001b[0mnp\u001b[0m\u001b[0;34m.\u001b[0m\u001b[0marange\u001b[0m\u001b[0;34m(\u001b[0m\u001b[0mlen\u001b[0m\u001b[0;34m(\u001b[0m\u001b[0mself\u001b[0m\u001b[0;34m.\u001b[0m\u001b[0mitems\u001b[0m\u001b[0;34m)\u001b[0m\u001b[0;34m)\u001b[0m\u001b[0;34m[\u001b[0m\u001b[0misna\u001b[0m\u001b[0;34m(\u001b[0m\u001b[0mself\u001b[0m\u001b[0;34m.\u001b[0m\u001b[0mitems\u001b[0m\u001b[0;34m)\u001b[0m\u001b[0;34m]\u001b[0m\u001b[0;34m\u001b[0m\u001b[0m\n",
      "\u001b[0;32m/usr/local/lib/python2.7/dist-packages/pandas/core/indexes/base.pyc\u001b[0m in \u001b[0;36mget_loc\u001b[0;34m(self, key, method, tolerance)\u001b[0m\n\u001b[1;32m   3064\u001b[0m                 \u001b[0;32mreturn\u001b[0m \u001b[0mself\u001b[0m\u001b[0;34m.\u001b[0m\u001b[0m_engine\u001b[0m\u001b[0;34m.\u001b[0m\u001b[0mget_loc\u001b[0m\u001b[0;34m(\u001b[0m\u001b[0mkey\u001b[0m\u001b[0;34m)\u001b[0m\u001b[0;34m\u001b[0m\u001b[0m\n\u001b[1;32m   3065\u001b[0m             \u001b[0;32mexcept\u001b[0m \u001b[0mKeyError\u001b[0m\u001b[0;34m:\u001b[0m\u001b[0;34m\u001b[0m\u001b[0m\n\u001b[0;32m-> 3066\u001b[0;31m                 \u001b[0;32mreturn\u001b[0m \u001b[0mself\u001b[0m\u001b[0;34m.\u001b[0m\u001b[0m_engine\u001b[0m\u001b[0;34m.\u001b[0m\u001b[0mget_loc\u001b[0m\u001b[0;34m(\u001b[0m\u001b[0mself\u001b[0m\u001b[0;34m.\u001b[0m\u001b[0m_maybe_cast_indexer\u001b[0m\u001b[0;34m(\u001b[0m\u001b[0mkey\u001b[0m\u001b[0;34m)\u001b[0m\u001b[0;34m)\u001b[0m\u001b[0;34m\u001b[0m\u001b[0m\n\u001b[0m\u001b[1;32m   3067\u001b[0m \u001b[0;34m\u001b[0m\u001b[0m\n\u001b[1;32m   3068\u001b[0m         \u001b[0mindexer\u001b[0m \u001b[0;34m=\u001b[0m \u001b[0mself\u001b[0m\u001b[0;34m.\u001b[0m\u001b[0mget_indexer\u001b[0m\u001b[0;34m(\u001b[0m\u001b[0;34m[\u001b[0m\u001b[0mkey\u001b[0m\u001b[0;34m]\u001b[0m\u001b[0;34m,\u001b[0m \u001b[0mmethod\u001b[0m\u001b[0;34m=\u001b[0m\u001b[0mmethod\u001b[0m\u001b[0;34m,\u001b[0m \u001b[0mtolerance\u001b[0m\u001b[0;34m=\u001b[0m\u001b[0mtolerance\u001b[0m\u001b[0;34m)\u001b[0m\u001b[0;34m\u001b[0m\u001b[0m\n",
      "\u001b[0;32mpandas/_libs/index.pyx\u001b[0m in \u001b[0;36mpandas._libs.index.IndexEngine.get_loc\u001b[0;34m()\u001b[0m\n",
      "\u001b[0;32mpandas/_libs/index.pyx\u001b[0m in \u001b[0;36mpandas._libs.index.IndexEngine.get_loc\u001b[0;34m()\u001b[0m\n",
      "\u001b[0;32mpandas/_libs/hashtable_class_helper.pxi\u001b[0m in \u001b[0;36mpandas._libs.hashtable.PyObjectHashTable.get_item\u001b[0;34m()\u001b[0m\n",
      "\u001b[0;32mpandas/_libs/hashtable_class_helper.pxi\u001b[0m in \u001b[0;36mpandas._libs.hashtable.PyObjectHashTable.get_item\u001b[0;34m()\u001b[0m\n",
      "\u001b[0;31mKeyError\u001b[0m: 'id'"
     ]
    }
   ],
   "source": [
    "## =================================================================================================\n",
    "## ARMAMOS EN BASE A LA PREDICCIÓN QUE TENEMOS UN CSV PARA SUBIR A KAGGLE CON EL FORMATO INDICADO!\n",
    "## =================================================================================================\n",
    "submission = pd.DataFrame({ 'id': test['id'], 'target': prediccion })\n",
    "submission.to_csv(\"SUBMITS/007_G34_Lasso.csv\", index=False)"
   ]
  },
  {
   "cell_type": "code",
   "execution_count": null,
   "metadata": {},
   "outputs": [],
   "source": []
  }
 ],
 "metadata": {
  "kernelspec": {
   "display_name": "Python 2",
   "language": "python",
   "name": "python2"
  },
  "language_info": {
   "codemirror_mode": {
    "name": "ipython",
    "version": 2
   },
   "file_extension": ".py",
   "mimetype": "text/x-python",
   "name": "python",
   "nbconvert_exporter": "python",
   "pygments_lexer": "ipython2",
   "version": "2.7.14"
  }
 },
 "nbformat": 4,
 "nbformat_minor": 2
}
