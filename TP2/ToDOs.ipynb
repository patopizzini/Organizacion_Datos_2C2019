{
 "cells": [
  {
   "cell_type": "code",
   "execution_count": null,
   "metadata": {},
   "outputs": [],
   "source": [
    "#buscar_columnas\n",
    "#case! subir a mayusculas\n",
    "#sacar acentos!\n",
    "#encodearlas con label enc en 1 sola!\n",
    "\n",
    "#categorias que hizo andres por bandas 1 sola con label enc\n",
    "\n",
    "#precio/mˆ2\n",
    "\n",
    "#anio con one-hot encoding\n",
    "\n",
    "#tratar test\n",
    "#exportar ambos a CSV\n",
    "\n",
    "#graficos analisis de features, que aportan. ver tutorial."
   ]
  }
 ],
 "metadata": {
  "kernelspec": {
   "display_name": "Python 3",
   "language": "python",
   "name": "python3"
  },
  "language_info": {
   "codemirror_mode": {
    "name": "ipython",
    "version": 3
   },
   "file_extension": ".py",
   "mimetype": "text/x-python",
   "name": "python",
   "nbconvert_exporter": "python",
   "pygments_lexer": "ipython3",
   "version": "3.7.4"
  }
 },
 "nbformat": 4,
 "nbformat_minor": 4
}
