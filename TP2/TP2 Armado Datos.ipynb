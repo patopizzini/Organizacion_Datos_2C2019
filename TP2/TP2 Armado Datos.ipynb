{
 "cells": [
  {
   "cell_type": "markdown",
   "metadata": {},
   "source": [
    "### =====================================================================\n",
    "### IMPORTACIÓN GENERAL DE LA INFORMACIÓN.\n",
    "### ====================================================================="
   ]
  },
  {
   "cell_type": "code",
   "execution_count": 2,
   "metadata": {},
   "outputs": [],
   "source": [
    "## IMPORTACIÓN GENERAL DE LIBRERIAS Y VISUALIZACIÓN DE DATOS (matplotlib y seaborn)\n",
    "\n",
    "import pandas as pd\n",
    "import numpy as np\n",
    "import matplotlib.pyplot as plt\n",
    "import seaborn as sns\n",
    "import datetime as DT\n",
    "import warnings\n",
    "import descartes\n",
    "import geopandas as gpd\n",
    "import json\n",
    "import requests\n",
    "import geocoder\n",
    "\n",
    "from sklearn.ensemble import RandomForestRegressor\n",
    "from shapely.geometry import Point, Polygon\n",
    "from urllib2 import urlopen\n",
    "\n",
    "%matplotlib inline\n",
    "warnings.filterwarnings('ignore')\n",
    "plt.style.use('default') \n",
    "sns.set(style=\"whitegrid\") \n",
    "plt.rcParams['figure.figsize'] = (15, 10)"
   ]
  },
  {
   "cell_type": "code",
   "execution_count": 4,
   "metadata": {},
   "outputs": [],
   "source": [
    "#lEEMOS EL CSV\n",
    "train = pd.read_csv('../../DATA_TP2/train.csv')\n",
    "test = pd.read_csv('../../DATA_TP2/test.csv')\n",
    "respuesta = pd.read_csv('../../DATA_TP2/ejemploRespuesta.csv')"
   ]
  },
  {
   "cell_type": "markdown",
   "metadata": {},
   "source": [
    "### =====================================================================\n",
    "### PREPARACIÓN DE DATOS, FEATURE ENGINEERING.\n",
    "### ====================================================================="
   ]
  },
  {
   "cell_type": "code",
   "execution_count": 5,
   "metadata": {},
   "outputs": [],
   "source": [
    "train['excelente'] = 0\n",
    "train.loc[train.descripcion.str.contains('vigilancia', na=False), 'vigilancia'] = 1\n",
    "train['vigilancia'] = 0\n",
    "train.loc[train.descripcion.str.contains('excelente', na=False), 'excelente'] = 1\n",
    "train['esquina'] = 0\n",
    "train.loc[train.descripcion.str.contains('esquina', na=False), 'esquina'] = 1\n",
    "train['remodelada'] = 0\n",
    "train.loc[train.descripcion.str.contains('remodelada', na=False), 'remodelada'] = 1\n",
    "train['lujo'] = 0\n",
    "train.loc[train.descripcion.str.contains('lujo', na=False), 'lujo'] = 1"
   ]
  },
  {
   "cell_type": "code",
   "execution_count": 6,
   "metadata": {},
   "outputs": [],
   "source": [
    "train['lat'].fillna(0, inplace=True)\n",
    "train['lng'].fillna(0, inplace=True)"
   ]
  },
  {
   "cell_type": "code",
   "execution_count": 7,
   "metadata": {},
   "outputs": [],
   "source": [
    "train['antiguedad_agrupada'] = 0\n",
    "train.loc[train.antiguedad <= 5, 'antiguedad_agrupada'] = 0\n",
    "train.loc[((train.antiguedad > 5) & (train.antiguedad <= 15)), 'antiguedad_agrupada'] = 10\n",
    "train.loc[((train.antiguedad > 15) & (train.antiguedad <= 25)), 'antiguedad_agrupada'] = 20\n",
    "train.loc[((train.antiguedad > 25) & (train.antiguedad <= 35)), 'antiguedad_agrupada'] = 30\n",
    "train.loc[((train.antiguedad > 35) & (train.antiguedad <= 45)), 'antiguedad_agrupada'] = 40\n",
    "train.loc[((train.antiguedad > 45) & (train.antiguedad <= 55)), 'antiguedad_agrupada'] = 50\n",
    "train.loc[((train.antiguedad > 55) & (train.antiguedad <= 65)), 'antiguedad_agrupada'] = 60\n",
    "train.loc[((train.antiguedad > 65) & (train.antiguedad <= 75)), 'antiguedad_agrupada'] = 70\n",
    "train.loc[((train.antiguedad > 75) & (train.antiguedad <= 85)), 'antiguedad_agrupada'] = 80\n",
    "train.loc[((train.antiguedad > 85) & (train.antiguedad <= 95)), 'antiguedad_agrupada'] = 90\n",
    "train.loc[train.antiguedad > 95, 'antiguedad_agrupada'] = 100"
   ]
  },
  {
   "cell_type": "code",
   "execution_count": 8,
   "metadata": {},
   "outputs": [],
   "source": [
    "train['fecha'] = pd.to_datetime(train['fecha'], infer_datetime_format=True)\n",
    "train['mes'] = train['fecha'].dt.month\n",
    "train['dia'] = train['fecha'].dt.dayofweek\n",
    "train['anio'] = train['fecha'].dt.year"
   ]
  },
  {
   "cell_type": "code",
   "execution_count": 9,
   "metadata": {},
   "outputs": [],
   "source": [
    "train.loc[train.tipodepropiedad.str.contains('Comercial', na=False), 'tipodepropiedad'] = 'Comercio'\n",
    "train.loc[train.tipodepropiedad.str.contains('Casa en condominio', na=False), 'tipodepropiedad'] = 'Condominio'"
   ]
  },
  {
   "cell_type": "markdown",
   "metadata": {},
   "source": [
    "### =====================================================================\n",
    "### TRATAMIENTO SOBRE TEST.\n",
    "### ====================================================================="
   ]
  },
  {
   "cell_type": "code",
   "execution_count": 10,
   "metadata": {},
   "outputs": [],
   "source": [
    "test['excelente'] = 0\n",
    "test.loc[test.descripcion.str.contains('vigilancia', na=False), 'vigilancia'] = 1\n",
    "test['vigilancia'] = 0\n",
    "test.loc[test.descripcion.str.contains('excelente', na=False), 'excelente'] = 1\n",
    "test['esquina'] = 0\n",
    "test.loc[test.descripcion.str.contains('esquina', na=False), 'esquina'] = 1\n",
    "test['remodelada'] = 0\n",
    "test.loc[test.descripcion.str.contains('remodelada', na=False), 'remodelada'] = 1\n",
    "test['lujo'] = 0\n",
    "test.loc[test.descripcion.str.contains('lujo', na=False), 'lujo'] = 1"
   ]
  },
  {
   "cell_type": "code",
   "execution_count": 11,
   "metadata": {},
   "outputs": [],
   "source": [
    "test['lat'].fillna(0, inplace=True)\n",
    "test['lng'].fillna(0, inplace=True)"
   ]
  },
  {
   "cell_type": "code",
   "execution_count": 12,
   "metadata": {},
   "outputs": [],
   "source": [
    "test['antiguedad_agrupada'] = 0\n",
    "test.loc[test.antiguedad <= 5, 'antiguedad_agrupada'] = 0\n",
    "test.loc[((test.antiguedad > 5) & (test.antiguedad <= 15)), 'antiguedad_agrupada'] = 10\n",
    "test.loc[((test.antiguedad > 15) & (test.antiguedad <= 25)), 'antiguedad_agrupada'] = 20\n",
    "test.loc[((test.antiguedad > 25) & (test.antiguedad <= 35)), 'antiguedad_agrupada'] = 30\n",
    "test.loc[((test.antiguedad > 35) & (test.antiguedad <= 45)), 'antiguedad_agrupada'] = 40\n",
    "test.loc[((test.antiguedad > 45) & (test.antiguedad <= 55)), 'antiguedad_agrupada'] = 50\n",
    "test.loc[((test.antiguedad > 55) & (test.antiguedad <= 65)), 'antiguedad_agrupada'] = 60\n",
    "test.loc[((test.antiguedad > 65) & (test.antiguedad <= 75)), 'antiguedad_agrupada'] = 70\n",
    "test.loc[((test.antiguedad > 75) & (test.antiguedad <= 85)), 'antiguedad_agrupada'] = 80\n",
    "test.loc[((test.antiguedad > 85) & (test.antiguedad <= 95)), 'antiguedad_agrupada'] = 90\n",
    "test.loc[test.antiguedad > 95, 'antiguedad_agrupada'] = 100"
   ]
  },
  {
   "cell_type": "code",
   "execution_count": 13,
   "metadata": {},
   "outputs": [],
   "source": [
    "test['fecha'] = pd.to_datetime(test['fecha'], infer_datetime_format=True)\n",
    "test['mes'] = test['fecha'].dt.month\n",
    "test['dia'] = test['fecha'].dt.dayofweek\n",
    "test['anio'] = test['fecha'].dt.year"
   ]
  },
  {
   "cell_type": "code",
   "execution_count": 14,
   "metadata": {},
   "outputs": [],
   "source": [
    "test.loc[test.tipodepropiedad.str.contains('Comercial', na=False), 'tipodepropiedad'] = 'Comercio'\n",
    "test.loc[test.tipodepropiedad.str.contains('Casa en condominio', na=False), 'tipodepropiedad'] = 'Condominio'"
   ]
  },
  {
   "cell_type": "markdown",
   "metadata": {},
   "source": [
    "### =====================================================================\n",
    "### LIMPIEZA Y COLUMNAS RESULTANTES.\n",
    "### ====================================================================="
   ]
  },
  {
   "cell_type": "code",
   "execution_count": 15,
   "metadata": {},
   "outputs": [],
   "source": [
    "## ELIMINAMOS LAS COLUMNAS QUE NO SON NUMÉRICAS.\n",
    "## PERO TENERLAS PRESENTES PARA HACER UN TRABAJO POSTERIOR.\n",
    "\n",
    "train.drop('titulo', axis=1, inplace=True)\n",
    "train.drop('descripcion', axis=1, inplace=True)\n",
    "train.drop('tipodepropiedad', axis=1, inplace=True)\n",
    "train.drop('direccion', axis=1, inplace=True)\n",
    "train.drop('ciudad', axis=1, inplace=True)\n",
    "train.drop('provincia', axis=1, inplace=True)\n",
    "train.drop('fecha', axis=1, inplace=True)\n",
    "\n",
    "\n",
    "test.drop('titulo', axis=1, inplace=True)\n",
    "test.drop('descripcion', axis=1, inplace=True)\n",
    "test.drop('tipodepropiedad', axis=1, inplace=True)\n",
    "test.drop('direccion', axis=1, inplace=True)\n",
    "test.drop('ciudad', axis=1, inplace=True)\n",
    "test.drop('provincia', axis=1, inplace=True)\n",
    "test.drop('fecha', axis=1, inplace=True)"
   ]
  },
  {
   "cell_type": "code",
   "execution_count": 16,
   "metadata": {},
   "outputs": [],
   "source": [
    "## ELIMINAMOS COLUMNAS NUMÉRICAS QUE CARECEN DE SENTIDO.\n",
    "\n",
    "train.drop('idzona', axis=1, inplace=True)\n",
    "train.drop('lat', axis=1, inplace=True)\n",
    "train.drop('lng', axis=1, inplace=True)\n",
    "\n",
    "test.drop('idzona', axis=1, inplace=True)\n",
    "test.drop('lat', axis=1, inplace=True)\n",
    "test.drop('lng', axis=1, inplace=True)"
   ]
  },
  {
   "cell_type": "code",
   "execution_count": 17,
   "metadata": {},
   "outputs": [],
   "source": [
    "## LIMPIAMOS LOS VALORES NULOS O NAN QUE NO NOS SIRVEN. (CRITERIO)\n",
    "\n",
    "train.fillna(0, inplace=True)\n",
    "test.fillna(0, inplace=True)"
   ]
  },
  {
   "cell_type": "code",
   "execution_count": 18,
   "metadata": {},
   "outputs": [
    {
     "name": "stdout",
     "output_type": "stream",
     "text": [
      "<class 'pandas.core.frame.DataFrame'>\n",
      "RangeIndex: 240000 entries, 0 to 239999\n",
      "Data columns (total 22 columns):\n",
      "id                            240000 non-null int64\n",
      "antiguedad                    240000 non-null float64\n",
      "habitaciones                  240000 non-null float64\n",
      "garages                       240000 non-null float64\n",
      "banos                         240000 non-null float64\n",
      "metroscubiertos               240000 non-null float64\n",
      "metrostotales                 240000 non-null float64\n",
      "gimnasio                      240000 non-null float64\n",
      "usosmultiples                 240000 non-null float64\n",
      "piscina                       240000 non-null float64\n",
      "escuelascercanas              240000 non-null float64\n",
      "centroscomercialescercanos    240000 non-null float64\n",
      "precio                        240000 non-null float64\n",
      "excelente                     240000 non-null int64\n",
      "vigilancia                    240000 non-null int64\n",
      "esquina                       240000 non-null int64\n",
      "remodelada                    240000 non-null int64\n",
      "lujo                          240000 non-null int64\n",
      "antiguedad_agrupada           240000 non-null int64\n",
      "mes                           240000 non-null int64\n",
      "dia                           240000 non-null int64\n",
      "anio                          240000 non-null int64\n",
      "dtypes: float64(12), int64(10)\n",
      "memory usage: 40.3 MB\n"
     ]
    }
   ],
   "source": [
    "train.info()"
   ]
  },
  {
   "cell_type": "code",
   "execution_count": 19,
   "metadata": {},
   "outputs": [
    {
     "name": "stdout",
     "output_type": "stream",
     "text": [
      "<class 'pandas.core.frame.DataFrame'>\n",
      "RangeIndex: 60000 entries, 0 to 59999\n",
      "Data columns (total 21 columns):\n",
      "id                            60000 non-null int64\n",
      "antiguedad                    60000 non-null float64\n",
      "habitaciones                  60000 non-null float64\n",
      "garages                       60000 non-null float64\n",
      "banos                         60000 non-null float64\n",
      "metroscubiertos               60000 non-null float64\n",
      "metrostotales                 60000 non-null float64\n",
      "gimnasio                      60000 non-null float64\n",
      "usosmultiples                 60000 non-null float64\n",
      "piscina                       60000 non-null float64\n",
      "escuelascercanas              60000 non-null float64\n",
      "centroscomercialescercanos    60000 non-null float64\n",
      "excelente                     60000 non-null int64\n",
      "vigilancia                    60000 non-null int64\n",
      "esquina                       60000 non-null int64\n",
      "remodelada                    60000 non-null int64\n",
      "lujo                          60000 non-null int64\n",
      "antiguedad_agrupada           60000 non-null int64\n",
      "mes                           60000 non-null int64\n",
      "dia                           60000 non-null int64\n",
      "anio                          60000 non-null int64\n",
      "dtypes: float64(11), int64(10)\n",
      "memory usage: 9.6 MB\n"
     ]
    }
   ],
   "source": [
    "test.info()"
   ]
  },
  {
   "cell_type": "code",
   "execution_count": 21,
   "metadata": {},
   "outputs": [],
   "source": [
    "train.to_csv('DATA/train.csv', index=False)\n",
    "test.to_csv('DATA/test.csv', index=False)"
   ]
  },
  {
   "cell_type": "code",
   "execution_count": null,
   "metadata": {},
   "outputs": [],
   "source": []
  }
 ],
 "metadata": {
  "kernelspec": {
   "display_name": "Python 2",
   "language": "python",
   "name": "python2"
  },
  "language_info": {
   "codemirror_mode": {
    "name": "ipython",
    "version": 2
   },
   "file_extension": ".py",
   "mimetype": "text/x-python",
   "name": "python",
   "nbconvert_exporter": "python",
   "pygments_lexer": "ipython2",
   "version": "2.7.14"
  }
 },
 "nbformat": 4,
 "nbformat_minor": 2
}
