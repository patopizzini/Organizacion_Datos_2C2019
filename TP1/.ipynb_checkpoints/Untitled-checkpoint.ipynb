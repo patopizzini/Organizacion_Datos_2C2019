{
 "cells": [
  {
   "cell_type": "code",
   "execution_count": 1,
   "metadata": {},
   "outputs": [],
   "source": [
    "## IMPORTACIÓN GENERAL DE LIBRERIAS Y VISUALIZACIÓN DE DATOS (matplotlib y seaborn)\n",
    "import pandas as pd\n",
    "import numpy as np\n",
    "import matplotlib.pyplot as plt\n",
    "import seaborn as sns\n",
    "import datetime as DT\n",
    "import warnings\n",
    "%matplotlib inline\n",
    "warnings.filterwarnings('ignore')\n",
    "plt.style.use('default') \n",
    "sns.set(style=\"whitegrid\") \n",
    "plt.rcParams['figure.figsize'] = (15, 10)"
   ]
  },
  {
   "cell_type": "code",
   "execution_count": 2,
   "metadata": {},
   "outputs": [],
   "source": [
    "#Leemos el CSV\n",
    "zonaprop = pd.read_csv('../../train.csv')"
   ]
  },
  {
   "cell_type": "code",
   "execution_count": null,
   "metadata": {},
   "outputs": [],
   "source": [
    "zonaprop.info()"
   ]
  },
  {
   "cell_type": "code",
   "execution_count": null,
   "metadata": {},
   "outputs": [],
   "source": [
    "#Obtenemos las cantidades de propiedades con gimnasio\n",
    "conGimnasio = (zonaprop[zonaprop['gimnasio'] == 1]).gimnasio.count()\n",
    "sinGimnasio = (zonaprop[zonaprop['gimnasio'] == 0]).gimnasio.count()\n",
    "\n",
    "sizes = [sinGimnasio, conGimnasio]\n",
    "nombres = ['Sin Gimnasio','Con gimnasio']\n",
    "\n",
    "# Tamaño para hojas A4.\n",
    "plt.figure(figsize=(11.7, 8.27))\n",
    "plt.title('Porcentaje de propiedades que poseen gimnasio', fontsize=35)\n",
    "plt.pie(sizes, labels=nombres, autopct='%1.1f%%', shadow=True, startangle=90, explode=(0.1, 0))\n",
    "plt.show()"
   ]
  },
  {
   "cell_type": "code",
   "execution_count": null,
   "metadata": {},
   "outputs": [],
   "source": [
    "gimnasio_df = zonaprop.groupby(['metrostotales','gimnasio']).mean()[['precio']].reset_index()\n",
    "gimnasio_df['tiene_gimnasio'] = 'Sin Gimnasio'\n",
    "gimnasio_df.loc[gimnasio_df['gimnasio'] == 1,'tiene_gimnasio'] = 'Con Gimnasio'\n",
    "\n",
    "gimnasio_df['precio'] = gimnasio_df['precio']/10000000\n",
    "\n",
    "#Relacion metros cuadrados / precio promedio entre propiedades con y sin piscina\n",
    "\n",
    "# Tamaño para hojas A4.\n",
    "fig, ax = plt.subplots()\n",
    "fig.set_size_inches(11.7, 8.27)\n",
    "\n",
    "sns.lineplot(x=\"metrostotales\", y=\"precio\", data=gimnasio_df, hue=\"tiene_gimnasio\", color='blue')\n",
    "\n",
    "ax = plt.gca()\n",
    "ax.yaxis.set_major_formatter(tick.FuncFormatter(y_fmt))\n",
    "\n",
    "ax.set_title(\"Comparacion del precio promedio con y sin gimnasio\", fontsize=25)\n",
    "ax.set_xlabel(\"Metros Cuadrados\",fontsize=15)\n",
    "ax.set_ylabel(\"Precio (en millones de pesos)\", fontsize=15)"
   ]
  },
  {
   "cell_type": "code",
   "execution_count": null,
   "metadata": {},
   "outputs": [],
   "source": [
    "#Obtenemos las cantidades de propiedades con piscina\n",
    "conPiscina = (zonaprop[zonaprop['piscina'] == 1]).gimnasio.count()\n",
    "sinPiscina = (zonaprop[zonaprop['piscina'] == 0]).gimnasio.count()\n",
    "\n",
    "sizes = [sinPiscina, conPiscina]\n",
    "nombres = ['Sin piscina','Con piscina']\n",
    "\n",
    "# Tamaño para hojas A4.\n",
    "plt.figure(figsize=(11.7, 8.27))\n",
    "plt.title('Cantidad de propiedades que poseen piscina', fontsize=35)\n",
    "plt.pie(sizes, labels=nombres, autopct='%1.1f%%', shadow=True, startangle=90, explode=(0.1, 0))\n",
    "plt.show()"
   ]
  },
  {
   "cell_type": "code",
   "execution_count": null,
   "metadata": {},
   "outputs": [],
   "source": [
    "piscina_df = zonaprop.groupby(['metrostotales','piscina']).mean()[['precio']].reset_index()\n",
    "piscina_df['tiene_piscina'] = 'Sin Piscina'\n",
    "piscina_df.loc[piscina_df['piscina'] == 1,'tiene_piscina'] = 'Con Piscina'\n",
    "\n",
    "piscina_df['precio'] = piscina_df['precio']/10000000\n",
    "\n",
    "#Relacion metros cuadrados / precio promedio entre propiedades con y sin piscina\n",
    "\n",
    "# Tamaño para hojas A4.\n",
    "fig, ax = plt.subplots()\n",
    "fig.set_size_inches(11.7, 8.27)\n",
    "\n",
    "sns.lineplot(x=\"metrostotales\", y=\"precio\", data=piscina_df, hue=\"tiene_piscina\", color='blue')\n",
    "ax = plt.gca()\n",
    "ax.set_title(\"Comparacion del precio promedio con y sin piscina\", fontsize=25)\n",
    "ax.set_xlabel(\"Metros Cuadrados\",fontsize=15)\n",
    "ax.set_ylabel(\"Precio (en millones de pesos)\", fontsize=15)"
   ]
  },
  {
   "cell_type": "code",
   "execution_count": null,
   "metadata": {},
   "outputs": [],
   "source": [
    "zonaprop['habitaciones'].value_counts()"
   ]
  },
  {
   "cell_type": "code",
   "execution_count": null,
   "metadata": {},
   "outputs": [],
   "source": [
    "## GRAFICAMOS LA CANTIDAD DE GARAGES QUE TIENEN LAS PROPIEDADES.\n",
    "#zonaprop['garages'].value_counts()\n",
    "#2.0    94167\n",
    "#1.0    59464\n",
    "#0.0    26926\n",
    "#3.0    21678\n",
    "\n",
    "cantidad_de_garages_por_propiedad = list([0, 1, 2, 3])\n",
    "garagesdf = zonaprop[zonaprop['garages'].isin(cantidad_de_garages_por_propiedad)]\n",
    "garagesdf['garages'].value_counts()\n",
    "\n",
    "# Tamaño para hojas A4.\n",
    "fig, ax = plt.subplots()\n",
    "fig.set_size_inches(11.7, 8.27)\n",
    "\n",
    "g = sns.countplot(x=\"garages\", data=garagesdf, palette=\"hls\")\n",
    "g.set_title(\"Garages por propiedad\", fontsize=35)\n",
    "g.set_xlabel(\"Cantidad de garages\", fontsize=30)\n",
    "g.set_ylabel(\"Cantidad de propiedades\", fontsize=30)"
   ]
  },
  {
   "cell_type": "code",
   "execution_count": null,
   "metadata": {},
   "outputs": [],
   "source": [
    "## GRAFICAMOS LA CANTIDAD DE HABITACIONES QUE TIENEN LAS PROPIEDADES.\n",
    "#zonaprop['habitaciones'].value_counts()\n",
    "#3.0     121887\n",
    "#2.0      57808\n",
    "#4.0      25068\n",
    "#1.0       5069\n",
    "#5.0       4596\n",
    "\n",
    "cantidad_de_habitaciones_por_propiedad = list([0, 1, 2, 3, 4, 5])\n",
    "habitacionesdf = zonaprop[zonaprop['habitaciones'].isin(cantidad_de_habitaciones_por_propiedad)]\n",
    "habitacionesdf['garages'].value_counts()\n",
    "\n",
    "# Tamaño para hojas A4.\n",
    "fig, ax = plt.subplots()\n",
    "fig.set_size_inches(11.7, 8.27)\n",
    "\n",
    "g = sns.countplot(x=\"habitaciones\", data=habitacionesdf, palette=\"hls\")\n",
    "g.set_title(\"Habitaciones por propiedad\", fontsize=35)\n",
    "g.set_xlabel(\"Cantidad de habitaciones\", fontsize=30)\n",
    "g.set_ylabel(\"Cantidad de propiedades\", fontsize=30)"
   ]
  },
  {
   "cell_type": "code",
   "execution_count": null,
   "metadata": {},
   "outputs": [],
   "source": [
    "zonaprop['ciudad'].value_counts()"
   ]
  },
  {
   "cell_type": "code",
   "execution_count": null,
   "metadata": {},
   "outputs": [],
   "source": [
    "## GRAFICAMOS LOS DISTINTOS TIPOS DE PROPIEDADES.\n",
    "#zonaprop['tipodepropiedad'].value_counts()\n",
    "#Casa                             141717\n",
    "#Apartamento                       57341\n",
    "#Casa en condominio                19297\n",
    "#Terreno                            9945\n",
    "#Local Comercial                    3055\n",
    "#Oficina comercial                  1741\n",
    "#Bodega comercial                   1406\n",
    "#Edificio                           1396\n",
    "#Terreno comercial                  1326\n",
    "\n",
    "tiposDePropiedad = list([\"Casa\", \"Apartamento\", \"Casa en condominio\", \"Terreno\"])\n",
    "tiposDePropiedadf = zonaprop[zonaprop['tipodepropiedad'].isin(tiposDePropiedad)]\n",
    "tiposDePropiedadf['tipodepropiedad'].value_counts()\n",
    "\n",
    "# Tamaño para hojas A4.\n",
    "fig, ax = plt.subplots()\n",
    "fig.set_size_inches(11.7, 8.27)\n",
    "\n",
    "g = sns.countplot(x=\"tipodepropiedad\", data=tiposDePropiedadf, palette=\"hls\")\n",
    "g.set_title(\"Cantidad de diferentes propiedades\", fontsize=25)\n",
    "g.set_xlabel(\"Tipos de propiedades\", fontsize=20)\n",
    "g.set_ylabel(\"Cantidad de propiedades\", fontsize=20)"
   ]
  },
  {
   "cell_type": "code",
   "execution_count": null,
   "metadata": {},
   "outputs": [],
   "source": [
    "#Relacion metros cuadrados / precio promedio\n",
    "\n",
    "# Tamaño para hojas A4.\n",
    "fig, ax = plt.subplots()\n",
    "fig.set_size_inches(11.7, 8.27)\n",
    "\n",
    "metrosCuadrados_df = zonaprop.groupby(['provincia','metrostotales']).mean()[['precio']].reset_index()\n",
    "sns.lineplot(x=\"metrostotales\", y=\"precio\", data=metrosCuadrados_df, color='blue')\n",
    "ax = plt.gca()\n",
    "ax.set_title(\"Precio de las propiedades por metro cuadrado\", fontsize=35)\n",
    "ax.set_xlabel(\"Metros cuadrados\",fontsize=30)\n",
    "ax.set_ylabel(\"Precio\", fontsize=30)"
   ]
  },
  {
   "cell_type": "code",
   "execution_count": null,
   "metadata": {},
   "outputs": [],
   "source": [
    "metrosCuadrados_df = zonaprop.groupby(['habitaciones']).mean()[['metrostotales']].reset_index()\n",
    "\n",
    "# Tamaño para hojas A4.\n",
    "\n",
    "fig, ax = plt.subplots()\n",
    "fig.set_size_inches(11.7, 8.27)\n",
    "\n",
    "g = sns.barplot(x=\"habitaciones\", y=\"metrostotales\", data=metrosCuadrados_df, palette=\"hls\")\n",
    "g.set_title(\"Promedio de metros cuadrados x cantidad de habitaciones\", fontsize=25)\n",
    "g.set_xlabel(\"Cantidad de habitaciones\", fontsize=20)\n",
    "g.set_ylabel(\"Cantidad de metros cuadrados\", fontsize=20)"
   ]
  },
  {
   "cell_type": "code",
   "execution_count": null,
   "metadata": {},
   "outputs": [],
   "source": [
    "zonaprop['ciudad'].value_counts()"
   ]
  },
  {
   "cell_type": "code",
   "execution_count": null,
   "metadata": {},
   "outputs": [],
   "source": [
    "zonasMasPopulares = list([\"Querétaro\", \"Benito Juárez\"])\n",
    "zonasPopulares = zonaprop[zonaprop['ciudad'].isin(zonasMasPopulares)]\n",
    "zonasPopulares = zonasPopulares.groupby(['ciudad', 'metrostotales']).mean()[['precio']].reset_index()\n",
    "zonasPopulares['precio'] = zonasPopulares['precio']/10000000\n",
    "\n",
    "#Relacion metros cuadrados / precio promedio en las 2 ciudades con mas propiedades publicadas\n",
    "\n",
    "# Tamaño para hojas A4.\n",
    "fig, ax = plt.subplots()\n",
    "fig.set_size_inches(11.7, 8.27)\n",
    "\n",
    "sns.lineplot(x=\"metrostotales\", y=\"precio\", data=zonasPopulares, hue=\"ciudad\", color='blue')\n",
    "ax = plt.gca()\n",
    "ax.set_title(\"Comparacion del precio promedio segun metros cuadrados en las 2 ciudades con mas prop\", fontsize=25)\n",
    "ax.set_xlabel(\"Metros Cuadrados\",fontsize=15)\n",
    "ax.set_ylabel(\"Precio (en millones de pesos)\", fontsize=15)"
   ]
  },
  {
   "cell_type": "code",
   "execution_count": null,
   "metadata": {},
   "outputs": [],
   "source": [
    "#Obtenemos las cantidades de propiedades con gimnasio\n",
    "conAmenities = (zonaprop[zonaprop['gimnasio'] == 1])\n",
    "conAmenities = (conAmenities[conAmenities['piscina'] == 1]).piscina.count()\n",
    "sinAmenities = (zonaprop[zonaprop['gimnasio'] == 0])\n",
    "sinAmenities = (sinAmenities[sinAmenities['piscina'] == 1]).piscina.count()\n",
    "\n",
    "\n",
    "sizes = [sinAmenities, conAmenities]\n",
    "nombres = ['Sin Amenities','Con Amenities']\n",
    "\n",
    "# Tamaño para hojas A4.\n",
    "plt.figure(figsize=(11.7, 8.27))\n",
    "plt.title('Porcentaje de propiedades que poseen Amenities (Gimnasio y piscina)', fontsize=20)\n",
    "plt.pie(sizes, labels=nombres, autopct='%1.1f%%', shadow=True, startangle=90, explode=(0.1, 0))\n",
    "plt.show()"
   ]
  },
  {
   "cell_type": "code",
   "execution_count": null,
   "metadata": {},
   "outputs": [],
   "source": [
    "amenities_df = zonaprop.groupby(['metrostotales','gimnasio', 'piscina']).mean()[['precio']].reset_index()\n",
    "amenities_df['ambas'] = amenities_df['gimnasio'] + amenities_df['piscina']\n",
    "amenities_df['amenities'] = 'Sin Amenities'\n",
    "amenities_df.loc[amenities_df['ambas'] == 1,'amenities'] = 'Solo una amenitie'\n",
    "amenities_df.loc[amenities_df['ambas'] == 2,'amenities'] = 'Con Amenities'\n",
    "\n",
    "amenities_df['precio'] = amenities_df['precio']/10000000\n",
    "\n",
    "#Relacion metros cuadrados / precio promedio entre propiedades con y sin amenities\n",
    "\n",
    "# Tamaño para hojas A4.\n",
    "fig, ax = plt.subplots()\n",
    "fig.set_size_inches(11.7, 8.27)\n",
    "\n",
    "sns.lineplot(x=\"metrostotales\", y=\"precio\", data=amenities_df, hue=\"amenities\", color='blue')\n",
    "ax = plt.gca()\n",
    "ax.set_title(\"Comparacion del precio promedio con y sin amenities\", fontsize=25)\n",
    "ax.set_xlabel(\"Metros Cuadrados\",fontsize=15)\n",
    "ax.set_ylabel(\"Precio (en millones de pesos)\", fontsize=15)"
   ]
  },
  {
   "cell_type": "code",
   "execution_count": null,
   "metadata": {},
   "outputs": [],
   "source": [
    "zonaresidencial_df = zonaprop['provincia']\n",
    "zonaresidencial_df = zonaprop.loc[zonaprop['provincia'] == \"Distrito Federal\"]\n",
    "zonaresidencial_df\n",
    "\n",
    "zonaresidencial_df = zonaprop.groupby(['metrostotales','escuelascercanas', 'centroscomercialescercanos']).mean()[['precio']].reset_index()\n",
    "zonaresidencial_df['ambas'] = zonaresidencial_df['escuelascercanas'] + zonaresidencial_df['centroscomercialescercanos']\n",
    "zonaresidencial_df['residencial'] = 'Zona No Centrica'\n",
    "zonaresidencial_df.loc[zonaresidencial_df['ambas'] == 1,'residencial'] = 'No tan centrico'\n",
    "zonaresidencial_df.loc[zonaresidencial_df['ambas'] == 2,'residencial'] = 'Zona Centrica'\n",
    "\n",
    "zonaresidencial_df['precio'] = zonaresidencial_df['precio']/10000000\n",
    "\n",
    "#Relacion metros cuadrados / precio promedio zonas centricas del Distrito Federal\n",
    "\n",
    "# Tamaño para hojas A4.\n",
    "fig, ax = plt.subplots()\n",
    "fig.set_size_inches(11.7, 8.27)\n",
    "\n",
    "sns.lineplot(x=\"metrostotales\", y=\"precio\", data=zonaresidencial_df, hue=\"residencial\", color='blue')\n",
    "ax = plt.gca()\n",
    "ax.set_title(\"Comparacion del precio promedio en el Distrito Federal \\nrespecto a las zonas centricas\", fontsize=25)\n",
    "ax.set_xlabel(\"Metros Cuadrados\",fontsize=15)\n",
    "ax.set_ylabel(\"Precio (en millones de pesos)\", fontsize=15)"
   ]
  },
  {
   "cell_type": "code",
   "execution_count": null,
   "metadata": {},
   "outputs": [],
   "source": []
  }
 ],
 "metadata": {
  "kernelspec": {
   "display_name": "Python 3",
   "language": "python",
   "name": "python3"
  },
  "language_info": {
   "codemirror_mode": {
    "name": "ipython",
    "version": 3
   },
   "file_extension": ".py",
   "mimetype": "text/x-python",
   "name": "python",
   "nbconvert_exporter": "python",
   "pygments_lexer": "ipython3",
   "version": "3.7.1"
  }
 },
 "nbformat": 4,
 "nbformat_minor": 2
}
