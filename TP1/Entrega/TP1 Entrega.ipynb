{
 "cells": [
  {
   "cell_type": "markdown",
   "metadata": {},
   "source": [
    "# <strong style=\"font-size:20px\">75.06 - Organización de Datos</strong>\n",
    "<span style=\"font-size:15px\">TP1 - Análisis Exploratorio</span><br /><br />\n",
    "<span style=\"font-size:15px\">2C 2019</span><br />\n",
    "<span style=\"font-size:15px\">Grupo 34: \"DataTravellers\"</span><br /><br />\n",
    "<span style=\"font-size:15px\">Integrantes:</span>\n",
    "<span style=\"font-size:15px\">\n",
    "    <ul>\n",
    "        <li>Andrés Pablo Silvestri: 85881 (silvestri.andres@gmail.com)</li>\n",
    "        <li>Juan Manuel González: 79979 (juanmg0511@gmail.com)</li>\n",
    "        <li>Patricio Pizzini: 97524 (pizzinipatricio@yahoo.com.ar)</li>\n",
    "    </ul>\n",
    "</span>"
   ]
  },
  {
   "cell_type": "code",
   "execution_count": 1,
   "metadata": {},
   "outputs": [],
   "source": [
    "#Importación de librerías utilizadas\n",
    "import pandas as pd\n",
    "import numpy as np\n",
    "import matplotlib.pyplot as plt\n",
    "import seaborn as sns\n",
    "import warnings\n",
    "\n",
    "#Configuracón general del notebook\n",
    "%matplotlib inline\n",
    "pd.options.display.float_format = '{:20,.2f}'.format\n",
    "warnings.filterwarnings('ignore')\n",
    "\n",
    "#Estilo y tamaño de los gráficos\n",
    "plt.style.use('default')\n",
    "plt.rcParams['figure.figsize'] = (15, 10)\n",
    "sns.set(style=\"whitegrid\")"
   ]
  },
  {
   "cell_type": "code",
   "execution_count": 123,
   "metadata": {},
   "outputs": [],
   "source": [
    "#Lectura del CSV con los datos a explorar\n",
    "tp1_data =  pd.read_csv('Datos/train.csv')"
   ]
  },
  {
   "cell_type": "markdown",
   "metadata": {},
   "source": [
    "# <span style=\"font-size:18px\">1 - Introducción</span>\n",
    "<span style=\"font-size:15px\">1.1 - ¿De qué se encarga ZonaProp?</span>"
   ]
  },
  {
   "cell_type": "code",
   "execution_count": null,
   "metadata": {},
   "outputs": [],
   "source": []
  },
  {
   "cell_type": "markdown",
   "metadata": {},
   "source": [
    "# <span style=\"font-size:18px\">2 - Estructura y manejo de los datos</span>"
   ]
  },
  {
   "cell_type": "code",
   "execution_count": null,
   "metadata": {},
   "outputs": [],
   "source": []
  },
  {
   "cell_type": "markdown",
   "metadata": {},
   "source": [
    "# <span style=\"font-size:18px\">3 - Análisis demográfico y sobre la ubicación geográfica de las propiedades</span>\n",
    "<span style=\"font-size:15px\">3.1 - ¿Cuál es la distribución geográfica de las propiedades?</span><br />\n",
    "<span style=\"font-size:15px\">3.2 - ¿Cuáles son los estados con mayor cantidad de propiedas?</span><br />\n",
    "<span style=\"font-size:15px\">3.3 - ¿Cómo se distribuyen las propiedades en México DF?</span><br />\n",
    "<span style=\"font-size:15px\">3.4 - ¿Cómo se distribuyen las propiedades Edo. de México?</span><br />\n",
    "<span style=\"font-size:15px\">3.5 - ¿Cómo se distribuyen las propiedas en Jalisco?</span><br />\n",
    "<span style=\"font-size:15px\">3.6 - ¿Cómo se distribuyen las propiedas en Querétaro?</span><br />\n",
    "<span style=\"font-size:15px\">3.7 - ¿Cómo se distribuyen las propiedas en Nuevo León?</span><br />\n",
    "<span style=\"font-size:15px\">3.8 - ¿Cómo se distribuyen las propiedas en Puebla?</span><br />\n",
    "<span style=\"font-size:15px\">3.9 - ¿Cuáles son, para todo el territorio, las ciudades con mayor cantidad de propiedades?</span>"
   ]
  },
  {
   "cell_type": "code",
   "execution_count": null,
   "metadata": {},
   "outputs": [],
   "source": []
  },
  {
   "cell_type": "markdown",
   "metadata": {},
   "source": [
    "# <span style=\"font-size:18px\">4 - Análisis sobre los precios de las propiedades</span>\n",
    "<span style=\"font-size:15px\">4.1 - ¿Cuál fue la evolución del precio promedio de las propiedades en el tiempo?</span><br />\n",
    "<span style=\"font-size:15px\">4.2 - ¿Cuál fue la evolución del precio promedio de las propiedades por estado?</span><br /><span style=\"font-size:15px\">4.3 - ¿Cuál fue la evolución del precio promedio de las propiedades por ciudad?</span><br />\n",
    "<span style=\"font-size:15px\">4.4 - ¿Cuál fue la evolución del precio promedio por zona de México DF?</span><br />\n",
    "<span style=\"font-size:15px\">4.5 - ¿Cuál fue la evolución del precio promedio por tipo de propiedad?</span><br />\n",
    "<span style=\"font-size:15px\">4.6 - ¿Varía el precio de las propiedades de acuerdo al mes de publicación?</span><br />\n",
    "<span style=\"font-size:15px\">4.7 - ¿Cuál es el precio promedio por metro cuadrado</span><br />\n",
    "<span style=\"font-size:15px\">4.8 - ¿Cuál es el precio promedio por metro cuadrado para las dos ciudades con mayor cantidad de propiedades?</span><br />\n",
    "<span style=\"font-size:15px\">4.9 - ¿Cómo varía el precio de acuerdo a la distancia del centro de México DF?</span><br />\n",
    "<span style=\"font-size:15px\">4.10 - ¿Cuál es el precio promedio por metro cuadrado para las zonas de México DF?</span><br />\n",
    "<span style=\"font-size:15px\">4.11 - ¿Cómo varía el precio del metro cuadrado según la cantidad de habitaciones?</span><br />\n",
    "<span style=\"font-size:15px\">4.12 - ¿Cómo varían los precios de las propiedades con y sin amenities?</span><br />\n",
    "<span style=\"font-size:15px\">4.13 - ¿Cómo varían los precios de las propiedades con y sin gimnasio?</span><br />\n",
    "<span style=\"font-size:15px\">4.14 - ¿Cómo varían los precios de las propiedades con y sin piscina?</span><br />"
   ]
  },
  {
   "cell_type": "code",
   "execution_count": null,
   "metadata": {},
   "outputs": [],
   "source": []
  },
  {
   "cell_type": "markdown",
   "metadata": {},
   "source": [
    "# <span style=\"font-size:18px\">5 - Análisis sobre las características de las propiedades</span>\n",
    "<span style=\"font-size:15px\">5.1 - ¿Cómo se distribuyen las propiedas por tipo?</span><br />\n",
    "<span style=\"font-size:15px\">5.2 - ¿Cuál es la proporción de propiedades que cuentan con amenities?</span><br />\n",
    "<span style=\"font-size:15px\">5.3 - ¿Cuál es la proporción de propiedades que cuentan con gimnasio?</span><br />\n",
    "<span style=\"font-size:15px\">5.4 - ¿Cuál es la proporción de propiedades que cuentan con piscina?</span><br />\n",
    "<span style=\"font-size:15px\">5.5 - ¿Cómo se distribuyen las propiedades de acuerdo a la cantidad de garages que poseen?</span><br />\n",
    "<span style=\"font-size:15px\">5.6 - ¿Cómo se distribuyen las propiedades de acuerdo a la cantidad de habitaciones que poseen?</span><br />\n",
    "<span style=\"font-size:15px\">5.7 - ¿Cómo se distribuyen las propiedades de acuerdo a la cantidad de metros cuadrados que poseen?</span><br />\n",
    "<span style=\"font-size:15px\">5.8 - ¿Cuál es la relación entre la cantidad de habitaciones de una propiedad y su antigüedad?</span><br />\n",
    "<span style=\"font-size:15px\">5.9 - ¿Cúal es la relación entre la cantidad de habitaciones y el tipo de propiedad?</span>"
   ]
  },
  {
   "cell_type": "code",
   "execution_count": null,
   "metadata": {},
   "outputs": [],
   "source": []
  },
  {
   "cell_type": "markdown",
   "metadata": {},
   "source": [
    "# <span style=\"font-size:18px\">6 - Análisis sobre la actividad del sitio</span>\n",
    "<span style=\"font-size:15px\">6.1 - ¿Cuál es la cantidad de publicaciones por año?</span><br />\n",
    "<span style=\"font-size:15px\">6.2 - ¿Cúal es el promedio de publicaciones por mes?</span><br />\n",
    "<span style=\"font-size:15px\">6.3 - ¿Cúal es el promedio de publicaciones por día de la semana?</span><br />\n",
    "<span style=\"font-size:15px\">6.4 - ¿Cómo fue la evolución en la cantidad de publicaciones para las ciudades TOP?</span><br />\n",
    "<span style=\"font-size:15px\">6.5 - ¿Cómo fue la evolución en la cantidad de publicaciones de acuerdo al número de habitaciones?</span>"
   ]
  },
  {
   "cell_type": "code",
   "execution_count": null,
   "metadata": {},
   "outputs": [],
   "source": []
  },
  {
   "cell_type": "markdown",
   "metadata": {},
   "source": [
    "# <span style=\"font-size:18px\">7 - Conclusión</span>"
   ]
  },
  {
   "cell_type": "code",
   "execution_count": null,
   "metadata": {},
   "outputs": [],
   "source": []
  }
 ],
 "metadata": {
  "kernelspec": {
   "display_name": "Python 2",
   "language": "python",
   "name": "python2"
  },
  "language_info": {
   "codemirror_mode": {
    "name": "ipython",
    "version": 2
   },
   "file_extension": ".py",
   "mimetype": "text/x-python",
   "name": "python",
   "nbconvert_exporter": "python",
   "pygments_lexer": "ipython2",
   "version": "2.7.14"
  }
 },
 "nbformat": 4,
 "nbformat_minor": 2
}
