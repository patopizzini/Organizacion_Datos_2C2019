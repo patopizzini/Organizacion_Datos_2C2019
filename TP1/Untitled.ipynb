{
 "cells": [
  {
   "cell_type": "code",
   "execution_count": 1,
   "metadata": {},
   "outputs": [],
   "source": [
    "## IMPORTACIÓN GENERAL DE LIBRERIAS Y VISUALIZACIÓN DE DATOS (matplotlib y seaborn)\n",
    "import pandas as pd\n",
    "import numpy as np\n",
    "import matplotlib.pyplot as plt\n",
    "import seaborn as sns\n",
    "import datetime as DT\n",
    "import warnings\n",
    "%matplotlib inline\n",
    "warnings.filterwarnings('ignore')\n",
    "plt.style.use('default') \n",
    "sns.set(style=\"whitegrid\") \n",
    "plt.rcParams['figure.figsize'] = (15, 10)"
   ]
  },
  {
   "cell_type": "code",
   "execution_count": 2,
   "metadata": {},
   "outputs": [],
   "source": [
    "#Leemos el CSV\n",
    "zonaprop = pd.read_csv('../../train.csv')"
   ]
  },
  {
   "cell_type": "code",
   "execution_count": null,
   "metadata": {},
   "outputs": [],
   "source": [
    "zonaprop.info()"
   ]
  },
  {
   "cell_type": "code",
   "execution_count": null,
   "metadata": {},
   "outputs": [],
   "source": [
    "#Obtenemos las cantidades de propiedades con gimnasio\n",
    "conGimnasio = (zonaprop[zonaprop['gimnasio'] == 1]).gimnasio.count()\n",
    "sinGimnasio = (zonaprop[zonaprop['gimnasio'] == 0]).gimnasio.count()\n",
    "\n",
    "sizes = [sinGimnasio, conGimnasio]\n",
    "nombres = ['Sin Gimnasio','Con gimnasio']\n",
    "\n",
    "# Tamaño para hojas A4.\n",
    "plt.figure(figsize=(11.7, 8.27))\n",
    "plt.title('Porcentaje de propiedades que poseen gimnasio', fontsize=35)\n",
    "plt.pie(sizes, labels=nombres, autopct='%1.1f%%', shadow=True, startangle=90, explode=(0.1, 0))\n",
    "plt.show()"
   ]
  },
  {
   "cell_type": "code",
   "execution_count": null,
   "metadata": {},
   "outputs": [],
   "source": [
    "gimnasio_df = zonaprop.groupby(['metrostotales','gimnasio']).mean()[['precio']].reset_index()\n",
    "gimnasio_df['tiene_gimnasio'] = 'Sin Gimnasio'\n",
    "gimnasio_df.loc[gimnasio_df['gimnasio'] == 1,'tiene_gimnasio'] = 'Con Gimnasio'\n",
    "\n",
    "gimnasio_df['precio'] = gimnasio_df['precio']/10000000\n",
    "\n",
    "#Relacion metros cuadrados / precio promedio entre propiedades con y sin piscina\n",
    "\n",
    "# Tamaño para hojas A4.\n",
    "fig, ax = plt.subplots()\n",
    "fig.set_size_inches(11.7, 8.27)\n",
    "\n",
    "sns.lineplot(x=\"metrostotales\", y=\"precio\", data=gimnasio_df, hue=\"tiene_gimnasio\", color='blue')\n",
    "\n",
    "ax = plt.gca()\n",
    "ax.yaxis.set_major_formatter(tick.FuncFormatter(y_fmt))\n",
    "\n",
    "ax.set_title(\"Comparacion del precio promedio con y sin gimnasio\", fontsize=25)\n",
    "ax.set_xlabel(\"Metros Cuadrados\",fontsize=15)\n",
    "ax.set_ylabel(\"Precio (en millones de pesos)\", fontsize=15)"
   ]
  },
  {
   "cell_type": "code",
   "execution_count": null,
   "metadata": {},
   "outputs": [],
   "source": [
    "#Obtenemos las cantidades de propiedades con piscina\n",
    "conPiscina = (zonaprop[zonaprop['piscina'] == 1]).gimnasio.count()\n",
    "sinPiscina = (zonaprop[zonaprop['piscina'] == 0]).gimnasio.count()\n",
    "\n",
    "sizes = [sinPiscina, conPiscina]\n",
    "nombres = ['Sin piscina','Con piscina']\n",
    "\n",
    "# Tamaño para hojas A4.\n",
    "plt.figure(figsize=(11.7, 8.27))\n",
    "plt.title('Cantidad de propiedades que poseen piscina', fontsize=35)\n",
    "plt.pie(sizes, labels=nombres, autopct='%1.1f%%', shadow=True, startangle=90, explode=(0.1, 0))\n",
    "plt.show()"
   ]
  },
  {
   "cell_type": "code",
   "execution_count": null,
   "metadata": {},
   "outputs": [],
   "source": [
    "piscina_df = zonaprop.groupby(['metrostotales','piscina']).mean()[['precio']].reset_index()\n",
    "piscina_df['tiene_piscina'] = 'Sin Piscina'\n",
    "piscina_df.loc[piscina_df['piscina'] == 1,'tiene_piscina'] = 'Con Piscina'\n",
    "\n",
    "piscina_df['precio']\n",
    "\n",
    "#Relacion metros cuadrados / precio promedio entre propiedades con y sin piscina\n",
    "\n",
    "# Tamaño para hojas A4.\n",
    "fig, ax = plt.subplots()\n",
    "fig.set_size_inches(11.7, 8.27)\n",
    "\n",
    "sns.lineplot(x=\"metrostotales\", y=\"precio\", data=piscina_df, hue=\"tiene_piscina\", color='blue')\n",
    "ax = plt.gca()\n",
    "ax.set_title(\"Comparacion del precio promedio con y sin piscina\", fontsize=25)\n",
    "ax.set_xlabel(\"Metros Cuadrados\",fontsize=15)\n",
    "ax.set_ylabel(\"Precio\", fontsize=15)"
   ]
  },
  {
   "cell_type": "code",
   "execution_count": null,
   "metadata": {},
   "outputs": [],
   "source": []
  },
  {
   "cell_type": "code",
   "execution_count": null,
   "metadata": {},
   "outputs": [],
   "source": []
  },
  {
   "cell_type": "code",
   "execution_count": null,
   "metadata": {},
   "outputs": [],
   "source": []
  },
  {
   "cell_type": "code",
   "execution_count": null,
   "metadata": {},
   "outputs": [],
   "source": []
  },
  {
   "cell_type": "code",
   "execution_count": null,
   "metadata": {},
   "outputs": [],
   "source": []
  },
  {
   "cell_type": "code",
   "execution_count": null,
   "metadata": {},
   "outputs": [],
   "source": []
  },
  {
   "cell_type": "code",
   "execution_count": null,
   "metadata": {},
   "outputs": [],
   "source": []
  }
 ],
 "metadata": {
  "kernelspec": {
   "display_name": "Python 3",
   "language": "python",
   "name": "python3"
  },
  "language_info": {
   "codemirror_mode": {
    "name": "ipython",
    "version": 3
   },
   "file_extension": ".py",
   "mimetype": "text/x-python",
   "name": "python",
   "nbconvert_exporter": "python",
   "pygments_lexer": "ipython3",
   "version": "3.7.1"
  }
 },
 "nbformat": 4,
 "nbformat_minor": 2
}
